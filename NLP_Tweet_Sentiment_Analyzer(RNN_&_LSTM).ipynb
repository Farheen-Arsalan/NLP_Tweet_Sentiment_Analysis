{
 "cells": [
  {
   "cell_type": "markdown",
   "metadata": {
    "id": "C3gkt4KTJlUK"
   },
   "source": [
    "#**Tweet Sentiment Analysis using RNN and LSTM**"
   ]
  },
  {
   "cell_type": "code",
   "execution_count": 4,
   "metadata": {
    "id": "8GvOE8TRXYE6"
   },
   "outputs": [],
   "source": [
    "import pandas as pd\n",
    "import numpy as np\n",
    "import re\n",
    "import nltk\n",
    "\n",
    "import string\n",
    "from keras.layers import Dropout\n",
    "from nltk.tokenize import TweetTokenizer"
   ]
  },
  {
   "cell_type": "code",
   "execution_count": 13,
   "metadata": {
    "colab": {
     "base_uri": "https://localhost:8080/",
     "height": 424
    },
    "id": "QnW-tJ0eaOIn",
    "outputId": "d95448e1-9425-4676-f33a-1e596518bb20"
   },
   "outputs": [
    {
     "data": {
      "text/html": [
       "<div>\n",
       "<style scoped>\n",
       "    .dataframe tbody tr th:only-of-type {\n",
       "        vertical-align: middle;\n",
       "    }\n",
       "\n",
       "    .dataframe tbody tr th {\n",
       "        vertical-align: top;\n",
       "    }\n",
       "\n",
       "    .dataframe thead th {\n",
       "        text-align: right;\n",
       "    }\n",
       "</style>\n",
       "<table border=\"1\" class=\"dataframe\">\n",
       "  <thead>\n",
       "    <tr style=\"text-align: right;\">\n",
       "      <th></th>\n",
       "      <th>target</th>\n",
       "      <th>tweet</th>\n",
       "    </tr>\n",
       "  </thead>\n",
       "  <tbody>\n",
       "    <tr>\n",
       "      <th>0</th>\n",
       "      <td>0</td>\n",
       "      <td>@switchfoot http://twitpic.com/2y1zl - Awww, t...</td>\n",
       "    </tr>\n",
       "    <tr>\n",
       "      <th>1</th>\n",
       "      <td>0</td>\n",
       "      <td>is upset that he can't update his Facebook by ...</td>\n",
       "    </tr>\n",
       "    <tr>\n",
       "      <th>2</th>\n",
       "      <td>0</td>\n",
       "      <td>@Kenichan I dived many times for the ball. Man...</td>\n",
       "    </tr>\n",
       "    <tr>\n",
       "      <th>3</th>\n",
       "      <td>0</td>\n",
       "      <td>my whole body feels itchy and like its on fire</td>\n",
       "    </tr>\n",
       "    <tr>\n",
       "      <th>4</th>\n",
       "      <td>0</td>\n",
       "      <td>@nationwideclass no, it's not behaving at all....</td>\n",
       "    </tr>\n",
       "    <tr>\n",
       "      <th>...</th>\n",
       "      <td>...</td>\n",
       "      <td>...</td>\n",
       "    </tr>\n",
       "    <tr>\n",
       "      <th>101154</th>\n",
       "      <td>4</td>\n",
       "      <td>@jessikasay congrats on the followers</td>\n",
       "    </tr>\n",
       "    <tr>\n",
       "      <th>101155</th>\n",
       "      <td>4</td>\n",
       "      <td>@dannywood As in &amp;quot;back dat ass on up in h...</td>\n",
       "    </tr>\n",
       "    <tr>\n",
       "      <th>101156</th>\n",
       "      <td>4</td>\n",
       "      <td>School In about 12 minutes then I get picked u...</td>\n",
       "    </tr>\n",
       "    <tr>\n",
       "      <th>101157</th>\n",
       "      <td>4</td>\n",
       "      <td>@itsMeeeech -- sounds fun!</td>\n",
       "    </tr>\n",
       "    <tr>\n",
       "      <th>101158</th>\n",
       "      <td>4</td>\n",
       "      <td>Good morning everyone  Welcome to my new follo...</td>\n",
       "    </tr>\n",
       "  </tbody>\n",
       "</table>\n",
       "<p>101159 rows × 2 columns</p>\n",
       "</div>"
      ],
      "text/plain": [
       "        target                                              tweet\n",
       "0            0  @switchfoot http://twitpic.com/2y1zl - Awww, t...\n",
       "1            0  is upset that he can't update his Facebook by ...\n",
       "2            0  @Kenichan I dived many times for the ball. Man...\n",
       "3            0    my whole body feels itchy and like its on fire \n",
       "4            0  @nationwideclass no, it's not behaving at all....\n",
       "...        ...                                                ...\n",
       "101154       4             @jessikasay congrats on the followers \n",
       "101155       4  @dannywood As in &quot;back dat ass on up in h...\n",
       "101156       4  School In about 12 minutes then I get picked u...\n",
       "101157       4                        @itsMeeeech -- sounds fun! \n",
       "101158       4  Good morning everyone  Welcome to my new follo...\n",
       "\n",
       "[101159 rows x 2 columns]"
      ]
     },
     "execution_count": 13,
     "metadata": {},
     "output_type": "execute_result"
    }
   ],
   "source": [
    "df=pd.read_csv('TweetSentiment_60 (1).xlsx - Sheet1.csv')\n",
    "df"
   ]
  },
  {
   "cell_type": "markdown",
   "metadata": {
    "id": "YS1rHiqmZFbm"
   },
   "source": [
    "#Text Pre-processing"
   ]
  },
  {
   "cell_type": "code",
   "execution_count": 14,
   "metadata": {
    "id": "761IBcajG-P0"
   },
   "outputs": [],
   "source": [
    "df[\"tweet\"] = df[\"tweet\"].astype(str)"
   ]
  },
  {
   "cell_type": "markdown",
   "metadata": {
    "id": "rE-XoBW0Hvpl"
   },
   "source": [
    "###**Lower Casing**"
   ]
  },
  {
   "cell_type": "code",
   "execution_count": 15,
   "metadata": {
    "colab": {
     "base_uri": "https://localhost:8080/",
     "height": 206
    },
    "id": "yZIAM4GwHp8e",
    "outputId": "9c6e8802-c480-48ca-aa2f-1907664f58c9"
   },
   "outputs": [
    {
     "data": {
      "text/html": [
       "<div>\n",
       "<style scoped>\n",
       "    .dataframe tbody tr th:only-of-type {\n",
       "        vertical-align: middle;\n",
       "    }\n",
       "\n",
       "    .dataframe tbody tr th {\n",
       "        vertical-align: top;\n",
       "    }\n",
       "\n",
       "    .dataframe thead th {\n",
       "        text-align: right;\n",
       "    }\n",
       "</style>\n",
       "<table border=\"1\" class=\"dataframe\">\n",
       "  <thead>\n",
       "    <tr style=\"text-align: right;\">\n",
       "      <th></th>\n",
       "      <th>target</th>\n",
       "      <th>tweet</th>\n",
       "      <th>processed_tweets</th>\n",
       "    </tr>\n",
       "  </thead>\n",
       "  <tbody>\n",
       "    <tr>\n",
       "      <th>0</th>\n",
       "      <td>0</td>\n",
       "      <td>@switchfoot http://twitpic.com/2y1zl - Awww, t...</td>\n",
       "      <td>@switchfoot http://twitpic.com/2y1zl - awww, t...</td>\n",
       "    </tr>\n",
       "    <tr>\n",
       "      <th>1</th>\n",
       "      <td>0</td>\n",
       "      <td>is upset that he can't update his Facebook by ...</td>\n",
       "      <td>is upset that he can't update his facebook by ...</td>\n",
       "    </tr>\n",
       "    <tr>\n",
       "      <th>2</th>\n",
       "      <td>0</td>\n",
       "      <td>@Kenichan I dived many times for the ball. Man...</td>\n",
       "      <td>@kenichan i dived many times for the ball. man...</td>\n",
       "    </tr>\n",
       "    <tr>\n",
       "      <th>3</th>\n",
       "      <td>0</td>\n",
       "      <td>my whole body feels itchy and like its on fire</td>\n",
       "      <td>my whole body feels itchy and like its on fire</td>\n",
       "    </tr>\n",
       "    <tr>\n",
       "      <th>4</th>\n",
       "      <td>0</td>\n",
       "      <td>@nationwideclass no, it's not behaving at all....</td>\n",
       "      <td>@nationwideclass no, it's not behaving at all....</td>\n",
       "    </tr>\n",
       "  </tbody>\n",
       "</table>\n",
       "</div>"
      ],
      "text/plain": [
       "   target                                              tweet  \\\n",
       "0       0  @switchfoot http://twitpic.com/2y1zl - Awww, t...   \n",
       "1       0  is upset that he can't update his Facebook by ...   \n",
       "2       0  @Kenichan I dived many times for the ball. Man...   \n",
       "3       0    my whole body feels itchy and like its on fire    \n",
       "4       0  @nationwideclass no, it's not behaving at all....   \n",
       "\n",
       "                                    processed_tweets  \n",
       "0  @switchfoot http://twitpic.com/2y1zl - awww, t...  \n",
       "1  is upset that he can't update his facebook by ...  \n",
       "2  @kenichan i dived many times for the ball. man...  \n",
       "3    my whole body feels itchy and like its on fire   \n",
       "4  @nationwideclass no, it's not behaving at all....  "
      ]
     },
     "execution_count": 15,
     "metadata": {},
     "output_type": "execute_result"
    }
   ],
   "source": [
    "df[\"processed_tweets\"] = df[\"tweet\"].str.lower()\n",
    "df.head()"
   ]
  },
  {
   "cell_type": "code",
   "execution_count": null,
   "metadata": {
    "id": "9RlHCBgxH2qS"
   },
   "outputs": [],
   "source": []
  },
  {
   "cell_type": "code",
   "execution_count": 16,
   "metadata": {
    "colab": {
     "base_uri": "https://localhost:8080/"
    },
    "id": "JLOM-a0iJ0rC",
    "outputId": "e1eb85b4-2eb2-420d-d66d-eef1475cd31a"
   },
   "outputs": [
    {
     "name": "stdout",
     "output_type": "stream",
     "text": [
      "\n",
      "Original Tweet: @switchfoot http://twitpic.com/2y1zl - Awww, that's a bummer.  You shoulda got David Carr of Third Day to do it. ;D\n",
      "@switchfoot http://twitpic.com/2y1zl - awww, that's a bummer.  you shoulda got david carr of third day to do it. ;d\n"
     ]
    }
   ],
   "source": [
    "\n",
    "\n",
    "print(\"\\nOriginal Tweet:\",df['tweet'][0])\n",
    "print(df['processed_tweets'][0])\n"
   ]
  },
  {
   "cell_type": "code",
   "execution_count": null,
   "metadata": {
    "id": "Cil-nLteZ9o3"
   },
   "outputs": [],
   "source": []
  },
  {
   "cell_type": "code",
   "execution_count": 17,
   "metadata": {
    "colab": {
     "base_uri": "https://localhost:8080/"
    },
    "id": "YwgfI3eqba5Y",
    "outputId": "a2fdf865-1127-4faf-b5cf-7af5713589a1"
   },
   "outputs": [
    {
     "data": {
      "text/plain": [
       "101159"
      ]
     },
     "execution_count": 17,
     "metadata": {},
     "output_type": "execute_result"
    }
   ],
   "source": [
    "len(df['processed_tweets'])"
   ]
  },
  {
   "cell_type": "markdown",
   "metadata": {
    "id": "DkA3j05TIAim"
   },
   "source": [
    "###**Removal of @ and User names**"
   ]
  },
  {
   "cell_type": "markdown",
   "metadata": {
    "id": "jWQmnri2sejY"
   },
   "source": [
    "<!-- Tokenization -->"
   ]
  },
  {
   "cell_type": "code",
   "execution_count": 18,
   "metadata": {
    "colab": {
     "base_uri": "https://localhost:8080/"
    },
    "id": "RZIR1xmoNLPf",
    "outputId": "b46b418d-d350-4ed1-e14b-10d7afcfa856"
   },
   "outputs": [
    {
     "name": "stderr",
     "output_type": "stream",
     "text": [
      "C:\\Users\\Arsalan\\AppData\\Local\\Temp/ipykernel_18208/1261229339.py:7: SettingWithCopyWarning: \n",
      "A value is trying to be set on a copy of a slice from a DataFrame\n",
      "\n",
      "See the caveats in the documentation: https://pandas.pydata.org/pandas-docs/stable/user_guide/indexing.html#returning-a-view-versus-a-copy\n",
      "  df['processed_tweets'][a]=res\n"
     ]
    },
    {
     "name": "stdout",
     "output_type": "stream",
     "text": [
      "\n",
      "Tokenize a twitter text:\n",
      "0         http://twitpic.com/2y1zl - awww , that's a bum...\n",
      "1         is upset that he can't update his facebook by ...\n",
      "2         i dived many times for the ball . managed to s...\n",
      "3            my whole body feels itchy and like its on fire\n",
      "4         no , it's not behaving at all . i'm mad . why ...\n",
      "                                ...                        \n",
      "101154                            congrats on the followers\n",
      "101155    as in \" back dat ass on up in here for some fu...\n",
      "101156    school in about 12 minutes then i get picked u...\n",
      "101157                                     - - sounds fun !\n",
      "101158    good morning everyone welcome to my new follow...\n",
      "Name: processed_tweets, Length: 101159, dtype: object\n"
     ]
    }
   ],
   "source": [
    "tknzr = TweetTokenizer(strip_handles=True)\n",
    "\n",
    "for a in range(len(df['processed_tweets'])):\n",
    "\n",
    "  result = tknzr.tokenize(df['processed_tweets'][a])\n",
    "  res=\" \".join(result)\n",
    "  df['processed_tweets'][a]=res\n",
    "print(\"\\nTokenize a twitter text:\")\n",
    "print(df['processed_tweets'])\n"
   ]
  },
  {
   "cell_type": "code",
   "execution_count": 19,
   "metadata": {
    "colab": {
     "base_uri": "https://localhost:8080/",
     "height": 206
    },
    "id": "XPFoJsK0ONJV",
    "outputId": "927bab11-4492-484c-defa-0b582d0436c0"
   },
   "outputs": [
    {
     "data": {
      "text/html": [
       "<div>\n",
       "<style scoped>\n",
       "    .dataframe tbody tr th:only-of-type {\n",
       "        vertical-align: middle;\n",
       "    }\n",
       "\n",
       "    .dataframe tbody tr th {\n",
       "        vertical-align: top;\n",
       "    }\n",
       "\n",
       "    .dataframe thead th {\n",
       "        text-align: right;\n",
       "    }\n",
       "</style>\n",
       "<table border=\"1\" class=\"dataframe\">\n",
       "  <thead>\n",
       "    <tr style=\"text-align: right;\">\n",
       "      <th></th>\n",
       "      <th>target</th>\n",
       "      <th>tweet</th>\n",
       "      <th>processed_tweets</th>\n",
       "    </tr>\n",
       "  </thead>\n",
       "  <tbody>\n",
       "    <tr>\n",
       "      <th>0</th>\n",
       "      <td>0</td>\n",
       "      <td>@switchfoot http://twitpic.com/2y1zl - Awww, t...</td>\n",
       "      <td>http://twitpic.com/2y1zl - awww , that's a bum...</td>\n",
       "    </tr>\n",
       "    <tr>\n",
       "      <th>1</th>\n",
       "      <td>0</td>\n",
       "      <td>is upset that he can't update his Facebook by ...</td>\n",
       "      <td>is upset that he can't update his facebook by ...</td>\n",
       "    </tr>\n",
       "    <tr>\n",
       "      <th>2</th>\n",
       "      <td>0</td>\n",
       "      <td>@Kenichan I dived many times for the ball. Man...</td>\n",
       "      <td>i dived many times for the ball . managed to s...</td>\n",
       "    </tr>\n",
       "    <tr>\n",
       "      <th>3</th>\n",
       "      <td>0</td>\n",
       "      <td>my whole body feels itchy and like its on fire</td>\n",
       "      <td>my whole body feels itchy and like its on fire</td>\n",
       "    </tr>\n",
       "    <tr>\n",
       "      <th>4</th>\n",
       "      <td>0</td>\n",
       "      <td>@nationwideclass no, it's not behaving at all....</td>\n",
       "      <td>no , it's not behaving at all . i'm mad . why ...</td>\n",
       "    </tr>\n",
       "  </tbody>\n",
       "</table>\n",
       "</div>"
      ],
      "text/plain": [
       "   target                                              tweet  \\\n",
       "0       0  @switchfoot http://twitpic.com/2y1zl - Awww, t...   \n",
       "1       0  is upset that he can't update his Facebook by ...   \n",
       "2       0  @Kenichan I dived many times for the ball. Man...   \n",
       "3       0    my whole body feels itchy and like its on fire    \n",
       "4       0  @nationwideclass no, it's not behaving at all....   \n",
       "\n",
       "                                    processed_tweets  \n",
       "0  http://twitpic.com/2y1zl - awww , that's a bum...  \n",
       "1  is upset that he can't update his facebook by ...  \n",
       "2  i dived many times for the ball . managed to s...  \n",
       "3     my whole body feels itchy and like its on fire  \n",
       "4  no , it's not behaving at all . i'm mad . why ...  "
      ]
     },
     "execution_count": 19,
     "metadata": {},
     "output_type": "execute_result"
    }
   ],
   "source": [
    "df.head()"
   ]
  },
  {
   "cell_type": "markdown",
   "metadata": {
    "id": "B-lgn2bDtFcw"
   },
   "source": [
    "###**Remove Punctuations**"
   ]
  },
  {
   "cell_type": "code",
   "execution_count": 20,
   "metadata": {
    "colab": {
     "base_uri": "https://localhost:8080/",
     "height": 206
    },
    "id": "VyjXaoXGX-XX",
    "outputId": "948f3a33-8e4e-4346-c98a-cdb8284ff5aa"
   },
   "outputs": [
    {
     "data": {
      "text/html": [
       "<div>\n",
       "<style scoped>\n",
       "    .dataframe tbody tr th:only-of-type {\n",
       "        vertical-align: middle;\n",
       "    }\n",
       "\n",
       "    .dataframe tbody tr th {\n",
       "        vertical-align: top;\n",
       "    }\n",
       "\n",
       "    .dataframe thead th {\n",
       "        text-align: right;\n",
       "    }\n",
       "</style>\n",
       "<table border=\"1\" class=\"dataframe\">\n",
       "  <thead>\n",
       "    <tr style=\"text-align: right;\">\n",
       "      <th></th>\n",
       "      <th>target</th>\n",
       "      <th>tweet</th>\n",
       "      <th>processed_tweets</th>\n",
       "    </tr>\n",
       "  </thead>\n",
       "  <tbody>\n",
       "    <tr>\n",
       "      <th>0</th>\n",
       "      <td>0</td>\n",
       "      <td>@switchfoot http://twitpic.com/2y1zl - Awww, t...</td>\n",
       "      <td>httptwitpiccom2y1zl  awww  thats a bummer  you...</td>\n",
       "    </tr>\n",
       "    <tr>\n",
       "      <th>1</th>\n",
       "      <td>0</td>\n",
       "      <td>is upset that he can't update his Facebook by ...</td>\n",
       "      <td>is upset that he cant update his facebook by t...</td>\n",
       "    </tr>\n",
       "    <tr>\n",
       "      <th>2</th>\n",
       "      <td>0</td>\n",
       "      <td>@Kenichan I dived many times for the ball. Man...</td>\n",
       "      <td>i dived many times for the ball  managed to sa...</td>\n",
       "    </tr>\n",
       "    <tr>\n",
       "      <th>3</th>\n",
       "      <td>0</td>\n",
       "      <td>my whole body feels itchy and like its on fire</td>\n",
       "      <td>my whole body feels itchy and like its on fire</td>\n",
       "    </tr>\n",
       "    <tr>\n",
       "      <th>4</th>\n",
       "      <td>0</td>\n",
       "      <td>@nationwideclass no, it's not behaving at all....</td>\n",
       "      <td>no  its not behaving at all  im mad  why am i ...</td>\n",
       "    </tr>\n",
       "  </tbody>\n",
       "</table>\n",
       "</div>"
      ],
      "text/plain": [
       "   target                                              tweet  \\\n",
       "0       0  @switchfoot http://twitpic.com/2y1zl - Awww, t...   \n",
       "1       0  is upset that he can't update his Facebook by ...   \n",
       "2       0  @Kenichan I dived many times for the ball. Man...   \n",
       "3       0    my whole body feels itchy and like its on fire    \n",
       "4       0  @nationwideclass no, it's not behaving at all....   \n",
       "\n",
       "                                    processed_tweets  \n",
       "0  httptwitpiccom2y1zl  awww  thats a bummer  you...  \n",
       "1  is upset that he cant update his facebook by t...  \n",
       "2  i dived many times for the ball  managed to sa...  \n",
       "3     my whole body feels itchy and like its on fire  \n",
       "4  no  its not behaving at all  im mad  why am i ...  "
      ]
     },
     "execution_count": 20,
     "metadata": {},
     "output_type": "execute_result"
    }
   ],
   "source": [
    "# drop the new column created in last cell\n",
    "\n",
    "PUNCT_TO_REMOVE = string.punctuation\n",
    "def remove_punctuation(text):\n",
    "    \"\"\"custom function to remove the punctuation\"\"\"\n",
    "    return text.translate(str.maketrans('', '', PUNCT_TO_REMOVE))\n",
    "\n",
    "df[\"processed_tweets\"] = df[\"processed_tweets\"].apply(lambda text: remove_punctuation(text))\n",
    "df.head()"
   ]
  },
  {
   "cell_type": "markdown",
   "metadata": {
    "id": "dol3gKZWeXwK"
   },
   "source": [
    "###**Remove URLs**"
   ]
  },
  {
   "cell_type": "code",
   "execution_count": 21,
   "metadata": {
    "id": "xe8MBpG2ddEK"
   },
   "outputs": [],
   "source": [
    "def remove_URL(sample):\n",
    "    \"\"\"Remove URLs from a sample string\"\"\"\n",
    "    return re.sub(r\"http\\S+\", \"\", sample)\n",
    "\n",
    "# def remove_urls(text):\n",
    "#     url_pattern = re.compile(r'https?://\\S+|www\\.\\S+')\n",
    "#     return url_pattern.sub(r'', text)"
   ]
  },
  {
   "cell_type": "code",
   "execution_count": 22,
   "metadata": {
    "colab": {
     "base_uri": "https://localhost:8080/"
    },
    "id": "evmAyptXeaVw",
    "outputId": "28f1b616-6e39-4f83-f202-29278b5034cd"
   },
   "outputs": [
    {
     "name": "stderr",
     "output_type": "stream",
     "text": [
      "C:\\Users\\Arsalan\\AppData\\Local\\Temp/ipykernel_18208/2428592213.py:6: SettingWithCopyWarning: \n",
      "A value is trying to be set on a copy of a slice from a DataFrame\n",
      "\n",
      "See the caveats in the documentation: https://pandas.pydata.org/pandas-docs/stable/user_guide/indexing.html#returning-a-view-versus-a-copy\n",
      "  df['processed_tweets'][a]=result\n"
     ]
    },
    {
     "name": "stdout",
     "output_type": "stream",
     "text": [
      "No URLs:\n",
      "good morning everyone welcome to my new followers and    big hug    to everyone  hope your monday morning is moving along spectacularly \n"
     ]
    }
   ],
   "source": [
    "tknzr = TweetTokenizer(strip_handles=True)\n",
    "\n",
    "for a in range(len(df['processed_tweets'])):\n",
    "\n",
    "  result = remove_URL(df['processed_tweets'][a])\n",
    "  df['processed_tweets'][a]=result\n",
    "print(\"No URLs:\")\n",
    "print(result)\n"
   ]
  },
  {
   "cell_type": "code",
   "execution_count": 23,
   "metadata": {
    "colab": {
     "base_uri": "https://localhost:8080/",
     "height": 206
    },
    "id": "1JJUenJAe_N3",
    "outputId": "a3521400-4242-443d-ae89-31fa0a4b6ba9"
   },
   "outputs": [
    {
     "data": {
      "text/html": [
       "<div>\n",
       "<style scoped>\n",
       "    .dataframe tbody tr th:only-of-type {\n",
       "        vertical-align: middle;\n",
       "    }\n",
       "\n",
       "    .dataframe tbody tr th {\n",
       "        vertical-align: top;\n",
       "    }\n",
       "\n",
       "    .dataframe thead th {\n",
       "        text-align: right;\n",
       "    }\n",
       "</style>\n",
       "<table border=\"1\" class=\"dataframe\">\n",
       "  <thead>\n",
       "    <tr style=\"text-align: right;\">\n",
       "      <th></th>\n",
       "      <th>target</th>\n",
       "      <th>tweet</th>\n",
       "      <th>processed_tweets</th>\n",
       "    </tr>\n",
       "  </thead>\n",
       "  <tbody>\n",
       "    <tr>\n",
       "      <th>0</th>\n",
       "      <td>0</td>\n",
       "      <td>@switchfoot http://twitpic.com/2y1zl - Awww, t...</td>\n",
       "      <td>awww  thats a bummer  you shoulda got david ...</td>\n",
       "    </tr>\n",
       "    <tr>\n",
       "      <th>1</th>\n",
       "      <td>0</td>\n",
       "      <td>is upset that he can't update his Facebook by ...</td>\n",
       "      <td>is upset that he cant update his facebook by t...</td>\n",
       "    </tr>\n",
       "    <tr>\n",
       "      <th>2</th>\n",
       "      <td>0</td>\n",
       "      <td>@Kenichan I dived many times for the ball. Man...</td>\n",
       "      <td>i dived many times for the ball  managed to sa...</td>\n",
       "    </tr>\n",
       "    <tr>\n",
       "      <th>3</th>\n",
       "      <td>0</td>\n",
       "      <td>my whole body feels itchy and like its on fire</td>\n",
       "      <td>my whole body feels itchy and like its on fire</td>\n",
       "    </tr>\n",
       "    <tr>\n",
       "      <th>4</th>\n",
       "      <td>0</td>\n",
       "      <td>@nationwideclass no, it's not behaving at all....</td>\n",
       "      <td>no  its not behaving at all  im mad  why am i ...</td>\n",
       "    </tr>\n",
       "  </tbody>\n",
       "</table>\n",
       "</div>"
      ],
      "text/plain": [
       "   target                                              tweet  \\\n",
       "0       0  @switchfoot http://twitpic.com/2y1zl - Awww, t...   \n",
       "1       0  is upset that he can't update his Facebook by ...   \n",
       "2       0  @Kenichan I dived many times for the ball. Man...   \n",
       "3       0    my whole body feels itchy and like its on fire    \n",
       "4       0  @nationwideclass no, it's not behaving at all....   \n",
       "\n",
       "                                    processed_tweets  \n",
       "0    awww  thats a bummer  you shoulda got david ...  \n",
       "1  is upset that he cant update his facebook by t...  \n",
       "2  i dived many times for the ball  managed to sa...  \n",
       "3     my whole body feels itchy and like its on fire  \n",
       "4  no  its not behaving at all  im mad  why am i ...  "
      ]
     },
     "execution_count": 23,
     "metadata": {},
     "output_type": "execute_result"
    }
   ],
   "source": [
    "df.head()"
   ]
  },
  {
   "cell_type": "markdown",
   "metadata": {
    "id": "mv1bt-U4jOLA"
   },
   "source": [
    "###**Remove Emojis**"
   ]
  },
  {
   "cell_type": "code",
   "execution_count": 24,
   "metadata": {
    "colab": {
     "base_uri": "https://localhost:8080/",
     "height": 35
    },
    "id": "UqHv0WPPf1Wt",
    "outputId": "ad9d57f2-42bb-4927-ceb3-6d4699b34eaa"
   },
   "outputs": [
    {
     "data": {
      "text/plain": [
       "'game is on '"
      ]
     },
     "execution_count": 24,
     "metadata": {},
     "output_type": "execute_result"
    }
   ],
   "source": [
    "# Reference : https://gist.github.com/slowkow/7a7f61f495e3dbb7e3d767f97bd7304b\n",
    "def remove_emoji(string):\n",
    "    emoji_pattern = re.compile(\"[\"\n",
    "                           u\"\\U0001F600-\\U0001F64F\"  # emoticons\n",
    "                           u\"\\U0001F300-\\U0001F5FF\"  # symbols & pictographs\n",
    "                           u\"\\U0001F680-\\U0001F6FF\"  # transport & map symbols\n",
    "                           u\"\\U0001F1E0-\\U0001F1FF\"  # flags (iOS)\n",
    "                           u\"\\U00002702-\\U000027B0\"\n",
    "                           u\"\\U000024C2-\\U0001F251\"\n",
    "                           \"]+\", flags=re.UNICODE)\n",
    "    return emoji_pattern.sub(r'', string)\n",
    "\n",
    "remove_emoji(\"game is on 🔥🔥\")"
   ]
  },
  {
   "cell_type": "code",
   "execution_count": 25,
   "metadata": {
    "colab": {
     "base_uri": "https://localhost:8080/"
    },
    "id": "hOx6FEmViNm2",
    "outputId": "9fd0235c-4bd1-46b8-8e72-4f829e2cdc83"
   },
   "outputs": [
    {
     "name": "stderr",
     "output_type": "stream",
     "text": [
      "C:\\Users\\Arsalan\\AppData\\Local\\Temp/ipykernel_18208/3538435685.py:4: SettingWithCopyWarning: \n",
      "A value is trying to be set on a copy of a slice from a DataFrame\n",
      "\n",
      "See the caveats in the documentation: https://pandas.pydata.org/pandas-docs/stable/user_guide/indexing.html#returning-a-view-versus-a-copy\n",
      "  df['processed_tweets'][a]=result\n"
     ]
    }
   ],
   "source": [
    "for a in range(len(df['processed_tweets'])):\n",
    "\n",
    "  result = remove_emoji(df['processed_tweets'][a])\n",
    "  df['processed_tweets'][a]=result\n",
    "  "
   ]
  },
  {
   "cell_type": "markdown",
   "metadata": {
    "id": "-YEDyZ8yjWCT"
   },
   "source": [
    "###**Removal of Emoticons¶**\n"
   ]
  },
  {
   "cell_type": "code",
   "execution_count": 26,
   "metadata": {
    "id": "hG9AwKh_iWQA"
   },
   "outputs": [],
   "source": [
    "# Thanks : https://github.com/NeelShah18/emot/blob/master/emot/emo_unicode.py\n",
    "EMOTICONS = {\n",
    "    u\":‑\\)\":\"Happy face or smiley\",\n",
    "    u\":\\)\":\"Happy face or smiley\",\n",
    "    u\":-\\]\":\"Happy face or smiley\",\n",
    "    u\":\\]\":\"Happy face or smiley\",\n",
    "    u\":-3\":\"Happy face smiley\",\n",
    "    u\":3\":\"Happy face smiley\",\n",
    "    u\":->\":\"Happy face smiley\",\n",
    "    u\":>\":\"Happy face smiley\",\n",
    "    u\"8-\\)\":\"Happy face smiley\",\n",
    "    u\":o\\)\":\"Happy face smiley\",\n",
    "    u\":-\\}\":\"Happy face smiley\",\n",
    "    u\":\\}\":\"Happy face smiley\",\n",
    "    u\":-\\)\":\"Happy face smiley\",\n",
    "    u\":c\\)\":\"Happy face smiley\",\n",
    "    u\":\\^\\)\":\"Happy face smiley\",\n",
    "    u\"=\\]\":\"Happy face smiley\",\n",
    "    u\"=\\)\":\"Happy face smiley\",\n",
    "    u\":‑D\":\"Laughing, big grin or laugh with glasses\",\n",
    "    u\":D\":\"Laughing, big grin or laugh with glasses\",\n",
    "    u\"8‑D\":\"Laughing, big grin or laugh with glasses\",\n",
    "    u\"8D\":\"Laughing, big grin or laugh with glasses\",\n",
    "    u\"X‑D\":\"Laughing, big grin or laugh with glasses\",\n",
    "    u\"XD\":\"Laughing, big grin or laugh with glasses\",\n",
    "    u\"=D\":\"Laughing, big grin or laugh with glasses\",\n",
    "    u\"=3\":\"Laughing, big grin or laugh with glasses\",\n",
    "    u\"B\\^D\":\"Laughing, big grin or laugh with glasses\",\n",
    "    u\":-\\)\\)\":\"Very happy\",\n",
    "    u\":‑\\(\":\"Frown, sad, andry or pouting\",\n",
    "    u\":-\\(\":\"Frown, sad, andry or pouting\",\n",
    "    u\":\\(\":\"Frown, sad, andry or pouting\",\n",
    "    u\":‑c\":\"Frown, sad, andry or pouting\",\n",
    "    u\":c\":\"Frown, sad, andry or pouting\",\n",
    "    u\":‑<\":\"Frown, sad, andry or pouting\",\n",
    "    u\":<\":\"Frown, sad, andry or pouting\",\n",
    "    u\":‑\\[\":\"Frown, sad, andry or pouting\",\n",
    "    u\":\\[\":\"Frown, sad, andry or pouting\",\n",
    "    u\":-\\|\\|\":\"Frown, sad, andry or pouting\",\n",
    "    u\">:\\[\":\"Frown, sad, andry or pouting\",\n",
    "    u\":\\{\":\"Frown, sad, andry or pouting\",\n",
    "    u\":@\":\"Frown, sad, andry or pouting\",\n",
    "    u\">:\\(\":\"Frown, sad, andry or pouting\",\n",
    "    u\":'‑\\(\":\"Crying\",\n",
    "    u\":'\\(\":\"Crying\",\n",
    "    u\":'‑\\)\":\"Tears of happiness\",\n",
    "    u\":'\\)\":\"Tears of happiness\",\n",
    "    u\"D‑':\":\"Horror\",\n",
    "    u\"D:<\":\"Disgust\",\n",
    "    u\"D:\":\"Sadness\",\n",
    "    u\"D8\":\"Great dismay\",\n",
    "    u\"D;\":\"Great dismay\",\n",
    "    u\"D=\":\"Great dismay\",\n",
    "    u\"DX\":\"Great dismay\",\n",
    "    u\":‑O\":\"Surprise\",\n",
    "    u\":O\":\"Surprise\",\n",
    "    u\":‑o\":\"Surprise\",\n",
    "    u\":o\":\"Surprise\",\n",
    "    u\":-0\":\"Shock\",\n",
    "    u\"8‑0\":\"Yawn\",\n",
    "    u\">:O\":\"Yawn\",\n",
    "    u\":-\\*\":\"Kiss\",\n",
    "    u\":\\*\":\"Kiss\",\n",
    "    u\":X\":\"Kiss\",\n",
    "    u\";‑\\)\":\"Wink or smirk\",\n",
    "    u\";\\)\":\"Wink or smirk\",\n",
    "    u\"\\*-\\)\":\"Wink or smirk\",\n",
    "    u\"\\*\\)\":\"Wink or smirk\",\n",
    "    u\";‑\\]\":\"Wink or smirk\",\n",
    "    u\";\\]\":\"Wink or smirk\",\n",
    "    u\";\\^\\)\":\"Wink or smirk\",\n",
    "    u\":‑,\":\"Wink or smirk\",\n",
    "    u\";D\":\"Wink or smirk\",\n",
    "    u\":‑P\":\"Tongue sticking out, cheeky, playful or blowing a raspberry\",\n",
    "    u\":P\":\"Tongue sticking out, cheeky, playful or blowing a raspberry\",\n",
    "    u\"X‑P\":\"Tongue sticking out, cheeky, playful or blowing a raspberry\",\n",
    "    u\"XP\":\"Tongue sticking out, cheeky, playful or blowing a raspberry\",\n",
    "    u\":‑Þ\":\"Tongue sticking out, cheeky, playful or blowing a raspberry\",\n",
    "    u\":Þ\":\"Tongue sticking out, cheeky, playful or blowing a raspberry\",\n",
    "    u\":b\":\"Tongue sticking out, cheeky, playful or blowing a raspberry\",\n",
    "    u\"d:\":\"Tongue sticking out, cheeky, playful or blowing a raspberry\",\n",
    "    u\"=p\":\"Tongue sticking out, cheeky, playful or blowing a raspberry\",\n",
    "    u\">:P\":\"Tongue sticking out, cheeky, playful or blowing a raspberry\",\n",
    "    u\":‑/\":\"Skeptical, annoyed, undecided, uneasy or hesitant\",\n",
    "    u\":/\":\"Skeptical, annoyed, undecided, uneasy or hesitant\",\n",
    "    u\":-[.]\":\"Skeptical, annoyed, undecided, uneasy or hesitant\",\n",
    "    u\">:[(\\\\\\)]\":\"Skeptical, annoyed, undecided, uneasy or hesitant\",\n",
    "    u\">:/\":\"Skeptical, annoyed, undecided, uneasy or hesitant\",\n",
    "    u\":[(\\\\\\)]\":\"Skeptical, annoyed, undecided, uneasy or hesitant\",\n",
    "    u\"=/\":\"Skeptical, annoyed, undecided, uneasy or hesitant\",\n",
    "    u\"=[(\\\\\\)]\":\"Skeptical, annoyed, undecided, uneasy or hesitant\",\n",
    "    u\":L\":\"Skeptical, annoyed, undecided, uneasy or hesitant\",\n",
    "    u\"=L\":\"Skeptical, annoyed, undecided, uneasy or hesitant\",\n",
    "    u\":S\":\"Skeptical, annoyed, undecided, uneasy or hesitant\",\n",
    "    u\":‑\\|\":\"Straight face\",\n",
    "    u\":\\|\":\"Straight face\",\n",
    "    u\":$\":\"Embarrassed or blushing\",\n",
    "    u\":‑x\":\"Sealed lips or wearing braces or tongue-tied\",\n",
    "    u\":x\":\"Sealed lips or wearing braces or tongue-tied\",\n",
    "    u\":‑#\":\"Sealed lips or wearing braces or tongue-tied\",\n",
    "    u\":#\":\"Sealed lips or wearing braces or tongue-tied\",\n",
    "    u\":‑&\":\"Sealed lips or wearing braces or tongue-tied\",\n",
    "    u\":&\":\"Sealed lips or wearing braces or tongue-tied\",\n",
    "    u\"O:‑\\)\":\"Angel, saint or innocent\",\n",
    "    u\"O:\\)\":\"Angel, saint or innocent\",\n",
    "    u\"0:‑3\":\"Angel, saint or innocent\",\n",
    "    u\"0:3\":\"Angel, saint or innocent\",\n",
    "    u\"0:‑\\)\":\"Angel, saint or innocent\",\n",
    "    u\"0:\\)\":\"Angel, saint or innocent\",\n",
    "    u\":‑b\":\"Tongue sticking out, cheeky, playful or blowing a raspberry\",\n",
    "    u\"0;\\^\\)\":\"Angel, saint or innocent\",\n",
    "    u\">:‑\\)\":\"Evil or devilish\",\n",
    "    u\">:\\)\":\"Evil or devilish\",\n",
    "    u\"\\}:‑\\)\":\"Evil or devilish\",\n",
    "    u\"\\}:\\)\":\"Evil or devilish\",\n",
    "    u\"3:‑\\)\":\"Evil or devilish\",\n",
    "    u\"3:\\)\":\"Evil or devilish\",\n",
    "    u\">;\\)\":\"Evil or devilish\",\n",
    "    u\"\\|;‑\\)\":\"Cool\",\n",
    "    u\"\\|‑O\":\"Bored\",\n",
    "    u\":‑J\":\"Tongue-in-cheek\",\n",
    "    u\"#‑\\)\":\"Party all night\",\n",
    "    u\"%‑\\)\":\"Drunk or confused\",\n",
    "    u\"%\\)\":\"Drunk or confused\",\n",
    "    u\":-###..\":\"Being sick\",\n",
    "    u\":###..\":\"Being sick\",\n",
    "    u\"<:‑\\|\":\"Dump\",\n",
    "    u\"\\(>_<\\)\":\"Troubled\",\n",
    "    u\"\\(>_<\\)>\":\"Troubled\",\n",
    "    u\"\\(';'\\)\":\"Baby\",\n",
    "    u\"\\(\\^\\^>``\":\"Nervous or Embarrassed or Troubled or Shy or Sweat drop\",\n",
    "    u\"\\(\\^_\\^;\\)\":\"Nervous or Embarrassed or Troubled or Shy or Sweat drop\",\n",
    "    u\"\\(-_-;\\)\":\"Nervous or Embarrassed or Troubled or Shy or Sweat drop\",\n",
    "    u\"\\(~_~;\\) \\(・\\.・;\\)\":\"Nervous or Embarrassed or Troubled or Shy or Sweat drop\",\n",
    "    u\"\\(-_-\\)zzz\":\"Sleeping\",\n",
    "    u\"\\(\\^_-\\)\":\"Wink\",\n",
    "    u\"\\(\\(\\+_\\+\\)\\)\":\"Confused\",\n",
    "    u\"\\(\\+o\\+\\)\":\"Confused\",\n",
    "    u\"\\(o\\|o\\)\":\"Ultraman\",\n",
    "    u\"\\^_\\^\":\"Joyful\",\n",
    "    u\"\\(\\^_\\^\\)/\":\"Joyful\",\n",
    "    u\"\\(\\^O\\^\\)／\":\"Joyful\",\n",
    "    u\"\\(\\^o\\^\\)／\":\"Joyful\",\n",
    "    u\"\\(__\\)\":\"Kowtow as a sign of respect, or dogeza for apology\",\n",
    "    u\"_\\(\\._\\.\\)_\":\"Kowtow as a sign of respect, or dogeza for apology\",\n",
    "    u\"<\\(_ _\\)>\":\"Kowtow as a sign of respect, or dogeza for apology\",\n",
    "    u\"<m\\(__\\)m>\":\"Kowtow as a sign of respect, or dogeza for apology\",\n",
    "    u\"m\\(__\\)m\":\"Kowtow as a sign of respect, or dogeza for apology\",\n",
    "    u\"m\\(_ _\\)m\":\"Kowtow as a sign of respect, or dogeza for apology\",\n",
    "    u\"\\('_'\\)\":\"Sad or Crying\",\n",
    "    u\"\\(/_;\\)\":\"Sad or Crying\",\n",
    "    u\"\\(T_T\\) \\(;_;\\)\":\"Sad or Crying\",\n",
    "    u\"\\(;_;\":\"Sad of Crying\",\n",
    "    u\"\\(;_:\\)\":\"Sad or Crying\",\n",
    "    u\"\\(;O;\\)\":\"Sad or Crying\",\n",
    "    u\"\\(:_;\\)\":\"Sad or Crying\",\n",
    "    u\"\\(ToT\\)\":\"Sad or Crying\",\n",
    "    u\";_;\":\"Sad or Crying\",\n",
    "    u\";-;\":\"Sad or Crying\",\n",
    "    u\";n;\":\"Sad or Crying\",\n",
    "    u\";;\":\"Sad or Crying\",\n",
    "    u\"Q\\.Q\":\"Sad or Crying\",\n",
    "    u\"T\\.T\":\"Sad or Crying\",\n",
    "    u\"QQ\":\"Sad or Crying\",\n",
    "    u\"Q_Q\":\"Sad or Crying\",\n",
    "    u\"\\(-\\.-\\)\":\"Shame\",\n",
    "    u\"\\(-_-\\)\":\"Shame\",\n",
    "    u\"\\(一一\\)\":\"Shame\",\n",
    "    u\"\\(；一_一\\)\":\"Shame\",\n",
    "    u\"\\(=_=\\)\":\"Tired\",\n",
    "    u\"\\(=\\^\\·\\^=\\)\":\"cat\",\n",
    "    u\"\\(=\\^\\·\\·\\^=\\)\":\"cat\",\n",
    "    u\"=_\\^=\t\":\"cat\",\n",
    "    u\"\\(\\.\\.\\)\":\"Looking down\",\n",
    "    u\"\\(\\._\\.\\)\":\"Looking down\",\n",
    "    u\"\\^m\\^\":\"Giggling with hand covering mouth\",\n",
    "    u\"\\(\\・\\・?\":\"Confusion\",\n",
    "    u\"\\(?_?\\)\":\"Confusion\",\n",
    "    u\">\\^_\\^<\":\"Normal Laugh\",\n",
    "    u\"<\\^!\\^>\":\"Normal Laugh\",\n",
    "    u\"\\^/\\^\":\"Normal Laugh\",\n",
    "    u\"\\（\\*\\^_\\^\\*）\" :\"Normal Laugh\",\n",
    "    u\"\\(\\^<\\^\\) \\(\\^\\.\\^\\)\":\"Normal Laugh\",\n",
    "    u\"\\(^\\^\\)\":\"Normal Laugh\",\n",
    "    u\"\\(\\^\\.\\^\\)\":\"Normal Laugh\",\n",
    "    u\"\\(\\^_\\^\\.\\)\":\"Normal Laugh\",\n",
    "    u\"\\(\\^_\\^\\)\":\"Normal Laugh\",\n",
    "    u\"\\(\\^\\^\\)\":\"Normal Laugh\",\n",
    "    u\"\\(\\^J\\^\\)\":\"Normal Laugh\",\n",
    "    u\"\\(\\*\\^\\.\\^\\*\\)\":\"Normal Laugh\",\n",
    "    u\"\\(\\^—\\^\\）\":\"Normal Laugh\",\n",
    "    u\"\\(#\\^\\.\\^#\\)\":\"Normal Laugh\",\n",
    "    u\"\\（\\^—\\^\\）\":\"Waving\",\n",
    "    u\"\\(;_;\\)/~~~\":\"Waving\",\n",
    "    u\"\\(\\^\\.\\^\\)/~~~\":\"Waving\",\n",
    "    u\"\\(-_-\\)/~~~ \\($\\·\\·\\)/~~~\":\"Waving\",\n",
    "    u\"\\(T_T\\)/~~~\":\"Waving\",\n",
    "    u\"\\(ToT\\)/~~~\":\"Waving\",\n",
    "    u\"\\(\\*\\^0\\^\\*\\)\":\"Excited\",\n",
    "    u\"\\(\\*_\\*\\)\":\"Amazed\",\n",
    "    u\"\\(\\*_\\*;\":\"Amazed\",\n",
    "    u\"\\(\\+_\\+\\) \\(@_@\\)\":\"Amazed\",\n",
    "    u\"\\(\\*\\^\\^\\)v\":\"Laughing,Cheerful\",\n",
    "    u\"\\(\\^_\\^\\)v\":\"Laughing,Cheerful\",\n",
    "    u\"\\(\\(d[-_-]b\\)\\)\":\"Headphones,Listening to music\",\n",
    "    u'\\(-\"-\\)':\"Worried\",\n",
    "    u\"\\(ーー;\\)\":\"Worried\",\n",
    "    u\"\\(\\^0_0\\^\\)\":\"Eyeglasses\",\n",
    "    u\"\\(\\＾ｖ\\＾\\)\":\"Happy\",\n",
    "    u\"\\(\\＾ｕ\\＾\\)\":\"Happy\",\n",
    "    u\"\\(\\^\\)o\\(\\^\\)\":\"Happy\",\n",
    "    u\"\\(\\^O\\^\\)\":\"Happy\",\n",
    "    u\"\\(\\^o\\^\\)\":\"Happy\",\n",
    "    u\"\\)\\^o\\^\\(\":\"Happy\",\n",
    "    u\":O o_O\":\"Surprised\",\n",
    "    u\"o_0\":\"Surprised\",\n",
    "    u\"o\\.O\":\"Surpised\",\n",
    "    u\"\\(o\\.o\\)\":\"Surprised\",\n",
    "    u\"oO\":\"Surprised\",\n",
    "    u\"\\(\\*￣m￣\\)\":\"Dissatisfied\",\n",
    "    u\"\\(‘A`\\)\":\"Snubbed or Deflated\"\n",
    "}"
   ]
  },
  {
   "cell_type": "code",
   "execution_count": 27,
   "metadata": {
    "colab": {
     "base_uri": "https://localhost:8080/",
     "height": 35
    },
    "id": "molcH8i5jkf7",
    "outputId": "b30f5d6c-36c3-4a03-d3f5-bac5de5a3508"
   },
   "outputs": [
    {
     "data": {
      "text/plain": [
       "'Hello '"
      ]
     },
     "execution_count": 27,
     "metadata": {},
     "output_type": "execute_result"
    }
   ],
   "source": [
    "def remove_emoticons(text):\n",
    "    emoticon_pattern = re.compile(u'(' + u'|'.join(k for k in EMOTICONS) + u')')\n",
    "    return emoticon_pattern.sub(r'', text)\n",
    "\n",
    "remove_emoticons(\"Hello :-)\")"
   ]
  },
  {
   "cell_type": "code",
   "execution_count": 28,
   "metadata": {
    "colab": {
     "base_uri": "https://localhost:8080/"
    },
    "id": "WiktfqM7jo51",
    "outputId": "6cafbbb8-0e51-4177-b5e5-99907152dd4a"
   },
   "outputs": [
    {
     "name": "stderr",
     "output_type": "stream",
     "text": [
      "C:\\Users\\Arsalan\\AppData\\Local\\Temp/ipykernel_18208/180812195.py:4: SettingWithCopyWarning: \n",
      "A value is trying to be set on a copy of a slice from a DataFrame\n",
      "\n",
      "See the caveats in the documentation: https://pandas.pydata.org/pandas-docs/stable/user_guide/indexing.html#returning-a-view-versus-a-copy\n",
      "  df['processed_tweets'][a]=result\n"
     ]
    },
    {
     "name": "stdout",
     "output_type": "stream",
     "text": [
      "No Emoticons:\n",
      "good morning everyone welcome to my new followers and    big hug    to everyone  hope your monday morning is moving along spectacularly \n"
     ]
    }
   ],
   "source": [
    "for a in range(len(df['processed_tweets'])):\n",
    "\n",
    "  result = remove_emoticons(df['processed_tweets'][a])\n",
    "  df['processed_tweets'][a]=result\n",
    "print(\"No Emoticons:\")\n",
    "print(result)"
   ]
  },
  {
   "cell_type": "code",
   "execution_count": 29,
   "metadata": {
    "colab": {
     "base_uri": "https://localhost:8080/",
     "height": 206
    },
    "id": "aRkylyRvkXZr",
    "outputId": "77776aa6-beda-4b8f-da75-19eabaaa9493"
   },
   "outputs": [
    {
     "data": {
      "text/html": [
       "<div>\n",
       "<style scoped>\n",
       "    .dataframe tbody tr th:only-of-type {\n",
       "        vertical-align: middle;\n",
       "    }\n",
       "\n",
       "    .dataframe tbody tr th {\n",
       "        vertical-align: top;\n",
       "    }\n",
       "\n",
       "    .dataframe thead th {\n",
       "        text-align: right;\n",
       "    }\n",
       "</style>\n",
       "<table border=\"1\" class=\"dataframe\">\n",
       "  <thead>\n",
       "    <tr style=\"text-align: right;\">\n",
       "      <th></th>\n",
       "      <th>target</th>\n",
       "      <th>tweet</th>\n",
       "      <th>processed_tweets</th>\n",
       "    </tr>\n",
       "  </thead>\n",
       "  <tbody>\n",
       "    <tr>\n",
       "      <th>0</th>\n",
       "      <td>0</td>\n",
       "      <td>@switchfoot http://twitpic.com/2y1zl - Awww, t...</td>\n",
       "      <td>awww  thats a bummer  you shoulda got david ...</td>\n",
       "    </tr>\n",
       "    <tr>\n",
       "      <th>1</th>\n",
       "      <td>0</td>\n",
       "      <td>is upset that he can't update his Facebook by ...</td>\n",
       "      <td>is upset that he cant update his facebook by t...</td>\n",
       "    </tr>\n",
       "    <tr>\n",
       "      <th>2</th>\n",
       "      <td>0</td>\n",
       "      <td>@Kenichan I dived many times for the ball. Man...</td>\n",
       "      <td>i dived many times for the ball  managed to sa...</td>\n",
       "    </tr>\n",
       "    <tr>\n",
       "      <th>3</th>\n",
       "      <td>0</td>\n",
       "      <td>my whole body feels itchy and like its on fire</td>\n",
       "      <td>my whole body feels itchy and like its on fire</td>\n",
       "    </tr>\n",
       "    <tr>\n",
       "      <th>4</th>\n",
       "      <td>0</td>\n",
       "      <td>@nationwideclass no, it's not behaving at all....</td>\n",
       "      <td>no  its not behaving at all  im mad  why am i ...</td>\n",
       "    </tr>\n",
       "  </tbody>\n",
       "</table>\n",
       "</div>"
      ],
      "text/plain": [
       "   target                                              tweet  \\\n",
       "0       0  @switchfoot http://twitpic.com/2y1zl - Awww, t...   \n",
       "1       0  is upset that he can't update his Facebook by ...   \n",
       "2       0  @Kenichan I dived many times for the ball. Man...   \n",
       "3       0    my whole body feels itchy and like its on fire    \n",
       "4       0  @nationwideclass no, it's not behaving at all....   \n",
       "\n",
       "                                    processed_tweets  \n",
       "0    awww  thats a bummer  you shoulda got david ...  \n",
       "1  is upset that he cant update his facebook by t...  \n",
       "2  i dived many times for the ball  managed to sa...  \n",
       "3     my whole body feels itchy and like its on fire  \n",
       "4  no  its not behaving at all  im mad  why am i ...  "
      ]
     },
     "execution_count": 29,
     "metadata": {},
     "output_type": "execute_result"
    }
   ],
   "source": [
    "df.head()"
   ]
  },
  {
   "cell_type": "code",
   "execution_count": 30,
   "metadata": {
    "colab": {
     "base_uri": "https://localhost:8080/"
    },
    "id": "unXrFpbpkyFN",
    "outputId": "058d81ec-fb51-4134-dcee-286dfa8d058c"
   },
   "outputs": [
    {
     "data": {
      "text/plain": [
       "target              0\n",
       "tweet               0\n",
       "processed_tweets    0\n",
       "dtype: int64"
      ]
     },
     "execution_count": 30,
     "metadata": {},
     "output_type": "execute_result"
    }
   ],
   "source": [
    "df.isna().sum()"
   ]
  },
  {
   "cell_type": "markdown",
   "metadata": {
    "id": "wBS-rS14lVGo"
   },
   "source": [
    "### **Labelling the target fileds**"
   ]
  },
  {
   "cell_type": "code",
   "execution_count": 31,
   "metadata": {
    "colab": {
     "base_uri": "https://localhost:8080/"
    },
    "id": "rEteaEmDk7nq",
    "outputId": "d91affa3-62f1-497d-9b8f-87d31f117429"
   },
   "outputs": [
    {
     "data": {
      "text/plain": [
       "4    51150\n",
       "0    50009\n",
       "Name: target, dtype: int64"
      ]
     },
     "execution_count": 31,
     "metadata": {},
     "output_type": "execute_result"
    }
   ],
   "source": [
    "df['target'].value_counts()"
   ]
  },
  {
   "cell_type": "markdown",
   "metadata": {
    "id": "qiXm8TK2lr8S"
   },
   "source": [
    "0 --> negative, \n",
    "\n",
    "4 --> Positive"
   ]
  },
  {
   "cell_type": "code",
   "execution_count": 32,
   "metadata": {
    "colab": {
     "base_uri": "https://localhost:8080/"
    },
    "id": "mR8RpXFZlkGJ",
    "outputId": "f2730abc-e137-4870-ef11-2271c356198c"
   },
   "outputs": [
    {
     "data": {
      "text/plain": [
       "1    51150\n",
       "0    50009\n",
       "Name: Target, dtype: int64"
      ]
     },
     "execution_count": 32,
     "metadata": {},
     "output_type": "execute_result"
    }
   ],
   "source": [
    "df['Target']=df['target'].replace(4,1)\n",
    "df['Target'].value_counts()"
   ]
  },
  {
   "cell_type": "markdown",
   "metadata": {
    "id": "lLEdpoqAl8SB"
   },
   "source": [
    "0 --> negative, \n",
    "\n",
    "1 --> Positive"
   ]
  },
  {
   "cell_type": "markdown",
   "metadata": {
    "id": "bOaI62jlygrL"
   },
   "source": [
    "[Reference for maxlen](https://stackoverflow.com/questions/42943291/what-does-keras-io-preprocessing-sequence-pad-sequences-do)"
   ]
  },
  {
   "cell_type": "code",
   "execution_count": 34,
   "metadata": {
    "id": "DXgoeWUV66Jm"
   },
   "outputs": [],
   "source": [
    "import os\n",
    "import re\n",
    "\n",
    "import numpy as np\n",
    "import tensorflow as tf\n",
    "\n",
    "# np.random.seed(1)\n",
    "# tf.set_random_seed(2)\n",
    "\n",
    "import pandas as pd\n",
    "import keras\n",
    "# from tqdm import tqdm\n",
    "from tqdm import tqdm_notebook as tqdm\n",
    "from sklearn.model_selection import train_test_split\n",
    "from sklearn.preprocessing import LabelEncoder\n",
    "from sklearn.utils import class_weight\n",
    "from sklearn.metrics import f1_score, classification_report, log_loss\n",
    "\n",
    "from keras.preprocessing.text import Tokenizer\n",
    "from keras_preprocessing.sequence import pad_sequences\n",
    "# from keras.utils import to_categorical\n",
    "from tensorflow.keras.utils import to_categorical\n",
    "\n",
    "from keras.models import Sequential\n",
    "from keras.layers import Embedding, LSTM, Dense, SpatialDropout1D, Bidirectional, Flatten\n",
    "from keras.layers import Dropout, Conv1D, GlobalMaxPool1D, GRU, GlobalAvgPool1D\n",
    "# from keras.optimizers import Adam\n",
    "from keras.callbacks import ModelCheckpoint, EarlyStopping"
   ]
  },
  {
   "cell_type": "markdown",
   "metadata": {
    "id": "0ngVo1Njym2q"
   },
   "source": [
    "###**Stop words**"
   ]
  },
  {
   "cell_type": "code",
   "execution_count": 35,
   "metadata": {
    "id": "AHYkMlsIyQxL"
   },
   "outputs": [],
   "source": [
    "stopwordlist = ['a', 'about', 'above', 'after', 'again', 'ain', 'all', 'am', 'an',\n",
    "             'and','any','are', 'as', 'at', 'be', 'because', 'been', 'before',\n",
    "             'being', 'below', 'between','both', 'by', 'can', 'd', 'did', 'do',\n",
    "             'does', 'doing', 'down', 'during', 'each','few', 'for', 'from',\n",
    "             'further', 'had', 'has', 'have', 'having', 'he', 'her', 'here',\n",
    "             'hers', 'herself', 'him', 'himself', 'his', 'how', 'i', 'if', 'in',\n",
    "             'into','is', 'it', 'its', 'itself', 'just', 'll', 'm', 'ma',\n",
    "             'me', 'more', 'most','my', 'myself', 'now', 'o', 'of', 'on', 'once',\n",
    "             'only', 'or', 'other', 'our', 'ours','ourselves', 'out', 'own', 're','s', 'same', 'she', \"shes\", 'should', \"shouldve\",'so', 'some', 'such',\n",
    "             't', 'than', 'that', \"thatll\", 'the', 'their', 'theirs', 'them',\n",
    "             'themselves', 'then', 'there', 'these', 'they', 'this', 'those',\n",
    "             'through', 'to', 'too','under', 'until', 'up', 've', 'very', 'was',\n",
    "             'we', 'were', 'what', 'when', 'where','which','while', 'who', 'whom',\n",
    "             'why', 'will', 'with', 'won', 'y', 'you', \"youd\",\"youll\", \"youre\",\n",
    "             \"youve\", 'your', 'yours', 'yourself', 'yourselves']"
   ]
  },
  {
   "cell_type": "code",
   "execution_count": 36,
   "metadata": {
    "colab": {
     "base_uri": "https://localhost:8080/"
    },
    "id": "uDsYr2jOyTZY",
    "outputId": "03d01975-4b43-46d5-c879-afa2f3f8eac8"
   },
   "outputs": [
    {
     "data": {
      "text/plain": [
       "0    awww thats bummer shoulda got david carr third...\n",
       "1    upset cant update facebook texting might cry r...\n",
       "2    dived many times ball managed save 50 rest go ...\n",
       "3                     whole body feels itchy like fire\n",
       "4                 no not behaving im mad cant see over\n",
       "Name: processed_tweets, dtype: object"
      ]
     },
     "execution_count": 36,
     "metadata": {},
     "output_type": "execute_result"
    }
   ],
   "source": [
    "STOPWORDS = set(stopwordlist)\n",
    "def cleaning_stopwords(text):\n",
    "    return \" \".join([word for word in str(text).split() if word not in STOPWORDS])\n",
    "\n",
    "\n",
    " #apply function   \n",
    "df['processed_tweets'] = df['processed_tweets'].apply(lambda text: cleaning_stopwords(text))\n",
    "df['processed_tweets'].head()"
   ]
  },
  {
   "cell_type": "code",
   "execution_count": 37,
   "metadata": {
    "colab": {
     "base_uri": "https://localhost:8080/",
     "height": 424
    },
    "id": "4EWzYdIsxcN2",
    "outputId": "6e456ba5-8fdd-4a05-d051-d09daf8b69c6"
   },
   "outputs": [
    {
     "data": {
      "text/html": [
       "<div>\n",
       "<style scoped>\n",
       "    .dataframe tbody tr th:only-of-type {\n",
       "        vertical-align: middle;\n",
       "    }\n",
       "\n",
       "    .dataframe tbody tr th {\n",
       "        vertical-align: top;\n",
       "    }\n",
       "\n",
       "    .dataframe thead th {\n",
       "        text-align: right;\n",
       "    }\n",
       "</style>\n",
       "<table border=\"1\" class=\"dataframe\">\n",
       "  <thead>\n",
       "    <tr style=\"text-align: right;\">\n",
       "      <th></th>\n",
       "      <th>target</th>\n",
       "      <th>processed_tweets</th>\n",
       "      <th>Target</th>\n",
       "    </tr>\n",
       "  </thead>\n",
       "  <tbody>\n",
       "    <tr>\n",
       "      <th>0</th>\n",
       "      <td>0</td>\n",
       "      <td>awww thats bummer shoulda got david carr third...</td>\n",
       "      <td>0</td>\n",
       "    </tr>\n",
       "    <tr>\n",
       "      <th>1</th>\n",
       "      <td>0</td>\n",
       "      <td>upset cant update facebook texting might cry r...</td>\n",
       "      <td>0</td>\n",
       "    </tr>\n",
       "    <tr>\n",
       "      <th>2</th>\n",
       "      <td>0</td>\n",
       "      <td>dived many times ball managed save 50 rest go ...</td>\n",
       "      <td>0</td>\n",
       "    </tr>\n",
       "    <tr>\n",
       "      <th>3</th>\n",
       "      <td>0</td>\n",
       "      <td>whole body feels itchy like fire</td>\n",
       "      <td>0</td>\n",
       "    </tr>\n",
       "    <tr>\n",
       "      <th>4</th>\n",
       "      <td>0</td>\n",
       "      <td>no not behaving im mad cant see over</td>\n",
       "      <td>0</td>\n",
       "    </tr>\n",
       "    <tr>\n",
       "      <th>...</th>\n",
       "      <td>...</td>\n",
       "      <td>...</td>\n",
       "      <td>...</td>\n",
       "    </tr>\n",
       "    <tr>\n",
       "      <th>101154</th>\n",
       "      <td>4</td>\n",
       "      <td>congrats followers</td>\n",
       "      <td>1</td>\n",
       "    </tr>\n",
       "    <tr>\n",
       "      <th>101155</th>\n",
       "      <td>4</td>\n",
       "      <td>back dat ass full service</td>\n",
       "      <td>1</td>\n",
       "    </tr>\n",
       "    <tr>\n",
       "      <th>101156</th>\n",
       "      <td>4</td>\n",
       "      <td>school 12 minutes get picked morgan</td>\n",
       "      <td>1</td>\n",
       "    </tr>\n",
       "    <tr>\n",
       "      <th>101157</th>\n",
       "      <td>4</td>\n",
       "      <td>sounds fun</td>\n",
       "      <td>1</td>\n",
       "    </tr>\n",
       "    <tr>\n",
       "      <th>101158</th>\n",
       "      <td>4</td>\n",
       "      <td>good morning everyone welcome new followers bi...</td>\n",
       "      <td>1</td>\n",
       "    </tr>\n",
       "  </tbody>\n",
       "</table>\n",
       "<p>101159 rows × 3 columns</p>\n",
       "</div>"
      ],
      "text/plain": [
       "        target                                   processed_tweets  Target\n",
       "0            0  awww thats bummer shoulda got david carr third...       0\n",
       "1            0  upset cant update facebook texting might cry r...       0\n",
       "2            0  dived many times ball managed save 50 rest go ...       0\n",
       "3            0                   whole body feels itchy like fire       0\n",
       "4            0               no not behaving im mad cant see over       0\n",
       "...        ...                                                ...     ...\n",
       "101154       4                                 congrats followers       1\n",
       "101155       4                          back dat ass full service       1\n",
       "101156       4                school 12 minutes get picked morgan       1\n",
       "101157       4                                         sounds fun       1\n",
       "101158       4  good morning everyone welcome new followers bi...       1\n",
       "\n",
       "[101159 rows x 3 columns]"
      ]
     },
     "execution_count": 37,
     "metadata": {},
     "output_type": "execute_result"
    }
   ],
   "source": [
    "dataset = df.drop('tweet',axis=1)\n",
    "dataset"
   ]
  },
  {
   "cell_type": "markdown",
   "metadata": {
    "id": "ALdUTlnh_qGc"
   },
   "source": [
    "###**Stemming**"
   ]
  },
  {
   "cell_type": "code",
   "execution_count": 38,
   "metadata": {
    "id": "dkVYj9os_hTZ"
   },
   "outputs": [],
   "source": [
    "# import nltk\n",
    "# st = nltk.PorterStemmer()\n",
    "# def stemming_on_text(data):\n",
    "#     text = [st.stem(word) for word in data]\n",
    "#     return data\n",
    "# df['processed_tweets']= df['processed_tweets'].apply(lambda x: stemming_on_text(x))\n",
    "# df['processed_tweets'].head()"
   ]
  },
  {
   "cell_type": "markdown",
   "metadata": {
    "id": "3r765q1a_sEa"
   },
   "source": [
    "###**Lammentization**"
   ]
  },
  {
   "cell_type": "code",
   "execution_count": null,
   "metadata": {
    "id": "aKpHJhUE_6TM"
   },
   "outputs": [],
   "source": []
  },
  {
   "cell_type": "code",
   "execution_count": 39,
   "metadata": {
    "colab": {
     "base_uri": "https://localhost:8080/"
    },
    "id": "xTXfD-qn_xG2",
    "outputId": "8d464659-6cb0-4f1b-a2fc-f48e2b61fcab"
   },
   "outputs": [
    {
     "name": "stderr",
     "output_type": "stream",
     "text": [
      "[nltk_data] Downloading package wordnet to\n",
      "[nltk_data]     C:\\Users\\Arsalan\\AppData\\Roaming\\nltk_data...\n"
     ]
    },
    {
     "data": {
      "text/plain": [
       "0    awww thats bummer shoulda got david carr third...\n",
       "1    upset cant update facebook texting might cry r...\n",
       "2    dived many times ball managed save 50 rest go ...\n",
       "3                     whole body feels itchy like fire\n",
       "4                 no not behaving im mad cant see over\n",
       "Name: processed_tweets, dtype: object"
      ]
     },
     "execution_count": 39,
     "metadata": {},
     "output_type": "execute_result"
    }
   ],
   "source": [
    "import nltk\n",
    "nltk.download('wordnet')\n",
    "\n",
    "\n",
    "lm = nltk.WordNetLemmatizer()\n",
    "def lemmatizer_on_text(data):\n",
    "    text = [lm.lemmatize(word) for word in data]\n",
    "    return data\n",
    "df['processed_tweets'] = df['processed_tweets'].apply(lambda x: lemmatizer_on_text(x))\n",
    "df['processed_tweets'].head()"
   ]
  },
  {
   "cell_type": "code",
   "execution_count": 40,
   "metadata": {
    "id": "y3il0-Co-6zv"
   },
   "outputs": [],
   "source": [
    "X = df['processed_tweets']\n",
    "y = df['Target']"
   ]
  },
  {
   "cell_type": "code",
   "execution_count": 41,
   "metadata": {
    "colab": {
     "base_uri": "https://localhost:8080/"
    },
    "id": "Vfsu88fu6tWT",
    "outputId": "3c69880d-27ac-4892-c6e3-4657aad1182c"
   },
   "outputs": [
    {
     "name": "stdout",
     "output_type": "stream",
     "text": [
      "(91043,)\n",
      "(10116,)\n"
     ]
    }
   ],
   "source": [
    "from sklearn.model_selection import train_test_split\n",
    "\n",
    "X_train, X_test,y_train,y_test = train_test_split(X, y,random_state = 42, test_size=0.1)\n",
    "print(X_train.shape)\n",
    "print(X_test.shape)"
   ]
  },
  {
   "cell_type": "code",
   "execution_count": 42,
   "metadata": {
    "colab": {
     "base_uri": "https://localhost:8080/"
    },
    "id": "-SNfXhSuArZe",
    "outputId": "b0862e9b-28d7-459f-be86-a95dc7baa247"
   },
   "outputs": [
    {
     "name": "stdout",
     "output_type": "stream",
     "text": [
      "(91043,)\n",
      "(10116,)\n"
     ]
    }
   ],
   "source": [
    "print(y_train.shape)\n",
    "print(y_test.shape)"
   ]
  },
  {
   "cell_type": "code",
   "execution_count": 43,
   "metadata": {
    "colab": {
     "base_uri": "https://localhost:8080/"
    },
    "id": "sBjjNPm2AzEc",
    "outputId": "e7ad5df2-d1d0-4a2d-96a9-a1327f488b5c"
   },
   "outputs": [
    {
     "data": {
      "text/plain": [
       "10538                                     ummmm wanna come\n",
       "89283    lol aww celebrate earlier get loads complitmen...\n",
       "40354             downloading 22nd episode heroes season 3\n",
       "11834                                 going sleep im tired\n",
       "585      cant set feet ground missing eyelid people mig...\n",
       "                               ...                        \n",
       "77266         oop hick ups oop nope awwwww wanted hick ups\n",
       "51995    back 2 mile walk woobie doggie yet another stu...\n",
       "22770              noooooo boo computer problems empathise\n",
       "61798    hrm guess hit sack work 6 hours 9 hours later ...\n",
       "36296                home justins farewell dinner dont die\n",
       "Name: processed_tweets, Length: 10116, dtype: object"
      ]
     },
     "execution_count": 43,
     "metadata": {},
     "output_type": "execute_result"
    }
   ],
   "source": [
    "X_test"
   ]
  },
  {
   "cell_type": "markdown",
   "metadata": {
    "id": "uGju4DdaoVlz"
   },
   "source": [
    "##**Text Sequencing**"
   ]
  },
  {
   "cell_type": "code",
   "execution_count": 44,
   "metadata": {
    "colab": {
     "base_uri": "https://localhost:8080/"
    },
    "id": "etWEVeHGyTPl",
    "outputId": "10ac32c9-51f7-40b0-a86d-2157b2b57938"
   },
   "outputs": [
    {
     "data": {
      "text/plain": [
       "[[7002, 108, 68],\n",
       " [20, 307, 1609, 735, 6, 991, 52122, 308, 586, 852],\n",
       " [1729, 5510, 713, 2173, 517, 53],\n",
       " [12, 44, 1, 90],\n",
       " [15, 464, 848, 2085, 238, 15458, 75, 218, 6],\n",
       " [76, 99, 95, 264, 635, 9, 301, 10, 43, 5, 43, 758, 63, 16, 395, 1380, 53, 8],\n",
       " [33, 128, 23, 147, 252, 52123, 665, 95],\n",
       " [56, 103, 7, 8, 35, 23, 274, 301, 1304, 574, 194],\n",
       " [1008, 49, 12, 37, 70, 233, 4891, 182, 86, 311],\n",
       " [2860, 75, 142, 1548, 1612],\n",
       " [23, 133, 813, 1, 96, 1868, 816, 63, 6017, 658, 7496, 22710, 10076, 11, 4361],\n",
       " [364, 381, 34, 11, 142, 8, 5],\n",
       " [20, 13956, 503, 30, 1978, 9745],\n",
       " [68, 1640, 52124, 949, 79, 714],\n",
       " [106, 4, 3854, 21743, 19, 202, 1095, 2707, 180, 284, 72],\n",
       " [2548,\n",
       "  226,\n",
       "  8539,\n",
       "  11,\n",
       "  3229,\n",
       "  2045,\n",
       "  244,\n",
       "  98,\n",
       "  449,\n",
       "  1,\n",
       "  441,\n",
       "  1441,\n",
       "  3,\n",
       "  13015,\n",
       "  118,\n",
       "  940],\n",
       " [10706, 2828, 48],\n",
       " [35, 227, 52125, 648, 215, 7, 2428, 325, 154, 99, 101, 648, 52126],\n",
       " [102, 1331, 246],\n",
       " [4, 267],\n",
       " [10, 187, 107],\n",
       " [985, 807, 639, 4, 125, 5001, 511, 579],\n",
       " [1173, 4730, 4409, 2717, 227, 2458, 916, 12, 228, 7751, 847, 625, 3423],\n",
       " [5631, 55, 19403, 3, 1129, 14, 30, 75, 22, 243, 1172, 3355],\n",
       " [65, 34],\n",
       " [233, 21004, 199, 7, 5296],\n",
       " [30, 28, 1031, 60, 2, 1, 76, 10844, 413, 9, 101, 596, 952, 10, 314, 15033],\n",
       " [1011, 218, 172, 33, 5233, 2127],\n",
       " [199, 663, 6, 343, 14948],\n",
       " [14, 108, 1157, 2, 10, 1322, 157, 805],\n",
       " [263, 6615, 2, 82, 76, 50, 1281],\n",
       " [1, 96, 67, 1480, 151],\n",
       " [188, 10, 1699, 470, 37, 11, 48, 5],\n",
       " [21, 60, 11469, 1349],\n",
       " [4158, 468, 98, 14796],\n",
       " [270, 2488, 381, 5, 230, 87],\n",
       " [666, 1, 129, 850, 435, 2, 190, 87],\n",
       " [1517,\n",
       "  29,\n",
       "  1713,\n",
       "  1094,\n",
       "  3589,\n",
       "  632,\n",
       "  19,\n",
       "  101,\n",
       "  322,\n",
       "  80,\n",
       "  81,\n",
       "  9030,\n",
       "  6457,\n",
       "  52127,\n",
       "  19,\n",
       "  64],\n",
       " [2957,\n",
       "  13396,\n",
       "  2132,\n",
       "  1179,\n",
       "  2030,\n",
       "  684,\n",
       "  265,\n",
       "  145,\n",
       "  744,\n",
       "  639,\n",
       "  4860,\n",
       "  2575,\n",
       "  54,\n",
       "  1046],\n",
       " [460, 170, 301, 169, 4, 117, 334],\n",
       " [1035, 56, 103, 285, 4000, 5995, 43, 14, 30, 7, 34],\n",
       " [304, 106, 434],\n",
       " [598, 5],\n",
       " [54, 9, 186, 2649, 7207],\n",
       " [52128,\n",
       "  608,\n",
       "  270,\n",
       "  113,\n",
       "  72,\n",
       "  2226,\n",
       "  442,\n",
       "  52129,\n",
       "  431,\n",
       "  52130,\n",
       "  1067,\n",
       "  68,\n",
       "  837,\n",
       "  21,\n",
       "  92,\n",
       "  715,\n",
       "  507],\n",
       " [133, 813, 5595, 248, 163, 9, 232, 5],\n",
       " [502, 40, 7, 1270, 1, 3, 1527, 1124],\n",
       " [15, 816, 884, 425, 5384],\n",
       " [1444, 2881, 226, 84, 12880, 516, 95, 462, 12314, 2, 10, 589],\n",
       " [216, 47, 41, 24],\n",
       " [12, 61, 285, 164, 9902, 814, 17672, 93, 1611, 3283],\n",
       " [1100, 3259, 1186, 42, 54, 70, 310, 89, 12, 50, 72, 57, 4409, 847],\n",
       " [33],\n",
       " [4252, 12521, 1654, 4046, 1271, 7135, 1525, 592, 201, 14195, 381, 1667],\n",
       " [46, 178, 2, 312, 202, 116],\n",
       " [66, 13880, 137, 12, 8297, 36, 1394, 3352],\n",
       " [15, 5447, 34, 618, 109, 1093, 11, 808, 507, 3412],\n",
       " [52131, 263, 15233, 2213, 11170, 5873, 46, 15233, 20],\n",
       " [38, 5],\n",
       " [76],\n",
       " [73, 5455],\n",
       " [1, 97, 88, 5, 279, 579, 10, 1006, 37, 571, 16, 59, 82, 96, 5382, 45, 6468],\n",
       " [7079, 2797, 143, 58, 22, 2010, 1039],\n",
       " [721, 18, 187, 18, 4925, 4143, 795],\n",
       " [293],\n",
       " [438, 38, 52132, 4, 276, 321],\n",
       " [1883, 162, 5136, 198, 18],\n",
       " [325, 2133, 2582, 21197, 521, 1006, 1015, 255],\n",
       " [8467, 8823],\n",
       " [358],\n",
       " [199, 157, 251, 13, 57, 1, 426, 75, 6, 169, 13, 3, 21, 116, 47],\n",
       " [338, 52133, 1149, 1651, 43, 42, 127, 8977, 6520, 1317],\n",
       " [31, 29, 901, 105, 6900, 518, 52134, 7537, 1598],\n",
       " [306, 70, 1916, 3435],\n",
       " [52, 99, 66, 112, 37, 14, 6, 44, 346, 27, 52, 8, 23],\n",
       " [223, 1024],\n",
       " [13, 1181, 2619, 286, 2, 60],\n",
       " [111, 52135, 818, 7142, 22, 3, 95, 401],\n",
       " [4, 1430],\n",
       " [533, 136, 1269],\n",
       " [2426, 9, 15852, 3539, 886, 898],\n",
       " [52136, 26, 18],\n",
       " [35, 18, 168, 298, 4462, 17, 63, 326, 2177, 305, 17],\n",
       " [338, 706, 223],\n",
       " [185, 22711, 110, 14, 778, 219, 981, 118],\n",
       " [151, 6493, 278, 3376, 303, 205],\n",
       " [1, 479, 201, 8035, 3941, 23, 141, 3, 21, 2, 477, 30, 2, 136, 1884, 1376],\n",
       " [52137, 525, 29, 654],\n",
       " [189, 14, 22, 75, 3336, 1036, 279, 9045, 52138, 34],\n",
       " [52139, 135, 23, 2, 1, 397, 88, 309, 79],\n",
       " [62, 214],\n",
       " [27, 90, 1930, 347, 125, 41, 24, 124],\n",
       " [35, 140, 340, 288, 1522, 692, 8146, 21861],\n",
       " [47, 860, 1986, 21129, 8970, 372, 206, 131, 9, 137],\n",
       " [16, 471, 920, 1126, 72, 37, 1550, 15, 960, 584, 2197, 12],\n",
       " [24, 216, 70, 5],\n",
       " [7976, 293, 247, 5897, 16918, 2345, 1330, 1698, 159, 6, 347, 3196],\n",
       " [1, 76, 152, 13, 37, 7983, 149],\n",
       " [65, 15173, 958, 9205, 1956, 68, 89],\n",
       " [185, 185, 124],\n",
       " [120, 449, 15, 78],\n",
       " [1133, 10120, 1, 67, 202, 363, 4901, 1759, 100],\n",
       " [55, 183, 2, 31, 888, 926, 66],\n",
       " [102, 48, 138, 367, 383, 659, 3, 1436, 6309],\n",
       " [226, 33, 3, 14672, 571, 66, 41, 24, 35, 78],\n",
       " [3459, 1692, 656, 2031, 859, 3610, 9403, 1016],\n",
       " [133, 1072, 920, 65, 17, 1337, 52140],\n",
       " [35, 83, 98, 52141, 93],\n",
       " [2504, 77, 170, 1804, 18],\n",
       " [52142, 140, 99, 435, 419, 2016, 18, 26, 803, 50, 26],\n",
       " [3, 7, 700, 1002, 423, 1675, 2000, 265, 417, 171],\n",
       " [546, 14, 18, 18, 79, 33, 378, 336],\n",
       " [22065,\n",
       "  7418,\n",
       "  2212,\n",
       "  464,\n",
       "  100,\n",
       "  511,\n",
       "  1655,\n",
       "  5004,\n",
       "  3142,\n",
       "  10564,\n",
       "  8333,\n",
       "  1345,\n",
       "  146,\n",
       "  1282,\n",
       "  69],\n",
       " [94, 249, 21, 3465, 106, 200, 288],\n",
       " [52143, 7, 631, 141, 2212, 3645, 28, 225, 359],\n",
       " [449, 40, 19, 372, 4487],\n",
       " [46, 777, 65, 147, 4, 8],\n",
       " [4537],\n",
       " [5121,\n",
       "  145,\n",
       "  508,\n",
       "  1020,\n",
       "  497,\n",
       "  485,\n",
       "  136,\n",
       "  2280,\n",
       "  2632,\n",
       "  52144,\n",
       "  52145,\n",
       "  52146,\n",
       "  10284,\n",
       "  216,\n",
       "  6483,\n",
       "  7294],\n",
       " [160, 111, 807, 85],\n",
       " [35, 127, 495, 4],\n",
       " [393, 3806, 204, 43],\n",
       " [1179, 84, 1409, 897, 807, 2403, 146, 6610, 184, 10625],\n",
       " [5137, 508, 348, 17346, 31],\n",
       " [525, 4497, 52147, 835, 7204, 46, 313],\n",
       " [1, 106, 187, 4203, 171],\n",
       " [3131, 1969, 4957, 52148, 1284],\n",
       " [233, 9, 219, 20392, 2, 3, 270],\n",
       " [224, 874, 40, 6, 40, 452, 40, 29, 2580, 29, 11234],\n",
       " [3, 4, 42, 4166, 427, 23],\n",
       " [2209, 35, 23, 45, 5864, 52149, 4109, 1172],\n",
       " [3506, 1919, 1543, 52150, 22352, 486, 558, 1321, 898, 819],\n",
       " [160, 46, 348, 5],\n",
       " [355, 201, 277, 24, 1600, 312, 7, 802, 15858],\n",
       " [581, 24, 20, 74, 52, 52151, 728, 327, 1137, 1460, 52152, 108, 744, 55],\n",
       " [48, 93, 58, 37, 33, 1127, 93, 3747, 42],\n",
       " [22, 57, 190, 14148, 962, 6618, 271],\n",
       " [223, 301, 111, 328, 12],\n",
       " [212, 4948, 1897],\n",
       " [389, 209, 79, 139],\n",
       " [660, 291, 5, 1109, 62],\n",
       " [662, 150, 4234, 318, 11391, 1270, 3, 4234, 559, 757],\n",
       " [875, 945, 233, 2446, 420, 692],\n",
       " [2577, 77, 8, 4, 1092, 328, 328, 16, 8, 13420, 47, 47, 323, 1353, 52153, 323],\n",
       " [6, 501, 849, 5, 878, 1496, 6549, 139],\n",
       " [156, 196, 446, 690, 9857, 489, 3403, 8913],\n",
       " [315, 224, 14, 9, 3456],\n",
       " [52154, 80, 81, 10273, 52155, 1300, 15678],\n",
       " [21705, 79, 148, 87, 20, 1157, 681],\n",
       " [668, 269, 3638, 13856, 241],\n",
       " [223, 224, 32, 361, 6, 323],\n",
       " [307, 50, 1757],\n",
       " [55, 3, 21, 12, 562, 88, 277, 114, 2015, 669, 134, 43],\n",
       " [100, 885, 100, 431, 92, 110, 387, 104],\n",
       " [106, 1788, 465, 4501, 20602],\n",
       " [135, 86, 310, 563, 517, 423, 7704, 795],\n",
       " [130, 634, 5, 8],\n",
       " [74, 9320, 774, 976, 11444, 13638, 168],\n",
       " [31, 17, 29, 1366, 2205, 319, 1352, 2012],\n",
       " [320, 85, 603, 173, 23, 3, 76, 69, 150, 26, 27, 3002, 16044],\n",
       " [20, 5608, 13051, 80, 81, 8262, 1752, 2, 1130, 420, 576, 836],\n",
       " [8, 2, 749, 133, 48, 138, 42, 699, 1187, 23],\n",
       " [1807, 52156, 608, 1092, 4, 3, 4, 58, 1845, 6, 685, 310, 61, 57],\n",
       " [84, 1255],\n",
       " [12608, 11079, 5327, 37, 1138, 5336, 52157, 861, 309, 1143, 145, 412, 70, 57],\n",
       " [211, 2528, 2710, 204, 21, 4481],\n",
       " [471, 3144, 204],\n",
       " [175, 1584, 345, 122],\n",
       " [52158, 6998, 21188, 8411, 529, 534],\n",
       " [602,\n",
       "  11518,\n",
       "  3588,\n",
       "  21324,\n",
       "  6,\n",
       "  3927,\n",
       "  3910,\n",
       "  14,\n",
       "  263,\n",
       "  347,\n",
       "  52159,\n",
       "  8189,\n",
       "  1614,\n",
       "  52160,\n",
       "  2170,\n",
       "  52161],\n",
       " [19567, 248],\n",
       " [337, 259, 1, 12, 13, 52, 2135],\n",
       " [14, 1460, 28, 1101, 514, 2599, 251, 793, 31],\n",
       " [56, 2976, 411, 21, 48],\n",
       " [247, 15708],\n",
       " [468, 236],\n",
       " [87, 21, 60, 358],\n",
       " [153, 6, 44],\n",
       " [4, 25],\n",
       " [304, 2478],\n",
       " [91, 11651, 21086, 1012, 14, 54, 60, 298, 10, 2166],\n",
       " [14, 22],\n",
       " [399, 18, 8265, 750, 5492, 7280, 52162],\n",
       " [597, 18, 133, 991],\n",
       " [213, 41, 24, 1207],\n",
       " [12, 187, 18, 187],\n",
       " [10, 52163, 1901, 14563, 1065, 6104, 740, 4, 145, 1916, 484],\n",
       " [27, 355, 291, 327, 5615, 562, 9942, 264, 17],\n",
       " [1679, 59, 1990, 29, 1221],\n",
       " [32, 742, 119],\n",
       " [52164, 270, 701, 270, 49, 21, 155, 73, 2118, 680],\n",
       " [376, 52165, 52166, 1125, 76, 95, 5],\n",
       " [49, 104, 241, 104, 664],\n",
       " [31, 4, 662, 3828, 2429, 52167, 66, 58, 82, 2971, 258],\n",
       " [25, 1279, 233, 9, 424, 118, 482, 2, 161],\n",
       " [12114, 420, 182, 77, 27, 11584, 649, 2, 22, 622, 154, 73],\n",
       " [65, 37],\n",
       " [4385, 446, 1580, 1709],\n",
       " [1114, 117, 728, 2, 1, 12, 11108, 89, 503, 6, 13, 2410, 2327, 13268],\n",
       " [26,\n",
       "  6,\n",
       "  328,\n",
       "  8263,\n",
       "  75,\n",
       "  3068,\n",
       "  13506,\n",
       "  26,\n",
       "  1108,\n",
       "  52168,\n",
       "  799,\n",
       "  60,\n",
       "  9,\n",
       "  26,\n",
       "  18379,\n",
       "  2033,\n",
       "  2006,\n",
       "  124],\n",
       " [177, 90, 52, 4731, 52169, 29, 318, 636],\n",
       " [1243, 1444, 4484, 582, 52170, 176, 2, 118, 333, 363, 7, 1590],\n",
       " [190, 1693, 111, 7835, 746, 52171, 6, 38, 52172, 14],\n",
       " [36, 123, 6292, 1188, 3016, 42, 4],\n",
       " [6645, 18, 1247],\n",
       " [22, 11992, 226, 219, 2371, 9, 297, 4586, 472, 3350],\n",
       " [1, 74, 10312, 1746, 7467, 18, 168],\n",
       " [84, 176, 2648, 10351, 11, 6213],\n",
       " [319, 5801, 6],\n",
       " [251, 32],\n",
       " [12, 68, 13, 1610],\n",
       " [90, 34, 51, 73, 984, 24, 64, 52173, 43],\n",
       " [52174, 99, 655, 245, 4526, 195, 497, 52175, 1061, 5],\n",
       " [398, 59, 441, 48, 815, 5, 43],\n",
       " [143, 13967, 3291, 98, 134, 2, 300, 5],\n",
       " [164, 5, 11, 6677, 9798, 8969, 710, 2831, 17, 11410],\n",
       " [111, 966, 556],\n",
       " [477, 14, 31, 690, 142, 123, 3463, 725, 52176, 12700],\n",
       " [185, 872, 358],\n",
       " [83, 1, 170, 54, 61, 3051],\n",
       " [372, 7476, 20, 52177, 2541],\n",
       " [307, 14, 2936, 18231, 49, 709],\n",
       " [83, 189, 9316, 4473, 52178, 18, 269, 202, 263, 2596],\n",
       " [354, 14581, 36, 264],\n",
       " [502, 26, 1949, 1513, 8620, 38, 91, 7, 1420, 14, 644, 1643, 64],\n",
       " [130, 52179, 8794, 543],\n",
       " [12, 13, 34],\n",
       " [388, 156, 1205, 599, 71, 66, 89, 215, 1044, 257, 52180, 8, 86, 271],\n",
       " [1, 103, 15110, 1946, 3525, 19415, 970, 99, 95, 9327, 1198, 12, 7192, 1772],\n",
       " [52181, 18, 6095, 6503, 2, 299, 3056, 385],\n",
       " [10282, 243, 21, 14, 7, 15466, 331, 8],\n",
       " [108, 68],\n",
       " [327, 9903, 137, 398, 13, 8175],\n",
       " [85, 5047, 22618],\n",
       " [561, 26, 1790, 162, 4956, 58, 26],\n",
       " [347,\n",
       "  1093,\n",
       "  2328,\n",
       "  176,\n",
       "  172,\n",
       "  7500,\n",
       "  1062,\n",
       "  11,\n",
       "  2,\n",
       "  52182,\n",
       "  163,\n",
       "  4,\n",
       "  417,\n",
       "  179,\n",
       "  417,\n",
       "  417],\n",
       " [105, 7, 140, 395, 161, 22, 5800, 20, 1, 458, 22315, 11664, 1465, 1750],\n",
       " [3511, 5027, 3251, 2341, 18, 182],\n",
       " [33, 52183, 1810, 18, 57, 13, 225],\n",
       " [4, 19095, 1757, 111, 22271, 1799, 20713, 111, 54, 172],\n",
       " [1, 98, 61, 114, 846, 522, 10, 717, 5600, 7530],\n",
       " [732, 1583, 1449, 14, 4148],\n",
       " [5898, 1295, 3111, 3543, 36, 311, 25, 570, 5898, 773, 3436, 34, 52184],\n",
       " [650, 44, 94, 1288, 7525, 18],\n",
       " [299, 8, 407, 2238, 51, 926, 369],\n",
       " [4, 217, 2009, 339, 2766, 6362, 15, 78, 118, 5944],\n",
       " [27, 2994, 295, 1628, 294, 294, 34],\n",
       " [229, 8665, 11, 121, 62],\n",
       " [1440, 1829, 31, 143, 3481, 172, 1506, 1112, 3, 1223, 64],\n",
       " [12, 705, 15, 78],\n",
       " [3, 417, 60, 263, 1032, 105, 20],\n",
       " [2850, 445, 236, 18, 52185, 73, 2248, 171],\n",
       " [46, 57, 58, 7, 337, 665, 2, 1, 12, 329, 19, 384, 45, 6, 196],\n",
       " [7737, 11827, 5638, 1390, 1196],\n",
       " [6252, 522, 541, 156, 28, 1, 3, 60, 370, 2031, 11],\n",
       " [56, 103, 3780, 614, 494, 3780, 3921, 472, 3921, 161, 1361, 1385, 1696],\n",
       " [307, 244, 3107, 54, 60, 82, 64, 58, 255],\n",
       " [1539, 245, 1890, 4717, 245, 52186],\n",
       " [266, 52187, 2977, 229, 3081],\n",
       " [10654, 128, 15, 281, 277, 68, 235, 52, 194],\n",
       " [307, 128, 58, 68, 425],\n",
       " [4764, 288, 11, 700, 6, 43],\n",
       " [18173, 25],\n",
       " [552, 32, 313, 57, 6529, 15239],\n",
       " [170, 8],\n",
       " [3773, 58, 571, 7, 1391, 52188, 1474],\n",
       " [35, 105, 206, 1228, 120],\n",
       " [130, 20, 507, 174, 7, 614, 3098, 4757, 463, 5488, 6911],\n",
       " [799, 139, 229, 63, 247, 1090, 3321, 5247, 221],\n",
       " [35, 23, 18228, 147],\n",
       " [164, 5, 385, 4, 5, 3367, 9058, 2, 27, 98, 151, 2, 3, 114, 47],\n",
       " [22, 163, 9, 1, 2065, 193, 2573, 35, 10, 3462],\n",
       " [1182, 3238, 350, 671, 328, 671],\n",
       " [167, 49, 67],\n",
       " [84, 1357, 296, 134, 22, 6, 45, 90, 171, 2, 15, 615, 13, 422],\n",
       " [129, 2223, 781, 27, 299, 863, 9029],\n",
       " [307, 1523, 16, 898, 2754, 41, 2321, 571, 2839, 52189],\n",
       " [6291, 15, 281, 4983, 400, 213, 183, 160, 14994, 4377, 285, 416],\n",
       " [1702,\n",
       "  52190,\n",
       "  52191,\n",
       "  10896,\n",
       "  365,\n",
       "  1327,\n",
       "  4533,\n",
       "  356,\n",
       "  436,\n",
       "  1702,\n",
       "  52192,\n",
       "  4779,\n",
       "  52193,\n",
       "  52194],\n",
       " [524, 34],\n",
       " [1, 179, 247, 19831, 874, 57],\n",
       " [8273, 8273, 8273, 2789, 2789, 2789],\n",
       " [1082, 2600, 52195, 2258, 837, 18124, 5984, 515, 1106, 1768, 662, 2803],\n",
       " [382, 52196, 10674, 41, 24, 1820, 617, 3, 168, 52197, 853, 310, 5322],\n",
       " [18, 12, 931, 10, 150, 111, 37, 47, 15, 78, 7, 52198, 284, 362, 6338, 15, 78],\n",
       " [55, 445],\n",
       " [14, 31, 63, 3623, 9, 515, 8, 37, 625, 298, 332],\n",
       " [23,\n",
       "  526,\n",
       "  1529,\n",
       "  2663,\n",
       "  1338,\n",
       "  22,\n",
       "  208,\n",
       "  599,\n",
       "  2,\n",
       "  57,\n",
       "  1338,\n",
       "  52199,\n",
       "  2329,\n",
       "  241,\n",
       "  15125,\n",
       "  1529],\n",
       " [36, 13923, 137, 187],\n",
       " [18, 236],\n",
       " [25, 21991, 58, 6, 59, 1944, 176, 1055, 1850, 39, 282, 193, 485, 1534, 59],\n",
       " [20, 22, 2, 797, 197, 145, 2174, 21805, 12, 631, 534, 4],\n",
       " [1082, 11368, 1343, 127, 52200, 13948, 835],\n",
       " [169, 622, 52201, 6119],\n",
       " [35, 3728, 760, 9, 886, 6294, 3728, 3, 3103, 137, 58, 30, 6953, 258],\n",
       " [464, 948, 11970, 22290, 165, 1429, 2027, 133, 15600, 15, 272, 28, 22291],\n",
       " [349, 2176, 194, 25, 133, 15, 78, 329],\n",
       " [97, 34, 659, 415, 15, 82, 193, 876, 1386, 224, 529, 112, 205],\n",
       " [50, 52202, 52203],\n",
       " [30, 11429],\n",
       " [313, 60, 370, 8599],\n",
       " [108, 7, 385, 2, 187, 770, 313],\n",
       " [20,\n",
       "  918,\n",
       "  1,\n",
       "  940,\n",
       "  1715,\n",
       "  7594,\n",
       "  52204,\n",
       "  127,\n",
       "  266,\n",
       "  724,\n",
       "  41,\n",
       "  717,\n",
       "  1,\n",
       "  530,\n",
       "  76,\n",
       "  242,\n",
       "  39,\n",
       "  631,\n",
       "  2332],\n",
       " [60, 96, 724, 10391, 52205, 2779],\n",
       " [12751, 122, 968, 797, 597],\n",
       " [650, 8],\n",
       " [11, 45, 9, 305, 1747, 459],\n",
       " [14, 1310, 9, 4, 154],\n",
       " [27, 678, 358, 2, 15, 44],\n",
       " [6559, 1, 106, 56, 2312, 168, 685, 2652, 1541, 758, 2344, 828],\n",
       " [259, 1678, 1662, 1762, 40, 148, 9293, 581, 944],\n",
       " [67, 291, 5, 310, 30, 263, 3509, 1547, 396, 161, 22],\n",
       " [384, 22, 96, 41, 17, 852, 41, 24, 131, 11, 797, 184, 246, 139, 374],\n",
       " [396, 103, 490, 1608, 250, 39, 351, 91, 16, 377],\n",
       " [84, 104, 2, 22528, 4300, 16, 352, 7081, 1000, 1, 1082, 12252, 64],\n",
       " [127, 22, 452, 730, 2, 14, 22, 5807, 54, 1419, 303, 52206],\n",
       " [2973, 52207, 15832, 854],\n",
       " [413, 8148, 693, 283],\n",
       " [624, 808, 52208, 137, 17201],\n",
       " [41, 5, 1837, 132, 4, 51, 73, 326, 1726, 64, 43, 10646],\n",
       " [10, 10347, 21455, 166, 4692, 3664, 2005],\n",
       " [26,\n",
       "  4685,\n",
       "  1880,\n",
       "  1406,\n",
       "  26,\n",
       "  273,\n",
       "  22712,\n",
       "  4426,\n",
       "  52209,\n",
       "  5947,\n",
       "  1603,\n",
       "  2402,\n",
       "  163,\n",
       "  9,\n",
       "  5391,\n",
       "  26,\n",
       "  9212,\n",
       "  611,\n",
       "  37,\n",
       "  70,\n",
       "  124],\n",
       " [27, 3, 96, 38, 11],\n",
       " [17505, 6743, 382, 788, 2204, 13292, 59, 46, 17506],\n",
       " [1055, 542, 136, 161, 833, 429, 10194, 416, 2, 169],\n",
       " [1049, 8485, 428],\n",
       " [49, 18, 7, 191, 2, 299, 293, 15, 78, 43, 24],\n",
       " [88, 19, 83, 4907, 1139, 52210, 4118, 2201, 48, 1, 476, 2826],\n",
       " [31, 1596, 1010, 10037, 636, 20, 156, 764, 228, 52211, 32, 3473],\n",
       " [52212,\n",
       "  80,\n",
       "  81,\n",
       "  148,\n",
       "  5885,\n",
       "  322,\n",
       "  80,\n",
       "  81,\n",
       "  198,\n",
       "  2705,\n",
       "  1716,\n",
       "  52213,\n",
       "  9603,\n",
       "  116,\n",
       "  218,\n",
       "  1248,\n",
       "  2126,\n",
       "  119,\n",
       "  52214],\n",
       " [160, 6860, 6917, 20, 486, 119, 235, 168],\n",
       " [3, 231, 1035, 66, 1009, 157, 5478, 311],\n",
       " [14141, 177, 46, 2874],\n",
       " [597, 4, 42, 1365, 195, 49, 4924],\n",
       " [22, 464, 12589, 793, 534, 20, 6, 1655, 4518, 29, 276],\n",
       " [976, 30, 68],\n",
       " [133, 813, 1, 299, 8, 3, 47],\n",
       " [67, 1152],\n",
       " [316, 16216, 51, 52215, 11],\n",
       " [3220, 50, 74, 2804, 912, 606, 1999, 117, 18, 745, 20],\n",
       " [797, 867, 31, 1, 12, 59, 16, 8, 43],\n",
       " [38, 32, 4283, 141, 746, 117, 4, 354],\n",
       " [1, 116, 212, 551, 117, 52216, 7104],\n",
       " [9465, 19, 102, 15814, 174, 19, 659, 584, 3, 5540, 255, 13855, 595],\n",
       " [8570, 127],\n",
       " [7614, 1, 527, 55, 919],\n",
       " [40, 101, 571, 1239, 1378, 248],\n",
       " [4269, 1185, 592, 120],\n",
       " [880, 880, 880, 4493, 511, 52217, 354, 111, 1876, 316, 333],\n",
       " [52, 89, 511, 5085, 1325, 2844, 7367, 66, 72],\n",
       " [20, 253, 29, 253, 52218, 129, 316, 2420, 129, 2118],\n",
       " [13, 375, 52, 770, 2188, 27, 97, 618, 368, 24, 52219, 2437, 1001],\n",
       " [238, 1222, 842, 548, 5, 12, 1, 2738, 1286, 161, 22, 243, 12],\n",
       " [7853, 102, 1867, 52220, 190, 4938, 102, 55, 521, 281, 6600, 2, 73, 405],\n",
       " [742, 2084, 483],\n",
       " [49, 2040, 1348, 14, 22, 14, 1623, 868],\n",
       " [14, 419, 2961],\n",
       " [259, 2532, 459, 1278],\n",
       " [277, 291, 10, 4],\n",
       " [12, 145, 52, 252, 407, 4534, 904],\n",
       " [27, 8],\n",
       " [586, 144, 1, 8],\n",
       " [52221, 52222, 52223, 52224, 52225, 836, 6159],\n",
       " [531, 46, 1260, 221, 176],\n",
       " [83,\n",
       "  3,\n",
       "  99,\n",
       "  1788,\n",
       "  1319,\n",
       "  52226,\n",
       "  1978,\n",
       "  339,\n",
       "  222,\n",
       "  110,\n",
       "  241,\n",
       "  52227,\n",
       "  6650,\n",
       "  6257,\n",
       "  52228,\n",
       "  6650],\n",
       " [12, 9102, 14130, 209, 79, 130],\n",
       " [293],\n",
       " [22067, 1392, 729, 14, 778],\n",
       " [37, 71],\n",
       " [3, 106, 200, 5298, 295, 11],\n",
       " [4643, 52229, 272, 290, 3080, 427, 7476, 20, 167, 15718, 21281],\n",
       " [438, 14, 452, 824],\n",
       " [21, 4, 2043, 24, 51, 451, 2577, 24, 252, 57, 13, 107, 5284],\n",
       " [1155, 768, 5148, 41, 197, 136, 13, 197],\n",
       " [87, 543, 584, 505, 22318],\n",
       " [2753, 1206, 932, 7],\n",
       " [190, 21],\n",
       " [35, 527, 52230, 52231, 20486, 172, 819],\n",
       " [1,\n",
       "  91,\n",
       "  6656,\n",
       "  387,\n",
       "  237,\n",
       "  82,\n",
       "  64,\n",
       "  10,\n",
       "  683,\n",
       "  56,\n",
       "  145,\n",
       "  119,\n",
       "  13,\n",
       "  107,\n",
       "  14,\n",
       "  2061,\n",
       "  139,\n",
       "  346],\n",
       " [129, 3662, 2, 58, 21, 31, 12, 99, 95, 52232, 12607],\n",
       " [582, 79, 1246, 52233, 10, 44, 148, 423, 7484, 1, 851],\n",
       " [5622, 91, 1843, 8019, 52234, 375, 77, 1, 1001, 1004, 412, 91, 1001, 57],\n",
       " [50, 328, 328, 205, 22273, 2589],\n",
       " [85, 75, 1, 296, 90, 52235, 3688],\n",
       " [90,\n",
       "  170,\n",
       "  9114,\n",
       "  2206,\n",
       "  1058,\n",
       "  866,\n",
       "  952,\n",
       "  245,\n",
       "  52236,\n",
       "  59,\n",
       "  12,\n",
       "  2059,\n",
       "  1675,\n",
       "  52237,\n",
       "  7861,\n",
       "  22713,\n",
       "  653],\n",
       " [13499, 52238, 26, 215, 147, 119, 4667, 55, 654, 8350, 2884, 104, 15, 78, 68],\n",
       " [52239, 195, 3583, 5204, 7758, 20429],\n",
       " [1504, 208, 964, 399, 28, 26, 6, 328, 339, 17413, 182, 111, 440],\n",
       " [1451],\n",
       " [734, 52240, 5409],\n",
       " [347, 52241, 41, 595, 43, 12, 3083, 5, 52242],\n",
       " [232, 51],\n",
       " [374, 434],\n",
       " [2401, 207, 3925, 303, 3807, 3146, 9, 684],\n",
       " [9510, 338, 83, 1875, 1812, 89, 37, 683, 114, 369, 301, 10, 18496, 10280],\n",
       " [170, 375],\n",
       " [583, 19, 1556, 1703, 982, 1808, 321, 1009, 20694, 242],\n",
       " [33, 1130, 23, 518, 1530, 52243, 40, 6, 19, 57, 75, 86],\n",
       " [96, 165, 70, 11, 274, 391, 10, 314, 594, 176, 65, 52, 211],\n",
       " [68, 66, 949, 17035, 569, 286, 1622],\n",
       " [660, 263, 52244, 15440, 4047, 490, 52245, 6, 13, 52246],\n",
       " [21280, 298, 102, 3936, 715, 590, 69, 37, 1228],\n",
       " [17, 6, 53, 512, 52, 89, 68, 13, 261, 35, 4455, 52247],\n",
       " [2504, 190, 87, 42, 121, 51, 3408, 157, 68, 66, 43, 20],\n",
       " [4, 25, 956, 68, 10488, 7, 693, 2, 1206, 7, 588],\n",
       " [784, 52248, 97, 342, 34, 582, 8061, 79, 8, 13, 574, 321],\n",
       " [69, 3006, 573, 750],\n",
       " [654],\n",
       " [15, 78, 28, 4, 270, 11715, 447, 656, 52249, 29, 20002],\n",
       " [10, 1006, 4306, 111, 311, 510],\n",
       " [6524, 3179],\n",
       " [1, 67, 1168, 915, 380, 41, 24, 1310, 3801],\n",
       " [9, 506, 216, 179, 1, 165, 14194, 52250],\n",
       " [3, 47, 844, 162, 583, 93, 97, 931],\n",
       " [374, 164, 138, 19, 71, 462, 1102, 93],\n",
       " [963, 784, 52251, 736, 50, 126],\n",
       " [437, 20310, 10, 3890, 3961, 1478, 37, 6133, 4739],\n",
       " [32, 8, 52252, 570, 328, 124, 2, 15, 28, 120, 425, 64],\n",
       " [388, 5595, 11, 6233, 867, 3, 203],\n",
       " [2391, 19281, 52253, 1595, 2481, 1555, 651, 1916, 834, 7142],\n",
       " [16, 1867, 276, 178, 1401, 804],\n",
       " [228, 27, 7, 52254],\n",
       " [121, 745, 1028, 236, 1028, 1136, 1349, 745, 13],\n",
       " [85, 925, 95, 147, 1576, 5952],\n",
       " [21, 1625, 187, 550, 52255, 1428, 5542],\n",
       " [74, 9248, 12039, 334, 50, 12039, 517],\n",
       " [33, 9111, 3800, 205, 390],\n",
       " [195, 117, 1806, 3349, 182, 212, 145, 7354, 248, 42, 15607, 260, 89],\n",
       " [965, 800],\n",
       " [4311, 84, 2097, 16, 8461, 11, 1147, 349, 211, 189, 278, 7, 61, 2854],\n",
       " [22, 49, 46, 1699],\n",
       " [63, 24, 498, 312, 44, 1, 1217, 90],\n",
       " [18, 236],\n",
       " [223, 13, 10640, 960, 71, 38],\n",
       " [13, 1666, 398, 1271, 14243, 1277, 6454, 1448, 280, 11233, 1666],\n",
       " [208, 3991, 1606, 540, 440],\n",
       " [9300, 1, 1164, 922, 705, 105, 320],\n",
       " [199, 463, 68, 28, 569, 6823, 25, 253, 474, 569, 2, 257, 14937, 18839, 37],\n",
       " [12, 41, 5, 86, 2797, 291, 61],\n",
       " [2287, 56, 22166, 3234, 3621, 250, 1185, 98, 21256, 3, 106, 4],\n",
       " [3686],\n",
       " [3090, 916, 1798, 14, 3207],\n",
       " [410, 1670, 371, 7159],\n",
       " [17, 479],\n",
       " [27, 7177, 1195, 1789, 1152, 22521, 2, 4, 28, 16806, 6, 11, 38, 204],\n",
       " [738],\n",
       " [742, 12586, 1304, 3, 387, 6, 505, 542, 2641, 93],\n",
       " [35, 1, 67, 22, 126, 13951, 6578, 6100, 266],\n",
       " [52256, 22, 845, 111, 845, 65, 3528],\n",
       " [18360, 23, 2319, 3983, 832, 7971, 52257],\n",
       " [12, 148, 551, 18, 298, 3, 42, 3696, 1229, 5],\n",
       " [438, 52258, 3, 814],\n",
       " [213, 1109, 24],\n",
       " [159],\n",
       " [502, 37, 1229, 279, 32],\n",
       " [429, 4569, 5222, 2, 58, 8, 221, 2800, 2057, 9622, 191, 34, 4, 217, 428],\n",
       " [16, 170, 74, 334],\n",
       " [121, 761, 404, 5142, 3161, 14839, 1925, 3110, 45, 494, 88, 808],\n",
       " [26, 22, 134, 153, 647, 52259, 3970, 2337, 3453, 129, 104, 52260, 3970],\n",
       " [388, 799, 193, 230, 27, 915, 8661, 88, 7387, 64],\n",
       " [52261, 4421, 12668, 551, 255, 369, 15, 69, 531],\n",
       " [159, 63, 445, 157, 179, 219, 532],\n",
       " [840, 840, 712, 132, 120, 26, 491, 400, 42, 3696, 23, 731, 9282],\n",
       " [501, 136, 914, 194, 1, 454, 52262, 18336],\n",
       " [52263,\n",
       "  52264,\n",
       "  77,\n",
       "  790,\n",
       "  22714,\n",
       "  23,\n",
       "  343,\n",
       "  52265,\n",
       "  53,\n",
       "  267,\n",
       "  13736,\n",
       "  22714,\n",
       "  10290,\n",
       "  2312,\n",
       "  124],\n",
       " [60, 5, 3423, 3138, 2404],\n",
       " [254, 16, 1298, 3562, 38, 157, 99, 34],\n",
       " [52266],\n",
       " [253, 1195, 253, 3, 12, 3305, 190, 7, 52267, 10265, 20],\n",
       " [248, 1974, 16, 8086, 1712, 114, 783, 12932],\n",
       " [177, 1770, 29, 5],\n",
       " [9, 308],\n",
       " [135, 1421, 1513, 8237, 280, 234, 1308, 644, 52268, 9367],\n",
       " [4, 217, 162, 1008, 772, 927, 14, 13536, 414],\n",
       " [6784, 52269, 52270],\n",
       " [179,\n",
       "  30,\n",
       "  52271,\n",
       "  3315,\n",
       "  988,\n",
       "  146,\n",
       "  6345,\n",
       "  252,\n",
       "  18079,\n",
       "  4181,\n",
       "  181,\n",
       "  394,\n",
       "  1207,\n",
       "  15147],\n",
       " [11515,\n",
       "  10308,\n",
       "  1172,\n",
       "  3104,\n",
       "  1992,\n",
       "  21873,\n",
       "  1297,\n",
       "  11,\n",
       "  235,\n",
       "  213,\n",
       "  764,\n",
       "  1296,\n",
       "  3104,\n",
       "  1992,\n",
       "  284],\n",
       " [33, 45, 173, 124],\n",
       " [21, 40, 44, 735, 331, 63, 915, 814, 296, 2044, 1415, 3891, 154, 35, 23],\n",
       " [14, 30, 1691, 30, 11956, 6992, 29, 418, 2863],\n",
       " [52272, 93, 2, 5470, 1176, 1218, 2321, 14000],\n",
       " [694, 115, 1524, 1691, 1463, 7848, 3160, 1236],\n",
       " [1512, 5166, 2957, 253, 1629],\n",
       " [96, 9, 15, 44, 331, 242, 689, 433, 393, 60, 3225],\n",
       " [2050, 4, 1930, 7, 8, 52273, 76, 123, 657, 20],\n",
       " [5244, 512, 52274, 558, 73, 408, 330, 22260, 52275],\n",
       " [249, 71, 101, 9154, 1304, 8639, 1486, 109, 4293, 79, 8639, 1935, 353, 10],\n",
       " [845, 109, 262, 513, 946, 125, 1, 13, 909, 8852, 388, 14927],\n",
       " [96,\n",
       "  560,\n",
       "  322,\n",
       "  80,\n",
       "  81,\n",
       "  322,\n",
       "  80,\n",
       "  81,\n",
       "  322,\n",
       "  80,\n",
       "  81,\n",
       "  52276,\n",
       "  52277,\n",
       "  322,\n",
       "  80,\n",
       "  81,\n",
       "  322,\n",
       "  80,\n",
       "  81,\n",
       "  52278,\n",
       "  15280,\n",
       "  35,\n",
       "  23],\n",
       " [1280, 266, 52279, 52280, 5490],\n",
       " [639, 775, 4257, 4144],\n",
       " [374, 133, 4020, 52281, 208, 52282, 52283],\n",
       " [721, 301, 656, 2888, 819, 14, 30, 494],\n",
       " [101, 300, 62, 5, 506, 3050],\n",
       " [96,\n",
       "  132,\n",
       "  48,\n",
       "  11,\n",
       "  12,\n",
       "  343,\n",
       "  203,\n",
       "  391,\n",
       "  766,\n",
       "  102,\n",
       "  385,\n",
       "  224,\n",
       "  17062,\n",
       "  1158,\n",
       "  715,\n",
       "  1158,\n",
       "  171],\n",
       " [132, 37, 10, 2477, 19, 216, 1742, 152, 2229],\n",
       " [186, 2073, 4872],\n",
       " [191, 174, 1713, 921, 198, 174, 52284, 784, 68, 66, 104, 1007],\n",
       " [60, 151, 138, 135, 605, 151, 1036, 89, 54],\n",
       " [63, 16, 8],\n",
       " [33, 467, 45, 173, 2749, 165],\n",
       " [597, 46, 11999],\n",
       " [109, 21, 59, 2, 1, 74, 6148, 7187, 759, 53, 1, 2167, 242, 1136],\n",
       " [68, 1283, 10185],\n",
       " [14, 54, 17657, 996, 119, 1861, 419, 13, 62, 387, 555, 251],\n",
       " [61, 58, 842, 292, 321, 5062, 1136, 6222, 167, 183, 348, 197, 271],\n",
       " [23, 4694, 1933, 14, 9, 1730, 10, 883, 5937, 86, 165, 2975],\n",
       " [1, 21, 170, 291, 52285],\n",
       " [33, 1202, 493, 26, 131, 132],\n",
       " [3, 6, 4096, 7, 557],\n",
       " [52286, 15, 281, 963, 114],\n",
       " [13, 1063, 138, 151, 1096],\n",
       " [50, 5223, 51, 385, 163, 164],\n",
       " [1558, 12711, 2265, 246, 38, 3098, 2505],\n",
       " [121, 292, 606, 1303, 602, 1111, 7],\n",
       " [16, 29, 2334, 26, 357, 2014, 127, 8, 1214],\n",
       " [21, 488, 1320],\n",
       " [585, 1446, 164, 5, 9, 225, 621, 147, 65, 3094, 147, 20],\n",
       " [1182],\n",
       " [695, 46, 20717, 9, 109, 11061, 249, 52287],\n",
       " [150, 1111, 153],\n",
       " [557, 5002, 13955],\n",
       " [129, 475, 41, 843, 293, 14603, 1056, 337, 275, 66],\n",
       " [3232, 13, 8],\n",
       " [335, 427, 588, 164],\n",
       " [31, 21628, 12, 853, 385, 5],\n",
       " [454, 602, 140, 1736, 10095, 551, 66, 8],\n",
       " [14, 6, 5085, 1199, 52288, 15263],\n",
       " [85, 22, 658, 76, 50],\n",
       " [15715, 6054, 46, 498, 2329, 946],\n",
       " [33, 201, 2, 852, 9, 300, 735, 11, 2, 191, 374, 133],\n",
       " [240, 54, 70, 654, 12, 155, 1229, 43, 84, 1412],\n",
       " [47],\n",
       " [2009, 542, 888, 1776],\n",
       " [31, 1, 982, 97],\n",
       " [10225, 52289, 178, 429, 1231, 761, 15577, 1866, 292, 521, 8, 4, 8252],\n",
       " [913, 466, 210, 1029, 173, 3, 6, 560, 2130, 20],\n",
       " [195, 285, 4, 115, 28, 305, 596],\n",
       " [445, 41, 24, 14516, 1637, 52290, 20234, 52291, 28, 20],\n",
       " [17, 7, 59, 1, 76, 6, 134, 25, 28, 114],\n",
       " [52292],\n",
       " [2448],\n",
       " [261],\n",
       " [67, 2446, 1608, 264, 71, 3],\n",
       " [2230, 1088, 676],\n",
       " [12533, 243, 1260, 147, 119, 2959],\n",
       " [77, 189, 6991, 189, 679, 3066, 1662, 224, 363, 1508],\n",
       " [14, 31, 1, 56, 52293, 3002, 203, 209],\n",
       " [4404, 8, 156, 607, 8, 71],\n",
       " [163, 9, 938, 1941, 1073, 7885],\n",
       " [507,\n",
       "  52294,\n",
       "  7569,\n",
       "  72,\n",
       "  1,\n",
       "  238,\n",
       "  15,\n",
       "  78,\n",
       "  462,\n",
       "  368,\n",
       "  45,\n",
       "  179,\n",
       "  21653,\n",
       "  1081,\n",
       "  62,\n",
       "  214,\n",
       "  3228],\n",
       " [1442, 3247, 273, 336],\n",
       " [52295,\n",
       "  7380,\n",
       "  1,\n",
       "  1251,\n",
       "  90,\n",
       "  1251,\n",
       "  167,\n",
       "  2759,\n",
       "  387,\n",
       "  6,\n",
       "  44,\n",
       "  52296,\n",
       "  265,\n",
       "  14824,\n",
       "  2464,\n",
       "  623,\n",
       "  1616,\n",
       "  607,\n",
       "  17,\n",
       "  593,\n",
       "  7520],\n",
       " [874, 2267, 1906, 5887, 9024, 6254],\n",
       " [34, 170],\n",
       " [3, 1814, 8723, 52297, 457, 14806, 1643, 5469, 5356, 52298],\n",
       " [20, 14853, 2325, 52299, 127, 6, 70],\n",
       " [6853,\n",
       "  934,\n",
       "  212,\n",
       "  5745,\n",
       "  52300,\n",
       "  2167,\n",
       "  241,\n",
       "  45,\n",
       "  202,\n",
       "  5745,\n",
       "  14,\n",
       "  778,\n",
       "  2108,\n",
       "  1122,\n",
       "  497],\n",
       " [3, 5832, 1258, 2396, 195, 497, 5832, 817, 46, 1792, 119, 428],\n",
       " [35, 239, 126],\n",
       " [2, 3, 414, 386],\n",
       " [307, 52301, 50],\n",
       " [234, 582, 226, 1454, 6666, 311, 1746, 1597, 18114, 311, 189, 3, 69, 24],\n",
       " [222, 14, 261, 944],\n",
       " [46, 105, 774, 10476, 166, 347, 461],\n",
       " [2, 32, 70, 2834, 2403, 6801],\n",
       " [893, 371, 84, 104, 21, 54, 35, 23],\n",
       " [384, 138, 48, 1, 76, 1679, 6294, 1892],\n",
       " [74, 5763, 52302, 20, 168, 767, 1072, 89],\n",
       " [918, 58, 30, 6, 1623],\n",
       " [22508, 201, 7650],\n",
       " [27, 2537, 461, 1779],\n",
       " [32, 241, 452, 863, 378, 3, 272],\n",
       " [367, 12264, 1819, 333, 2, 22, 424, 1, 3, 102, 2047],\n",
       " [99, 1899, 2656, 1262, 2263],\n",
       " [522,\n",
       "  2358,\n",
       "  7884,\n",
       "  37,\n",
       "  175,\n",
       "  790,\n",
       "  122,\n",
       "  205,\n",
       "  663,\n",
       "  436,\n",
       "  104,\n",
       "  91,\n",
       "  2,\n",
       "  1,\n",
       "  3,\n",
       "  832,\n",
       "  8652,\n",
       "  22715],\n",
       " [546, 30, 955],\n",
       " [6296, 52303, 52304, 440, 20, 73, 3, 316, 253, 297, 52305],\n",
       " [327, 16181, 52, 1123, 16, 52306, 10552, 433, 9, 375, 304, 82, 1693, 10, 883],\n",
       " [12, 23, 11, 104, 756, 29, 117, 9841],\n",
       " [338, 205, 67, 196],\n",
       " [34, 1988, 1880, 43, 7945, 37, 56, 66, 734, 42, 27, 115],\n",
       " [49, 252, 153, 2, 3, 1039],\n",
       " [598, 194],\n",
       " [627, 3739, 484],\n",
       " [180, 1253, 9, 12434, 553, 4259, 22, 190, 6495, 180, 1253, 77],\n",
       " [8, 371, 638, 112, 21, 54, 60],\n",
       " [2759, 68, 104],\n",
       " [2911, 475, 9672, 52307, 52308, 11],\n",
       " [12, 4962, 204, 72],\n",
       " [153, 132, 3125, 5, 16, 34, 1641, 7809, 2, 47],\n",
       " [1426, 9],\n",
       " [315, 3899, 1, 5058, 829],\n",
       " [49, 6, 4653, 615, 52309, 861, 49, 3, 9, 3688, 20],\n",
       " [33, 239, 89],\n",
       " [403, 3, 56, 1058, 346, 663, 20396, 627, 2674],\n",
       " [477, 2056, 84, 1381, 6, 424, 3885, 51, 2181, 73, 66],\n",
       " [129, 2784, 56, 4343, 1267, 1249, 1388, 11, 14, 30, 7, 366],\n",
       " [12216, 13461, 550, 309, 3825, 11],\n",
       " [1, 432, 301, 10, 286, 6824, 137],\n",
       " [1, 9, 52310, 77, 7, 17],\n",
       " [10348,\n",
       "  29,\n",
       "  3094,\n",
       "  800,\n",
       "  52311,\n",
       "  88,\n",
       "  515,\n",
       "  29,\n",
       "  20067,\n",
       "  52312,\n",
       "  608,\n",
       "  3844,\n",
       "  1,\n",
       "  231,\n",
       "  52313,\n",
       "  509],\n",
       " [52314, 62, 52315, 3558, 406, 213],\n",
       " [3935, 8249, 22, 362, 1541, 7, 18, 207, 5, 11, 3935, 21776],\n",
       " [20, 46, 289, 91, 16, 2025, 4503, 22629, 3558, 52316],\n",
       " [1, 67, 26, 686, 1452, 42, 26, 6, 70, 1926],\n",
       " [3692, 112, 5466, 14, 3329, 2856, 1184],\n",
       " [13782,\n",
       "  52317,\n",
       "  6814,\n",
       "  52318,\n",
       "  1098,\n",
       "  3303,\n",
       "  11130,\n",
       "  4416,\n",
       "  2165,\n",
       "  102,\n",
       "  35,\n",
       "  1171,\n",
       "  181],\n",
       " [1182, 113, 1, 1128, 45, 50, 456, 6625, 22146, 3246, 89],\n",
       " [50, 60, 42, 2356, 34, 89],\n",
       " [13, 27, 10, 864, 70],\n",
       " [231, 43, 24, 12, 28, 969, 1213, 168],\n",
       " [52319, 13, 213, 9266, 52320, 2291, 10404, 25, 614, 4884, 7309, 51, 73, 7],\n",
       " [14, 9146, 2590],\n",
       " [199, 2035, 1633, 245, 550, 1402, 2773, 390, 729],\n",
       " [22716, 4494, 6418],\n",
       " [287, 387, 28, 498, 11, 792, 882],\n",
       " [6812, 969, 1213, 74, 55],\n",
       " [128, 40, 1716, 8, 4, 28, 1743, 3267, 166],\n",
       " [10, 834, 1957, 42, 3, 101, 4612],\n",
       " [233, 445, 1750, 647, 9545, 760, 1430, 304, 19078],\n",
       " [48, 1322, 18],\n",
       " [17, 6, 103, 8, 114, 1491, 5],\n",
       " [49, 18, 26, 467, 52321, 94, 418, 619],\n",
       " [1419, 10051, 3300, 268, 12786, 3749, 58, 1624, 1169],\n",
       " [156, 27, 9, 27, 30, 19, 320, 2, 14, 17, 69, 19],\n",
       " [38, 276, 3813, 1297, 289, 14, 161, 9771, 52322, 253, 15657],\n",
       " [1145, 54, 560, 51, 52323, 102, 203, 887, 174, 1512, 32],\n",
       " [57, 1338, 5783, 52324],\n",
       " [33, 4778, 1287, 1278, 18, 196, 1897, 3237, 1830],\n",
       " [106, 876, 2, 925],\n",
       " [35, 77, 1485, 21840],\n",
       " [1214, 128],\n",
       " [85, 2077],\n",
       " [363, 757, 12464, 22717, 1765],\n",
       " [1644, 1, 5896, 2776, 6231, 520, 14, 40, 1554, 3123, 834, 3343, 1643, 2762],\n",
       " [1134, 375, 1102, 52325, 2731, 1102, 4171, 7413, 2508],\n",
       " [68, 2363, 256, 605],\n",
       " [63, 91, 393, 1195, 36, 1381, 112, 313, 1274, 1260, 7086],\n",
       " [344, 9, 526, 1118],\n",
       " [84, 1255],\n",
       " [1930, 12616, 4782, 222, 48, 34],\n",
       " [14,\n",
       "  285,\n",
       "  119,\n",
       "  55,\n",
       "  1,\n",
       "  415,\n",
       "  409,\n",
       "  280,\n",
       "  302,\n",
       "  4,\n",
       "  131,\n",
       "  1551,\n",
       "  2609,\n",
       "  706,\n",
       "  210,\n",
       "  1029,\n",
       "  923,\n",
       "  225,\n",
       "  17269],\n",
       " [4, 24, 52326, 203],\n",
       " [1165, 4645, 18704, 1985, 14317, 2096, 9, 21, 10061],\n",
       " [205, 195, 52327, 1109, 18255, 1628, 200, 5],\n",
       " [19089, 590, 467, 9008, 160, 52328, 160, 375, 108, 1923],\n",
       " [1530, 11711, 6136, 4945, 22718, 10604],\n",
       " [159, 435, 15, 78, 28, 904, 529, 329, 1, 174, 7597],\n",
       " [14455],\n",
       " [398, 1437, 2776, 4553, 262, 33, 54, 70],\n",
       " [4331, 52329, 1779, 5839, 9887, 3085, 735, 23, 603],\n",
       " [18, 29, 378, 390],\n",
       " [16, 13, 1638, 4541, 1807, 4845, 1156, 17],\n",
       " [1008, 35, 25],\n",
       " [15, 104, 118, 279, 75, 268, 1159, 1348, 369],\n",
       " [31, 166, 151],\n",
       " [33, 249, 390],\n",
       " [61, 1, 238, 13304, 1913, 57, 52330],\n",
       " [429, 544, 1115],\n",
       " [501, 198, 775, 5067, 1958, 1547, 775],\n",
       " [35, 18, 4386, 4170, 2248, 88, 173, 4119, 7860],\n",
       " [557, 1458, 172, 52331],\n",
       " [121, 1704, 3808, 2680, 2500, 2518, 3266],\n",
       " [238, 1635, 126, 18, 226],\n",
       " [42, 140, 47, 1139, 385],\n",
       " [1119, 12604, 52332, 52333, 5022, 1467],\n",
       " [48, 28, 29, 9022],\n",
       " [377,\n",
       "  19875,\n",
       "  52334,\n",
       "  2422,\n",
       "  312,\n",
       "  82,\n",
       "  805,\n",
       "  6273,\n",
       "  1604,\n",
       "  4142,\n",
       "  2410,\n",
       "  465,\n",
       "  207,\n",
       "  188],\n",
       " [52335, 8111],\n",
       " [14589, 1576, 470, 166, 652, 2, 253, 3325],\n",
       " [69, 2715, 8, 107, 143, 1575, 1518, 175, 1455, 71, 174, 48, 1315],\n",
       " [38, 17, 11526, 214, 213, 41, 24, 730, 11737, 47],\n",
       " [10],\n",
       " [11573, 2821, 6563, 182, 109, 1620, 52336, 3769, 342, 73, 513, 94, 9775, 67],\n",
       " [187, 187, 7, 139],\n",
       " [52337, 580, 2476, 20053],\n",
       " [1,\n",
       "  2647,\n",
       "  1360,\n",
       "  5027,\n",
       "  451,\n",
       "  1429,\n",
       "  3884,\n",
       "  50,\n",
       "  126,\n",
       "  226,\n",
       "  2,\n",
       "  45,\n",
       "  28,\n",
       "  89,\n",
       "  3043,\n",
       "  53,\n",
       "  12513],\n",
       " [31, 111, 6],\n",
       " [52338, 1570, 52339, 1, 129, 123, 19, 4702, 4652],\n",
       " [4675, 508, 1061, 2455, 3176, 41, 71, 163, 9, 2917, 13, 2305, 290, 4689],\n",
       " [3, 9, 22405, 16528, 180, 52340, 933, 903, 237, 4, 52341, 52342, 10487],\n",
       " [969, 1213, 168, 474, 229, 41, 2801],\n",
       " [315, 1, 409, 6804, 437, 102, 1799, 18, 86, 549, 677, 1174, 2879],\n",
       " [556, 113, 376, 72],\n",
       " [1, 566, 595, 43, 973],\n",
       " [313, 14, 710, 649],\n",
       " [15, 6, 269, 2672, 5315, 8411, 411, 92],\n",
       " [1024, 448, 63, 3549, 5935, 2097, 1036, 2105],\n",
       " [100],\n",
       " [22, 26, 99, 465, 15706, 523],\n",
       " [94, 249, 21, 823, 131, 200, 288],\n",
       " [875, 42, 23],\n",
       " [118, 333, 1924, 11178, 148, 1409, 570, 654, 222, 1122, 21388, 4221],\n",
       " [4, 25, 1569, 3964, 97, 915, 380, 3994, 3251, 4025],\n",
       " [247, 181, 426, 2905, 240, 748, 28, 1551, 168, 368],\n",
       " [453,\n",
       "  39,\n",
       "  52343,\n",
       "  5672,\n",
       "  861,\n",
       "  53,\n",
       "  3872,\n",
       "  2316,\n",
       "  27,\n",
       "  52344,\n",
       "  3007,\n",
       "  52345,\n",
       "  2816,\n",
       "  38,\n",
       "  276,\n",
       "  951,\n",
       "  52346],\n",
       " [762, 1168],\n",
       " [54, 60, 8110],\n",
       " [179, 1677, 849, 132, 1714, 4098, 6319, 212, 589],\n",
       " [31, 6855, 1096, 1440],\n",
       " [1182, 78, 266, 47],\n",
       " [259, 41, 713, 6883],\n",
       " [22719, 298, 40, 44, 16, 431, 1184, 7, 43, 386, 2148, 227, 1286, 3172],\n",
       " [215, 99, 3231, 11],\n",
       " [1168, 1, 656, 409, 4099, 61, 140, 3, 2015, 5548, 2240, 161, 7, 2106, 1171],\n",
       " [83, 234, 4, 8587, 609],\n",
       " [141, 8, 9118, 128],\n",
       " [1318, 20, 3964, 46, 82, 622, 279, 19],\n",
       " [259, 2937, 8044, 103, 53, 9805],\n",
       " [336, 6778, 92, 377, 17897, 2, 394, 1267, 6765, 17, 148, 4429, 1, 76, 1375],\n",
       " [5496, 14300, 1171, 2, 159, 52347, 52348, 269, 241],\n",
       " [1986, 5010, 18, 3321],\n",
       " [4, 217, 715, 1129, 52349, 1443, 1901, 312, 196, 619],\n",
       " [383, 21, 6, 29, 5326],\n",
       " [35, 229, 4996, 168, 46, 121, 381, 61],\n",
       " [129, 675, 154, 1679, 4662, 3547, 21, 7209],\n",
       " [1623, 254, 652, 499, 20714, 488, 7, 13, 44, 2, 2062, 16, 65],\n",
       " [2, 92],\n",
       " [376, 57, 61, 110, 177, 129, 7, 13, 44, 2, 143, 709],\n",
       " [29, 1369, 107],\n",
       " [303, 814, 5814, 192, 395, 5814, 134],\n",
       " [29, 860, 1790, 41, 24, 512, 2582, 1248, 4405, 52350],\n",
       " [223, 32, 330, 671, 89, 107],\n",
       " [167, 1917, 15],\n",
       " [12283, 10, 19, 1390, 122],\n",
       " [52351, 52352, 35, 3759, 52353, 8915, 20498],\n",
       " [389, 113, 92, 6543, 4509, 609, 865, 5, 16, 4, 493],\n",
       " [177, 109, 539, 121, 778, 182, 16, 239, 3029, 96],\n",
       " [259, 446, 549, 889, 424, 69, 2469, 23, 16629],\n",
       " [16, 164, 1896, 18, 451, 468],\n",
       " [4732, 4732, 9778],\n",
       " [13310, 62, 402, 512, 1181, 11, 5794, 159, 1144],\n",
       " [10, 292, 10, 1782, 169, 13470, 359],\n",
       " [52354, 3222, 10121, 442, 2112, 14484, 11565],\n",
       " [30, 7, 765],\n",
       " [55, 112, 190, 5245, 23, 52355, 1254, 52356, 702, 25, 1303],\n",
       " [232,\n",
       "  24,\n",
       "  18144,\n",
       "  35,\n",
       "  50,\n",
       "  509,\n",
       "  483,\n",
       "  23,\n",
       "  36,\n",
       "  44,\n",
       "  2,\n",
       "  3,\n",
       "  4,\n",
       "  221,\n",
       "  873,\n",
       "  283,\n",
       "  4,\n",
       "  370],\n",
       " [38, 17, 72, 17, 59],\n",
       " [158, 52357],\n",
       " [6605, 6525, 15241, 417, 65, 36, 848, 76, 6, 151],\n",
       " [225],\n",
       " [252, 5190],\n",
       " [12545, 5815, 6974, 209, 1265, 4954, 4321],\n",
       " [54, 84, 87, 2, 1568, 1080, 131, 4, 54, 4],\n",
       " [13, 8, 95, 93],\n",
       " [27, 92, 17, 20027, 38, 20028, 20029],\n",
       " [12, 21843, 72, 5643],\n",
       " [1642, 737, 25, 1678, 4, 5, 1251],\n",
       " [3358, 52358, 23, 274, 1, 3, 19, 33],\n",
       " [74, 3289, 20539, 755, 8294, 14380, 1935, 1595, 3858, 52359],\n",
       " [11893, 6777, 136, 573, 52360],\n",
       " [55, 92],\n",
       " [3138, 18148, 15604, 273, 26, 7081, 38, 1300, 1442, 14330],\n",
       " [4269, 77, 26, 70, 123, 49, 65, 92, 26, 3, 153, 409],\n",
       " [10, 589, 11, 5, 15341, 52361],\n",
       " [8922, 324, 21277, 693, 444, 606, 52362, 334, 74],\n",
       " [55, 546, 205, 1, 67],\n",
       " [7458, 452],\n",
       " [33, 54, 2030],\n",
       " [34, 397, 277, 25, 293],\n",
       " [12251, 27, 103, 1940, 1849, 704, 52363],\n",
       " [208, 9, 24, 42, 5515, 23, 428],\n",
       " [2284, 161, 7, 106, 52364, 455],\n",
       " [23, 241],\n",
       " [174,\n",
       "  11727,\n",
       "  14893,\n",
       "  133,\n",
       "  22,\n",
       "  1634,\n",
       "  22665,\n",
       "  11727,\n",
       "  16652,\n",
       "  2339,\n",
       "  257,\n",
       "  52365,\n",
       "  12441,\n",
       "  482,\n",
       "  6175,\n",
       "  10275,\n",
       "  638],\n",
       " [108, 69, 115, 32, 2, 52366, 152, 347, 52367, 169],\n",
       " [2919, 44, 5751, 17, 404],\n",
       " [1145, 304, 265, 401, 241, 110, 55],\n",
       " [85, 65, 39, 13600, 8],\n",
       " [8720, 5951, 14907, 72],\n",
       " [14959, 527, 1755, 4306, 52368, 426],\n",
       " [3862, 19, 220, 3600],\n",
       " [36, 41, 71, 22720, 110, 313, 1044, 170, 54, 9, 1, 1591, 75],\n",
       " [732, 154, 1432],\n",
       " [18, 29, 236, 6335, 310, 48, 5029, 4039, 276, 908, 1602, 2266],\n",
       " [52369, 1091, 1091, 40, 260, 11650],\n",
       " [48, 343],\n",
       " [52370, 52371, 2384],\n",
       " [3, 3905, 12, 13, 4970],\n",
       " [1, 231, 2022, 2273, 137],\n",
       " [1, 527, 2, 407, 2047, 22637, 25, 40, 19],\n",
       " [951, 138, 92, 108, 7, 545],\n",
       " [9316,\n",
       "  17,\n",
       "  12824,\n",
       "  41,\n",
       "  24,\n",
       "  74,\n",
       "  52372,\n",
       "  52373,\n",
       "  193,\n",
       "  227,\n",
       "  2014,\n",
       "  4181,\n",
       "  861,\n",
       "  1119,\n",
       "  12981,\n",
       "  52374,\n",
       "  145,\n",
       "  1208],\n",
       " [9438, 542],\n",
       " [282, 104, 188, 1, 62, 3008, 733],\n",
       " [633, 46, 3, 668, 30, 276, 202, 5919, 2633],\n",
       " [83, 63, 790, 212, 4, 19, 41, 19, 388, 1874],\n",
       " [1, 19, 79, 21, 30, 8, 34, 453],\n",
       " [25,\n",
       "  3,\n",
       "  2229,\n",
       "  10,\n",
       "  1419,\n",
       "  399,\n",
       "  3712,\n",
       "  15,\n",
       "  2031,\n",
       "  729,\n",
       "  450,\n",
       "  9,\n",
       "  6226,\n",
       "  52375,\n",
       "  6410,\n",
       "  1723],\n",
       " [223, 2905, 243, 52376],\n",
       " [94, 26, 14, 22, 219, 420, 1589, 1, 4, 33, 26],\n",
       " [1340, 17801, 5, 12042, 1010, 2411, 21456, 73, 2542, 5975],\n",
       " [587, 66, 2261, 56, 558],\n",
       " [1010, 1062, 54, 9, 9804],\n",
       " [444, 5916, 2315, 7, 139, 246, 246, 139],\n",
       " [762, 229, 292],\n",
       " [169],\n",
       " [18317, 466, 27, 14, 771],\n",
       " [244, 12293, 314, 122, 2237, 2279],\n",
       " [300, 74, 961],\n",
       " [90, 3743, 422],\n",
       " [307, 52, 6, 98, 20435, 544, 2, 1201, 418, 51, 73, 7, 13, 576, 52],\n",
       " [841, 2641, 159, 5960, 451, 224],\n",
       " [59, 17, 3472, 71],\n",
       " [699, 5954, 52377, 52378, 12, 193, 876, 1386, 531, 10, 699, 5954],\n",
       " [20, 253, 394, 2383],\n",
       " [262, 12857],\n",
       " [188, 11, 11, 6986, 3069, 5582, 52379, 4, 207],\n",
       " [307, 594],\n",
       " [951, 1950, 1085, 4737, 5, 107],\n",
       " [449,\n",
       "  63,\n",
       "  2948,\n",
       "  1143,\n",
       "  533,\n",
       "  816,\n",
       "  1,\n",
       "  1489,\n",
       "  2065,\n",
       "  17778,\n",
       "  14750,\n",
       "  52380,\n",
       "  22515,\n",
       "  18230,\n",
       "  67,\n",
       "  10729],\n",
       " [1118, 52381, 4675, 6448, 3725, 244, 2076],\n",
       " [3, 96, 23, 25, 3, 116, 365, 349],\n",
       " [2795, 390, 22721, 838, 259],\n",
       " [16, 876, 1386, 6110, 1010],\n",
       " [153, 137, 163, 679, 35, 210, 5319],\n",
       " [364, 2542, 580, 1979, 121, 345, 14, 30, 7, 13, 332, 220, 6043],\n",
       " [765, 51, 135, 9324, 1, 637],\n",
       " [33, 657, 52382, 18, 29, 6793],\n",
       " [4325, 359],\n",
       " [1365, 6779, 16, 52383, 22711, 6779, 2, 302, 12, 22571, 306, 302],\n",
       " [188, 32, 220],\n",
       " [744, 92],\n",
       " [1859, 917, 36, 151, 166, 13, 9068],\n",
       " [33, 5896, 2776, 6229],\n",
       " [521, 1383, 2949, 1120, 396, 230, 52384],\n",
       " [50, 1661, 21919],\n",
       " [12, 705, 17, 52385, 1906, 52386],\n",
       " [307, 3349, 1336, 121, 61, 229, 493, 370, 872],\n",
       " [1094, 242, 2907, 1246, 1068, 908, 1623],\n",
       " [186, 79, 4870],\n",
       " [3515, 24, 3330, 10, 562, 306, 2000, 2799, 563, 52387, 52388],\n",
       " [42, 6, 230, 24, 115, 339, 376, 68, 329],\n",
       " [185, 7205, 382, 1658, 416, 38, 758, 31, 382, 1258, 304, 3133],\n",
       " [20518],\n",
       " [525, 46, 287, 31],\n",
       " [7792, 1180],\n",
       " [232, 391, 360, 8],\n",
       " [825, 59, 1873],\n",
       " [15, 44, 106, 4776, 400, 2961, 49, 279, 11765, 1221, 18293, 91],\n",
       " [12699, 5760],\n",
       " [50, 207, 1, 12, 59, 386],\n",
       " [1, 52389, 349, 2499, 11, 356, 166, 630, 79],\n",
       " [438, 403, 183, 1099, 15807, 816, 380],\n",
       " [575, 213, 258],\n",
       " [1061, 2182, 373, 368, 24, 69, 61, 2854],\n",
       " [128, 1604, 905, 293, 53, 125, 453, 27, 4, 7],\n",
       " [18, 225, 5181, 52390],\n",
       " [46, 52391, 748, 1142, 3019, 4091, 20],\n",
       " [659, 3720, 142, 39, 4487, 220, 4005, 7916, 1936, 961],\n",
       " [51, 12, 113, 39, 535, 226, 1191, 648, 705, 1, 1173, 4730],\n",
       " [1302, 1465, 186, 3999, 21, 283, 14, 30, 7, 8, 11],\n",
       " [3838, 786, 262],\n",
       " [361, 2354, 514, 874, 52392, 15568],\n",
       " [12, 931, 660, 17, 1790, 7003, 3, 252, 943, 6546, 2467, 1933, 2467],\n",
       " [749, 430, 115, 41, 24, 12, 345, 1168, 25, 345, 536, 1989, 272],\n",
       " [83, 67, 175, 641, 71, 1065],\n",
       " [5242, 38, 2, 19564, 12546, 655, 163, 9, 60, 1244],\n",
       " [324, 2722],\n",
       " [2518, 1435],\n",
       " [1670, 304, 87, 34, 41, 24, 25, 42, 87, 6, 34],\n",
       " [1678, 52, 43, 27, 10, 751, 542, 18670],\n",
       " [3535, 3438, 49, 102, 6672, 17, 17902, 201, 117, 4627],\n",
       " [153, 21, 573, 2248, 36, 212, 52393, 3, 269, 541],\n",
       " [4, 25, 4, 25, 4, 25, 974, 446, 4, 5],\n",
       " [9095, 542, 118, 542, 52394],\n",
       " [52395, 119, 52396, 365, 2555, 3338],\n",
       " [229, 162, 436, 948, 52397, 53, 279, 15328, 253, 52398],\n",
       " [146, 157, 707],\n",
       " [55, 14, 3819, 960, 105, 45, 3037, 4628, 589],\n",
       " [52399, 723],\n",
       " [4,\n",
       "  1342,\n",
       "  1286,\n",
       "  31,\n",
       "  45,\n",
       "  69,\n",
       "  518,\n",
       "  34,\n",
       "  121,\n",
       "  1394,\n",
       "  52400,\n",
       "  7,\n",
       "  1156,\n",
       "  220,\n",
       "  1402,\n",
       "  256,\n",
       "  6034,\n",
       "  1342],\n",
       " [2865, 194, 43],\n",
       " [40, 209, 262, 30, 6, 647],\n",
       " [77, 143, 53, 2559, 1230, 80, 81, 1217, 62],\n",
       " [74, 334, 90, 7],\n",
       " [14, 786, 2633, 2425, 4143],\n",
       " [20,\n",
       "  83,\n",
       "  2,\n",
       "  1791,\n",
       "  15,\n",
       "  281,\n",
       "  364,\n",
       "  185,\n",
       "  35,\n",
       "  1166,\n",
       "  37,\n",
       "  20,\n",
       "  257,\n",
       "  18,\n",
       "  124,\n",
       "  399,\n",
       "  155],\n",
       " [1, 34, 7, 59, 1165, 112, 12, 1796],\n",
       " [20, 1634, 569, 1, 156, 374, 22722],\n",
       " [274, 22, 419, 645, 3, 119],\n",
       " [49, 809, 8935, 9195, 2221, 269, 252, 1922, 10, 40, 1556, 554, 430],\n",
       " [38, 1340],\n",
       " [12101, 1464, 722],\n",
       " [528, 254, 1311, 381, 2916],\n",
       " [52401, 25, 175, 44, 130],\n",
       " [15, 3037, 5381, 52402, 179, 152, 400, 174],\n",
       " [98, 165, 2233, 137, 470, 1399, 191],\n",
       " [1087, 3518, 537, 394, 359, 374, 85, 85, 164, 5],\n",
       " [924, 136, 6, 3404, 82, 64, 1077, 10871, 1659, 41, 197],\n",
       " [10, 1699, 55, 3417, 91, 3807, 3910, 241, 22001],\n",
       " [133, 894, 2534, 4015, 84, 133],\n",
       " [1142],\n",
       " [986, 287, 1081, 53, 218, 23, 3618, 7494, 767, 24],\n",
       " [836, 7206, 599, 627, 15, 452],\n",
       " [535, 535, 4292, 504, 225, 2857, 540],\n",
       " [557, 1349, 23, 538, 461],\n",
       " [987, 72, 38, 2, 21, 2911],\n",
       " [4, 28, 496, 32, 165],\n",
       " [85, 5232, 1606],\n",
       " [24, 52403, 1162, 365, 34, 2984, 480, 1988, 90, 2479, 1346, 1912, 4881],\n",
       " [525, 561, 2, 1, 302, 64, 1, 34, 101, 756],\n",
       " [27, 397],\n",
       " [52404, 1258, 1276, 70, 192, 91],\n",
       " [51, 1674, 32, 20],\n",
       " [602, 16590, 15040, 908],\n",
       " [130, 215, 99, 5, 8, 1414, 2, 47, 52405, 696, 111, 47],\n",
       " [52406, 52407, 16, 637, 1304, 52408, 40, 748, 290, 52409, 572],\n",
       " [11, 198, 659, 600, 258, 1175],\n",
       " [52410, 52411, 68, 130, 1303],\n",
       " [194, 1724, 1070, 474, 71, 18470, 3079, 1425, 12084],\n",
       " [77, 12, 1606, 2, 4, 42],\n",
       " [7934, 3603, 2739],\n",
       " [52412],\n",
       " [524, 358, 49, 7, 139],\n",
       " [199, 151, 2848, 68],\n",
       " [14154, 13, 52, 2097, 2332, 1218, 3970, 38, 275, 271, 96, 52413],\n",
       " [52414, 2, 1961, 1010],\n",
       " [36, 391, 545, 31, 45, 99, 4335],\n",
       " [94, 249, 510, 181],\n",
       " [97, 2957],\n",
       " [170, 16, 9165, 10058, 5, 52, 1797],\n",
       " [52415, 107, 99, 465, 5644, 8547],\n",
       " [58, 68, 191, 343, 5060, 72],\n",
       " [256, 93, 66, 187, 13, 8, 11, 130, 5385, 904, 1499, 213],\n",
       " [130, 16, 29, 795, 2187, 1020],\n",
       " [7, 52416, 18, 1343, 17173, 6, 1016],\n",
       " [33, 174, 880, 1225, 165, 2038],\n",
       " [338, 105, 863, 52417, 237, 139, 1078, 1634, 26, 758, 3281],\n",
       " [1, 582, 596, 1099, 6, 276, 30],\n",
       " [33, 12530, 52418],\n",
       " [101, 5, 79, 248, 79, 68],\n",
       " [618, 76, 95, 5, 11, 2591, 35, 23, 838, 93],\n",
       " [296, 56, 2310, 636],\n",
       " [955, 40, 220, 52],\n",
       " [177, 52419, 243, 243, 29, 551, 540, 154],\n",
       " [96, 21951, 331, 347, 262],\n",
       " [3145, 15, 485, 137],\n",
       " [3, 9, 377, 1, 145],\n",
       " [188, 2602, 120, 26, 32, 178, 26, 14, 19],\n",
       " [652, 673, 220, 127, 519, 87],\n",
       " [52420, 880, 52421, 52422, 9174, 52423, 5028, 52424, 4140, 52425],\n",
       " [56, 103, 7, 20649],\n",
       " [38, 138, 4851, 52426, 11994, 218, 28, 3112],\n",
       " [898, 353, 3, 476, 122, 6549, 27, 2, 10, 161, 2061, 898, 1264, 52427, 25],\n",
       " [159, 236, 741, 250, 16, 52428],\n",
       " [153, 16, 100, 74, 240, 60, 6396, 2395, 2180],\n",
       " [7, 59, 442, 265, 1331, 43],\n",
       " [202],\n",
       " [1, 27, 67, 175, 1377, 21, 300],\n",
       " [177, 404, 816, 6049, 60],\n",
       " [21, 4, 1089, 2703, 490, 350, 2254],\n",
       " [2, 1445, 3291],\n",
       " [2272, 1713, 3543, 1968, 133, 48, 14, 30, 2684],\n",
       " [4992, 93, 66, 45, 50, 1768, 68, 913, 7861, 8234, 2590],\n",
       " [67, 14, 84, 26, 1095, 2885, 336, 26, 273, 298, 1542, 57, 2, 1095, 2885],\n",
       " [362, 506, 11, 13, 8, 43],\n",
       " [211, 236, 242, 5893, 3680, 119, 1694, 88, 575, 213, 208, 388, 22655],\n",
       " [114, 2229, 556, 286, 6303],\n",
       " [616, 9396, 75, 206, 54, 1063],\n",
       " [14,\n",
       "  644,\n",
       "  22723,\n",
       "  7854,\n",
       "  1396,\n",
       "  22724,\n",
       "  2678,\n",
       "  457,\n",
       "  8102,\n",
       "  11,\n",
       "  22723,\n",
       "  39,\n",
       "  370,\n",
       "  468,\n",
       "  52429,\n",
       "  14660],\n",
       " [3668, 21, 2, 304],\n",
       " [35, 18, 1178, 22193, 102],\n",
       " [52430, 16, 2075, 1126, 2075, 1547, 4642, 10, 2075, 833],\n",
       " [5692, 780, 22580, 2780, 5737, 212, 3486, 22652],\n",
       " [42, 38, 17, 66],\n",
       " [441, 720, 144],\n",
       " [52431, 14, 202, 258, 2, 2990, 788],\n",
       " [177, 1, 1399, 306, 283, 3, 4],\n",
       " [4449, 1, 56, 8096, 2, 1, 27, 12, 841, 73, 3148, 753, 161, 342, 1050, 115],\n",
       " [77, 304, 2796, 1193, 46, 41, 23, 196, 64],\n",
       " [77, 441, 193, 2, 58],\n",
       " [49, 2769, 2, 15],\n",
       " [3, 116, 134, 3, 22349, 60, 64, 469, 17],\n",
       " [106, 200, 511, 5898, 7486, 12262, 171],\n",
       " [46, 872, 14, 31, 319, 255, 9, 31, 319, 52432, 21695],\n",
       " [518, 52433, 52434, 288, 12571, 3701, 52435],\n",
       " [97, 64],\n",
       " [18, 2, 775, 208, 752, 8017],\n",
       " [8460, 24, 43, 361, 1313],\n",
       " [153, 22070, 2470, 52436, 884, 577, 1781, 9088, 52437, 3641, 875],\n",
       " [130, 6, 28, 663, 11621, 189, 699, 4464, 226, 620, 183, 10740],\n",
       " [110, 1, 374, 24, 246, 892, 211, 56, 4901, 3848, 119],\n",
       " [51, 1429, 114, 2, 457, 1, 299, 598, 7295],\n",
       " [578, 6338, 9855, 474, 832, 119, 17513, 2613],\n",
       " [1451, 1, 90, 8, 72],\n",
       " [16, 161, 22725, 10045, 45, 1065],\n",
       " [473, 112, 473],\n",
       " [87, 144, 10156, 2, 31, 143, 56, 1892],\n",
       " [327, 4196, 496, 270, 1670, 221, 14, 413, 122],\n",
       " [14, 37, 6793, 67, 45, 6, 118, 4771, 476, 707, 144],\n",
       " [33, 982, 13, 8362],\n",
       " [19, 8328, 7274],\n",
       " [143, 296, 7, 8, 6732, 939, 11, 2045, 167, 970, 245, 36],\n",
       " [63, 6674, 406, 165, 339, 44, 335, 136, 646],\n",
       " [258, 202, 15, 44, 556, 141, 173],\n",
       " [15, 1685, 994, 5301, 52438],\n",
       " [5347, 2369, 1031],\n",
       " [54, 9, 1, 299, 7694, 199, 196, 13, 2903, 894, 174, 764, 99, 275, 153, 1878],\n",
       " ...]"
      ]
     },
     "execution_count": 44,
     "metadata": {},
     "output_type": "execute_result"
    }
   ],
   "source": [
    "\n",
    "# tokenize and sequence sentences\n",
    "from keras.preprocessing.text import Tokenizer\n",
    "\n",
    "tokenizer = Tokenizer(lower=False)\n",
    "tokenizer.fit_on_texts(X_train)\n",
    "train_text_vec = tokenizer.texts_to_sequences(X_train)\n",
    "tokenizer.fit_on_texts(X_test)\n",
    "test_text_vec = tokenizer.texts_to_sequences(X_test)\n",
    "test_text_vec"
   ]
  },
  {
   "cell_type": "code",
   "execution_count": null,
   "metadata": {
    "id": "nHQNpcvC3OYq"
   },
   "outputs": [],
   "source": []
  },
  {
   "cell_type": "code",
   "execution_count": 45,
   "metadata": {
    "id": "ggUYjSWPy_rt"
   },
   "outputs": [],
   "source": [
    "# print('Maximum tweet length: {}'.format(\n",
    "# len((max((train_text_vec + test_text_vec), key=len)))))"
   ]
  },
  {
   "cell_type": "code",
   "execution_count": 47,
   "metadata": {
    "colab": {
     "base_uri": "https://localhost:8080/"
    },
    "id": "Mvvw_FKoLZgM",
    "outputId": "375e5edf-f68c-4381-8b33-f354eafc0ee1"
   },
   "outputs": [
    {
     "data": {
      "text/plain": [
       "27"
      ]
     },
     "execution_count": 47,
     "metadata": {},
     "output_type": "execute_result"
    }
   ],
   "source": [
    "#checking the next maximum number\n",
    "lenght = []\n",
    "for i in (train_text_vec + test_text_vec):\n",
    "  if  10<len(i)<28:\n",
    "    lenght.append(len(i))\n",
    "max(lenght)"
   ]
  },
  {
   "cell_type": "markdown",
   "metadata": {
    "id": "4sPjEZemt-zP"
   },
   "source": [
    "We can leave the maximum word length to 28"
   ]
  },
  {
   "cell_type": "code",
   "execution_count": null,
   "metadata": {
    "id": "0ZsZoyDCM3DO"
   },
   "outputs": [],
   "source": []
  },
  {
   "cell_type": "code",
   "execution_count": 48,
   "metadata": {
    "id": "FyvgddeWMINq"
   },
   "outputs": [],
   "source": [
    "## train['processed_tweets'].apply(lambda x : len(x.split(' '))).quantile(0.95)"
   ]
  },
  {
   "cell_type": "code",
   "execution_count": 50,
   "metadata": {
    "colab": {
     "base_uri": "https://localhost:8080/"
    },
    "id": "TsMEdDf9y_je",
    "outputId": "3b46db16-6a13-4559-94e4-78cef896b699"
   },
   "outputs": [
    {
     "name": "stdout",
     "output_type": "stream",
     "text": [
      "After Padding X[train[0]=\n",
      " [   0    0    0    0    0    0    0    0    0    0    0    0    0    0\n",
      "    0    0    0    0    0    0    0    0    0    0    0 7002  108   68]\n"
     ]
    }
   ],
   "source": [
    "# pad the sequences\n",
    "\n",
    "from keras.preprocessing import sequence\n",
    "max_words = 28\n",
    "X_train = pad_sequences(train_text_vec, maxlen=max_words)\n",
    "X_test = pad_sequences(test_text_vec, maxlen=max_words)\n",
    "# modelCNN = None\n",
    "modelRNN=None\n",
    "modelLSTM=None\n",
    "print (\"After Padding X[train[0]=\\n\", X_test[0])"
   ]
  },
  {
   "cell_type": "code",
   "execution_count": null,
   "metadata": {
    "id": "ZPJHOJKmy_gc"
   },
   "outputs": [],
   "source": []
  },
  {
   "cell_type": "markdown",
   "metadata": {
    "id": "ZiliCqUugJ3i"
   },
   "source": [
    "<br>\n",
    "\n",
    "**End of Data Preprocessing!!**\n",
    "\n"
   ]
  },
  {
   "cell_type": "code",
   "execution_count": null,
   "metadata": {
    "id": "XaaDs1_GyLMi"
   },
   "outputs": [],
   "source": []
  },
  {
   "cell_type": "markdown",
   "metadata": {
    "id": "9fGDTDeTN5WL"
   },
   "source": [
    "##**Modelling**"
   ]
  },
  {
   "cell_type": "code",
   "execution_count": 51,
   "metadata": {
    "colab": {
     "base_uri": "https://localhost:8080/"
    },
    "id": "EeWISUU0YbNX",
    "outputId": "9e6cc441-2f3b-4b66-fcfe-b6bc049c7b21"
   },
   "outputs": [
    {
     "name": "stdout",
     "output_type": "stream",
     "text": [
      "Found 55313 unique tokens.\n"
     ]
    }
   ],
   "source": [
    "word_index = tokenizer.word_index\n",
    "print('Found %s unique tokens.' % len(word_index))"
   ]
  },
  {
   "cell_type": "code",
   "execution_count": 52,
   "metadata": {
    "colab": {
     "base_uri": "https://localhost:8080/"
    },
    "id": "TE1m88wDOLPs",
    "outputId": "84d3e6f8-77f3-421d-c71f-322400c84075"
   },
   "outputs": [
    {
     "data": {
      "text/plain": [
       "202318"
      ]
     },
     "execution_count": 52,
     "metadata": {},
     "output_type": "execute_result"
    }
   ],
   "source": [
    "len((train_text_vec + test_text_vec))*2"
   ]
  },
  {
   "cell_type": "code",
   "execution_count": 53,
   "metadata": {
    "id": "Fkyoj9L4yLJm"
   },
   "outputs": [],
   "source": [
    "\n",
    "vocabulary_size = len((train_text_vec + test_text_vec))*2"
   ]
  },
  {
   "cell_type": "markdown",
   "metadata": {
    "id": "UpS81fvt5XUV"
   },
   "source": [
    "#Glove Embeddings"
   ]
  },
  {
   "cell_type": "code",
   "execution_count": 60,
   "metadata": {
    "colab": {
     "base_uri": "https://localhost:8080/"
    },
    "id": "RDoWTQWQyLEE",
    "outputId": "5d7926fe-7fdf-4f28-fa4d-c48e67d6a3aa"
   },
   "outputs": [
    {
     "name": "stdout",
     "output_type": "stream",
     "text": [
      "Found 400000 word vectors.\n"
     ]
    }
   ],
   "source": [
    "#Glove\n",
    "embeddings_index = {}\n",
    "f = open('glove.6B.100d.txt' ,encoding=\"utf8\")\n",
    "for line in f:\n",
    "    values = line.split()\n",
    "    word = values[0]\n",
    "    coefs = np.asarray(values[1:], dtype='float32')\n",
    "    embeddings_index[word] = coefs\n",
    "f.close()\n",
    "\n",
    "print('Found %s word vectors.' % len(embeddings_index))"
   ]
  },
  {
   "cell_type": "code",
   "execution_count": null,
   "metadata": {
    "id": "I55JVJt7D_Yt"
   },
   "outputs": [],
   "source": []
  },
  {
   "cell_type": "code",
   "execution_count": 61,
   "metadata": {
    "id": "-79anUm2yLBc"
   },
   "outputs": [],
   "source": [
    "# embedding_matrix = np.zeros((vocab_size,300))\n",
    "# for word,i in tqdm(token.word_index.items()):\n",
    "#     embedding_value = embedding_vector.get(word)\n",
    "#     if embedding_value is not None:\n",
    "#         embedding_matrix[i] = embedding_value"
   ]
  },
  {
   "cell_type": "code",
   "execution_count": 62,
   "metadata": {
    "id": "hVJKPRqUyK-4"
   },
   "outputs": [],
   "source": [
    "#embedding matrix\n",
    "embedding_matrix = np.zeros((vocabulary_size, 100))\n",
    "for word, i in word_index.items():\n",
    "    embedding_vector = embeddings_index.get(word)\n",
    "    if embedding_vector is not None:\n",
    "        # words not found in embedding index will be all-zeros.\n",
    "        embedding_matrix[i] = embedding_vector\n",
    "# embedding_matrix.shape"
   ]
  },
  {
   "cell_type": "markdown",
   "metadata": {
    "id": "Ii_ifjMX96eb"
   },
   "source": [
    "#Recurrent Neural Network(RNN)"
   ]
  },
  {
   "cell_type": "code",
   "execution_count": 63,
   "metadata": {
    "id": "avocMKZFu_HM"
   },
   "outputs": [],
   "source": [
    "#Now create a simple RNN model and lets see the accuracy\n",
    "from keras.layers import SimpleRNN\n",
    "from tensorflow.keras import regularizers"
   ]
  },
  {
   "cell_type": "code",
   "execution_count": 64,
   "metadata": {
    "colab": {
     "base_uri": "https://localhost:8080/"
    },
    "id": "N1Vcm0TdyK4R",
    "outputId": "1250c740-4790-4407-d005-be3b980ce23e"
   },
   "outputs": [
    {
     "name": "stdout",
     "output_type": "stream",
     "text": [
      "Model: \"sequential\"\n",
      "_________________________________________________________________\n",
      " Layer (type)                Output Shape              Param #   \n",
      "=================================================================\n",
      " embedding (Embedding)       (None, 28, 100)           20231800  \n",
      "                                                                 \n",
      " dropout (Dropout)           (None, 28, 100)           0         \n",
      "                                                                 \n",
      " simple_rnn (SimpleRNN)      (None, 150)               37650     \n",
      "                                                                 \n",
      " dropout_1 (Dropout)         (None, 150)               0         \n",
      "                                                                 \n",
      " dense (Dense)               (None, 1)                 151       \n",
      "                                                                 \n",
      "=================================================================\n",
      "Total params: 20,269,601\n",
      "Trainable params: 20,269,601\n",
      "Non-trainable params: 0\n",
      "_________________________________________________________________\n",
      "None\n"
     ]
    }
   ],
   "source": [
    "embedding_size=100\n",
    "\n",
    "\n",
    "modelRNN=Sequential()\n",
    "modelRNN.add(Embedding(vocabulary_size,embedding_size,weights = [embedding_matrix],input_length=max_words)) #embdsize\n",
    "# modelRNN.add(Embedding(vocabulary_size, embedding_size, input_length=max_words))\n",
    "modelRNN.add(Dropout(0.70))\n",
    "modelRNN.add(SimpleRNN(150,activation = \"tanh\",kernel_regularizer=regularizers.l2(0.01))) \n",
    "modelRNN.add(Dropout(0.15))\n",
    "modelRNN.add(Dense(1, activation='sigmoid'))\n",
    "print(modelRNN.summary())"
   ]
  },
  {
   "cell_type": "code",
   "execution_count": 65,
   "metadata": {
    "id": "bdQbFFvOyKyy"
   },
   "outputs": [],
   "source": [
    "modelRNN.compile(loss='binary_crossentropy', \n",
    "             optimizer='adam', \n",
    "             metrics=['accuracy'])"
   ]
  },
  {
   "cell_type": "code",
   "execution_count": 66,
   "metadata": {
    "id": "KHdqFP5yyKvj"
   },
   "outputs": [],
   "source": [
    "batch_size = 1024\n",
    "num_epochs = 2\n",
    "X_valid, y_valid = X_train[:batch_size], y_train[:batch_size]\n",
    "X_train2, y_train2 = X_train[batch_size:], y_train[batch_size:]\n",
    "callback_listRNN  = [#early1\n",
    "                keras.callbacks.ModelCheckpoint(filepath=\"my_modRNN_BestValAcc.h5\", monitor=\"val_acc\",\n",
    "                                               save_best_only=True),\n",
    "                #keras.callbacks.TerminateOnNaN()\n",
    "                ]"
   ]
  },
  {
   "cell_type": "code",
   "execution_count": 67,
   "metadata": {
    "colab": {
     "base_uri": "https://localhost:8080/"
    },
    "id": "pJRJQ4liyKsc",
    "outputId": "77ed13f3-b611-46dc-e570-c80f965c451e"
   },
   "outputs": [
    {
     "name": "stdout",
     "output_type": "stream",
     "text": [
      "Epoch 1/2\n",
      "88/88 [==============================] - ETA: 0s - loss: 1.3572 - accuracy: 0.5339WARNING:tensorflow:Can save best model only with val_acc available, skipping.\n",
      "88/88 [==============================] - 46s 503ms/step - loss: 1.3572 - accuracy: 0.5339 - val_loss: 0.9344 - val_accuracy: 0.5977\n",
      "Epoch 2/2\n",
      "88/88 [==============================] - ETA: 0s - loss: 0.8114 - accuracy: 0.5825WARNING:tensorflow:Can save best model only with val_acc available, skipping.\n",
      "88/88 [==============================] - 47s 533ms/step - loss: 0.8114 - accuracy: 0.5825 - val_loss: 0.6895 - val_accuracy: 0.6465\n"
     ]
    }
   ],
   "source": [
    "history = modelRNN.fit(X_train2, y_train2, validation_data=(X_valid, y_valid), batch_size=batch_size, epochs=num_epochs, \n",
    "             callbacks=callback_listRNN)\n",
    "modelRNN.save_weights(\"my_modRNN_Latest\")"
   ]
  },
  {
   "cell_type": "code",
   "execution_count": 68,
   "metadata": {
    "colab": {
     "base_uri": "https://localhost:8080/",
     "height": 545
    },
    "id": "1uDZ-eszqxsA",
    "outputId": "24926368-1e70-43d7-8359-7446296fd5cb"
   },
   "outputs": [
    {
     "data": {
      "image/png": "[encoded data removed]",
      "text/plain": [
       "<Figure size 432x288 with 1 Axes>"
      ]
     },
     "metadata": {
      "needs_background": "light"
     },
     "output_type": "display_data"
    },
    {
     "data": {
      "image/png": "[encoded data removed]",
      "text/plain": [
       "<Figure size 432x288 with 1 Axes>"
      ]
     },
     "metadata": {
      "needs_background": "light"
     },
     "output_type": "display_data"
    }
   ],
   "source": [
    "import matplotlib.pyplot as plt\n",
    "acc = history.history['accuracy']\n",
    "val_acc = history.history['val_accuracy']\n",
    "loss = history.history['loss']\n",
    "val_loss = history.history['val_loss']\n",
    " \n",
    "epochs = range(len(acc))\n",
    " \n",
    "plt.plot(epochs, acc, 'b', label='Training acc')\n",
    "plt.plot(epochs, val_acc, 'r', label='Validation acc')\n",
    "plt.title('Training and validation accuracy-RNN')\n",
    "plt.legend()\n",
    " \n",
    "plt.figure()\n",
    " \n",
    "plt.plot(epochs, loss, 'b', label='Training loss')\n",
    "plt.plot(epochs, val_loss, 'r', label='Validation loss')\n",
    "plt.title('Training and validation loss-RNN')\n",
    "plt.legend()\n",
    " \n",
    "plt.show()"
   ]
  },
  {
   "cell_type": "markdown",
   "metadata": {
    "id": "0yq1KecvA52u"
   },
   "source": [
    "#Loading the last epoch modeln (Optional)"
   ]
  },
  {
   "cell_type": "code",
   "execution_count": 69,
   "metadata": {
    "colab": {
     "base_uri": "https://localhost:8080/"
    },
    "id": "ZVcbhMBwyKg-",
    "outputId": "d4d6b1cf-490c-4540-e2c0-99ef0e03ebc2"
   },
   "outputs": [
    {
     "name": "stdout",
     "output_type": "stream",
     "text": [
      "Model: \"sequential_1\"\n",
      "_________________________________________________________________\n",
      " Layer (type)                Output Shape              Param #   \n",
      "=================================================================\n",
      " embedding_1 (Embedding)     (None, 28, 100)           20231800  \n",
      "                                                                 \n",
      " simple_rnn_1 (SimpleRNN)    (None, 150)               37650     \n",
      "                                                                 \n",
      " dense_1 (Dense)             (None, 1)                 151       \n",
      "                                                                 \n",
      "=================================================================\n",
      "Total params: 20,269,601\n",
      "Trainable params: 20,269,601\n",
      "Non-trainable params: 0\n",
      "_________________________________________________________________\n",
      "None\n",
      "WARNING:tensorflow:Inconsistent references when loading the checkpoint into this object graph. For example, in the saved checkpoint object, `model.layer.weight` and `model.layer_copy.weight` reference the same variable, while in the current object these are two different variables. The referenced variables are:(<keras.layers.rnn.simple_rnn.SimpleRNN object at 0x00000207190D5220> and <keras.layers.core.dense.Dense object at 0x0000020719141520>).\n"
     ]
    },
    {
     "data": {
      "text/plain": [
       "<tensorflow.python.checkpoint.checkpoint.CheckpointLoadStatus at 0x207189d2460>"
      ]
     },
     "execution_count": 69,
     "metadata": {},
     "output_type": "execute_result"
    }
   ],
   "source": [
    "#Loading the last epoch model\n",
    "modelRNN=Sequential()\n",
    "modelRNN.add(Embedding(vocabulary_size, embedding_size, input_length=max_words))\n",
    "modelRNN.add(SimpleRNN(150,activation = \"tanh\")) \n",
    "modelRNN.add(Dense(1, activation='sigmoid'))\n",
    "print(modelRNN.summary())\n",
    "modelRNN.compile(loss='binary_crossentropy', \n",
    "             optimizer='adam', \n",
    "             metrics=['accuracy'])\n",
    "modelRNN.load_weights(\"my_modRNN_Latest\")"
   ]
  },
  {
   "cell_type": "markdown",
   "metadata": {
    "id": "ZMV8YmS1_56J"
   },
   "source": [
    "<br>"
   ]
  },
  {
   "cell_type": "markdown",
   "metadata": {
    "id": "qpFUfluR_1xk"
   },
   "source": [
    "#LSTM"
   ]
  },
  {
   "cell_type": "code",
   "execution_count": 70,
   "metadata": {
    "id": "w4Nl8q4M836E"
   },
   "outputs": [],
   "source": [
    "callback_listLSTM = [#early1\n",
    "                keras.callbacks.ModelCheckpoint(filepath=\"my_modLSTM_BestValAcc.h5\", monitor=\"val_acc\",\n",
    "                                               save_best_only=True),\n",
    "                #keras.callbacks.TerminateOnNaN()\n",
    "                ]"
   ]
  },
  {
   "cell_type": "code",
   "execution_count": 71,
   "metadata": {
    "id": "BhKvwUDDKVaJ"
   },
   "outputs": [],
   "source": [
    "from keras.layers import Dense, Embedding, LSTM, SpatialDropout1D"
   ]
  },
  {
   "cell_type": "code",
   "execution_count": 72,
   "metadata": {
    "colab": {
     "base_uri": "https://localhost:8080/"
    },
    "id": "0fmxmT04KVc1",
    "outputId": "46dcbfd6-5452-4f16-a5ca-916fa2041733"
   },
   "outputs": [
    {
     "name": "stdout",
     "output_type": "stream",
     "text": [
      "Model: \"sequential_2\"\n",
      "_________________________________________________________________\n",
      " Layer (type)                Output Shape              Param #   \n",
      "=================================================================\n",
      " embedding_2 (Embedding)     (None, 28, 100)           20231800  \n",
      "                                                                 \n",
      " dropout_2 (Dropout)         (None, 28, 100)           0         \n",
      "                                                                 \n",
      " lstm (LSTM)                 (None, 150)               150600    \n",
      "                                                                 \n",
      " dropout_3 (Dropout)         (None, 150)               0         \n",
      "                                                                 \n",
      " dense_2 (Dense)             (None, 1)                 151       \n",
      "                                                                 \n",
      "=================================================================\n",
      "Total params: 20,382,551\n",
      "Trainable params: 20,382,551\n",
      "Non-trainable params: 0\n",
      "_________________________________________________________________\n",
      "None\n"
     ]
    }
   ],
   "source": [
    "embedding_size=100\n",
    "modelLSTM=Sequential()\n",
    "modelLSTM.add(Embedding(vocabulary_size,100,weights = [embedding_matrix],input_length=28)) #embdsize\n",
    "# modelRNN.add(Embedding(vocabulary_size, embedding_size, input_length=max_words))\n",
    "modelLSTM.add(Dropout(0.70))\n",
    "modelLSTM.add(LSTM(150,activation = \"tanh\",kernel_regularizer=regularizers.l2(0.01))) \n",
    "modelLSTM.add(Dropout(0.15))\n",
    "modelLSTM.add(Dense(1, activation='sigmoid'))\n",
    "print(modelLSTM.summary())"
   ]
  },
  {
   "cell_type": "code",
   "execution_count": 73,
   "metadata": {
    "id": "QXUfX40tnrmm"
   },
   "outputs": [],
   "source": [
    "modelLSTM.compile(loss='binary_crossentropy', \n",
    "             optimizer='adam', \n",
    "             metrics=['accuracy'])"
   ]
  },
  {
   "cell_type": "code",
   "execution_count": 74,
   "metadata": {
    "id": "0VbJutfKKVgV"
   },
   "outputs": [],
   "source": [
    "batch_size = 1024\n",
    "num_epochs = 2\n",
    "X_valid, y_valid = X_train[:batch_size], y_train[:batch_size]\n",
    "X_train2, y_train2 = X_train[batch_size:], y_train[batch_size:]\n",
    "callback_listLSTM = [#early1\n",
    "                keras.callbacks.ModelCheckpoint(filepath=\"my_modRNN_BestValAcc.h5\", monitor=\"val_acc\",\n",
    "                                               save_best_only=True),\n",
    "                #keras.callbacks.TerminateOnNaN()\n",
    "                ]"
   ]
  },
  {
   "cell_type": "code",
   "execution_count": 75,
   "metadata": {
    "colab": {
     "base_uri": "https://localhost:8080/"
    },
    "id": "j0Qr9BI7n-gJ",
    "outputId": "4f2e4b17-7694-4251-ec24-f8c3a99881be"
   },
   "outputs": [
    {
     "name": "stdout",
     "output_type": "stream",
     "text": [
      "Epoch 1/2\n",
      "88/88 [==============================] - ETA: 0s - loss: 1.2019 - accuracy: 0.5731WARNING:tensorflow:Can save best model only with val_acc available, skipping.\n",
      "88/88 [==============================] - 99s 1s/step - loss: 1.2019 - accuracy: 0.5731 - val_loss: 0.6898 - val_accuracy: 0.6621\n",
      "Epoch 2/2\n",
      "88/88 [==============================] - ETA: 0s - loss: 0.6473 - accuracy: 0.6516WARNING:tensorflow:Can save best model only with val_acc available, skipping.\n",
      "88/88 [==============================] - 99s 1s/step - loss: 0.6473 - accuracy: 0.6516 - val_loss: 0.5846 - val_accuracy: 0.7168\n"
     ]
    }
   ],
   "source": [
    "LSTMhistory = modelLSTM.fit(X_train2, y_train2, validation_data=(X_valid, y_valid), batch_size=batch_size, epochs=num_epochs, \n",
    "             callbacks=callback_listLSTM)\n",
    "modelLSTM.save_weights(\"my_modLSTM_Latest\")"
   ]
  },
  {
   "cell_type": "markdown",
   "metadata": {
    "id": "bmDts0y9y-mk"
   },
   "source": [
    "##**Performance Measure**"
   ]
  },
  {
   "cell_type": "code",
   "execution_count": 76,
   "metadata": {
    "colab": {
     "base_uri": "https://localhost:8080/",
     "height": 545
    },
    "id": "sv270PifPAY2",
    "outputId": "5f4b1df9-4216-440e-8b66-c1b305cff1f6"
   },
   "outputs": [
    {
     "data": {
      "image/png": "[encoded data removed]",
      "text/plain": [
       "<Figure size 432x288 with 1 Axes>"
      ]
     },
     "metadata": {
      "needs_background": "light"
     },
     "output_type": "display_data"
    },
    {
     "data": {
      "image/png": "[encoded data removed]",
      "text/plain": [
       "<Figure size 432x288 with 1 Axes>"
      ]
     },
     "metadata": {
      "needs_background": "light"
     },
     "output_type": "display_data"
    }
   ],
   "source": [
    "import matplotlib.pyplot as plt\n",
    "acc = modelLSTM.history.history['accuracy']\n",
    "val_acc = modelLSTM.history.history['val_accuracy']\n",
    "loss = modelLSTM.history.history['loss']\n",
    "val_loss = modelLSTM.history.history['val_loss']\n",
    " \n",
    "epochs = range(len(acc))\n",
    " \n",
    "plt.plot(epochs, acc, 'b', label='Training acc')\n",
    "plt.plot(epochs, val_acc, 'r', label='Validation acc')\n",
    "plt.title('Training and validation accuracy-LSTM')\n",
    "plt.legend()\n",
    " \n",
    "plt.figure()\n",
    " \n",
    "plt.plot(epochs, loss, 'b', label='Training loss')\n",
    "plt.plot(epochs, val_loss, 'r', label='Validation loss')\n",
    "plt.title('Training and validation loss-LSTM')\n",
    "plt.legend()\n",
    " \n",
    "plt.show()"
   ]
  },
  {
   "cell_type": "markdown",
   "metadata": {
    "id": "wTgajSeWSaKX"
   },
   "source": [
    "###**Confusion matrix and classification_report**"
   ]
  },
  {
   "cell_type": "code",
   "execution_count": 77,
   "metadata": {
    "id": "ZMiNPDx0KVmv"
   },
   "outputs": [],
   "source": [
    "from sklearn.metrics import classification_report, confusion_matrix"
   ]
  },
  {
   "cell_type": "code",
   "execution_count": 81,
   "metadata": {
    "id": "OWVZBq58MgBq"
   },
   "outputs": [],
   "source": [
    "cf_matrix=confusion_matrix(y_test, y_predict.round())"
   ]
  },
  {
   "cell_type": "code",
   "execution_count": 80,
   "metadata": {
    "colab": {
     "base_uri": "https://localhost:8080/"
    },
    "id": "4vDCYDrrFWvd",
    "outputId": "e2c64534-4b6b-4033-fc78-26a1fa0882a9"
   },
   "outputs": [
    {
     "name": "stdout",
     "output_type": "stream",
     "text": [
      "317/317 [==============================] - 2s 5ms/step\n",
      "              precision    recall  f1-score   support\n",
      "\n",
      "           0       0.66      0.48      0.56      4986\n",
      "           1       0.60      0.76      0.67      5130\n",
      "\n",
      "    accuracy                           0.62     10116\n",
      "   macro avg       0.63      0.62      0.62     10116\n",
      "weighted avg       0.63      0.62      0.62     10116\n",
      "\n"
     ]
    }
   ],
   "source": [
    "y_predict = modelRNN.predict(X_test)\n",
    "print(classification_report(y_test, y_predict.round()))"
   ]
  },
  {
   "cell_type": "code",
   "execution_count": 82,
   "metadata": {
    "colab": {
     "base_uri": "https://localhost:8080/",
     "height": 283
    },
    "id": "qx10tjNgMmw3",
    "outputId": "31ef4654-ba57-4e23-b198-1f298da9e80b"
   },
   "outputs": [
    {
     "data": {
      "text/plain": [
       "<AxesSubplot:>"
      ]
     },
     "execution_count": 82,
     "metadata": {},
     "output_type": "execute_result"
    },
    {
     "data": {
      "image/png": "[encoded data removed]",
      "text/plain": [
       "<Figure size 432x288 with 2 Axes>"
      ]
     },
     "metadata": {
      "needs_background": "light"
     },
     "output_type": "display_data"
    }
   ],
   "source": [
    "import seaborn as sns\n",
    "group_names = ['True Neg','False Pos','False Neg','True Pos']\n",
    "group_counts = [\"{0:0.0f}\".format(value) for value in\n",
    "                cf_matrix.flatten()]\n",
    "group_percentages = [\"{0:.2%}\".format(value) for value in\n",
    "                     cf_matrix.flatten()/np.sum(cf_matrix)]\n",
    "labels = [f\"{v1}\\n{v2}\\n{v3}\" for v1, v2, v3 in\n",
    "          zip(group_names,group_counts,group_percentages)]\n",
    "labels = np.asarray(labels).reshape(2,2)\n",
    "sns.heatmap(cf_matrix, annot=labels, fmt='', cmap='Blues')"
   ]
  },
  {
   "cell_type": "code",
   "execution_count": null,
   "metadata": {
    "id": "sg1AwzT2Spqy"
   },
   "outputs": [],
   "source": []
  },
  {
   "cell_type": "markdown",
   "metadata": {
    "id": "adLT8g2-1MZh"
   },
   "source": [
    "##**Custom Tweet For Extra Test**"
   ]
  },
  {
   "cell_type": "code",
   "execution_count": 83,
   "metadata": {
    "id": "Y79arbQCNomW"
   },
   "outputs": [],
   "source": [
    "test_data=['today is a sad day','he was happy today','not a good job']"
   ]
  },
  {
   "cell_type": "code",
   "execution_count": 84,
   "metadata": {
    "colab": {
     "base_uri": "https://localhost:8080/"
    },
    "id": "wX7c3vx1MtBg",
    "outputId": "237a08f1-cd8f-473e-acca-835ceccdf870"
   },
   "outputs": [
    {
     "name": "stderr",
     "output_type": "stream",
     "text": [
      "C:\\Users\\Arsalan\\AppData\\Local\\Temp/ipykernel_18208/1603543617.py:1: VisibleDeprecationWarning: Creating an ndarray from ragged nested sequences (which is a list-or-tuple of lists-or-tuples-or ndarrays with different lengths or shapes) is deprecated. If you meant to do this, you must specify 'dtype=object' when creating the ndarray.\n",
      "  x_test  = np.array( tokenizer.texts_to_sequences(test_data))\n"
     ]
    },
    {
     "data": {
      "text/plain": [
       "array([[  0,   0,   0,   0,   0,   0,   0,   0,   0,   0,   0,   0,   0,\n",
       "          0,   0,   0,   0,   0,   0,   0,   0,   0,   0,   0,   0,  11,\n",
       "         61,   5],\n",
       "       [  0,   0,   0,   0,   0,   0,   0,   0,   0,   0,   0,   0,   0,\n",
       "          0,   0,   0,   0,   0,   0,   0,   0,   0,   0,   0,   0,   0,\n",
       "         62,  11],\n",
       "       [  0,   0,   0,   0,   0,   0,   0,   0,   0,   0,   0,   0,   0,\n",
       "          0,   0,   0,   0,   0,   0,   0,   0,   0,   0,   0,   0,   3,\n",
       "          4, 276]])"
      ]
     },
     "execution_count": 84,
     "metadata": {},
     "output_type": "execute_result"
    }
   ],
   "source": [
    "x_test  = np.array( tokenizer.texts_to_sequences(test_data))\n",
    "x_test = pad_sequences(x_test, maxlen=28)\n",
    "x_test"
   ]
  },
  {
   "cell_type": "code",
   "execution_count": 85,
   "metadata": {
    "colab": {
     "base_uri": "https://localhost:8080/"
    },
    "id": "TQMNIjy7OTgC",
    "outputId": "3aa02f49-b428-4274-f4aa-05d8863924c6"
   },
   "outputs": [
    {
     "name": "stdout",
     "output_type": "stream",
     "text": [
      "Test sentence:- today is a sad day\n",
      "1/1 [==============================] - 0s 29ms/step\n",
      "Sentiment type:Positive [0.44907784]\n",
      "==================================================\n",
      "\n",
      "Test sentence:- he was happy today\n",
      "1/1 [==============================] - 0s 32ms/step\n",
      "Sentiment type:Positive [0.55741024]\n",
      "==================================================\n",
      "\n",
      "Test sentence:- not a good job\n",
      "1/1 [==============================] - 0s 37ms/step\n",
      "Sentiment type:Positive [0.5022574]\n",
      "==================================================\n",
      "\n"
     ]
    }
   ],
   "source": [
    "for i in range(0,len(test_data)):\n",
    "  print('Test sentence:-',test_data[i])\n",
    "  \n",
    "  res=modelRNN.predict(x_test)\n",
    "  if res[i]>0.3:\n",
    "    print('Sentiment type:Positive',res[i])\n",
    "  else:\n",
    "    print('Sentiment type:Negative',res[i])\n",
    "  print('==================================================\\n')"
   ]
  },
  {
   "cell_type": "markdown",
   "metadata": {
    "id": "ezQn9fz6Xt4_"
   },
   "source": [
    "###**Building a function to convert words into vector**"
   ]
  },
  {
   "cell_type": "code",
   "execution_count": 89,
   "metadata": {
    "id": "xHH8Y5F2X3kI"
   },
   "outputs": [],
   "source": [
    "#pre- processing custom tweets ()\n",
    "def preprocess_tweets(tweet):\n",
    "    #fo = open('/content/stopwords.txt', \"r+\")\n",
    "    #stop_words = list(fo.read().split(','))\n",
    "    #translation={39:None}\n",
    "    processed_tweet = tweet\n",
    "    processed_tweet=re.sub('\\d+', '',tweet)\n",
    "    processed_tweet=' '.join(re.sub(\"(@[A-Za-z0-9]+)|([^0-9A-Za-z \\t])|(\\w+:\\/\\/\\S+)\",\" \",processed_tweet).split())\n",
    "    processed_tweet = \" \".join(word for word in processed_tweet.split() if word not in str(STOPWORDS))\n",
    "    \n",
    "    return(processed_tweet)"
   ]
  },
  {
   "cell_type": "code",
   "execution_count": 92,
   "metadata": {
    "id": "hwBChfDKYQNI"
   },
   "outputs": [],
   "source": [
    "def tweet_to_vector(text):\n",
    "  print('Original tweet:-',text)\n",
    "  text=preprocess_tweets(text)\n",
    "  print('Processed tweet:- '+text)\n",
    "  text=text.split(' ')\n",
    "  tokenizer = Tokenizer(lower=False)\n",
    "  tokenizer.fit_on_texts(text)\n",
    "  text_vec = tokenizer.texts_to_sequences(text)\n",
    "  word_index = tokenizer.word_index\n",
    "  print(word_index)\n",
    "  print('==================================================')\n",
    "  embeddings_index = {}\n",
    "  f = open('glove.6B.100d.txt',encoding=\"utf8\")\n",
    "  for line in f:\n",
    "    values = line.split()\n",
    "    word = values[0]\n",
    "    coefs = np.asarray(values[1:], dtype='float32')\n",
    "    if word in word_index.keys():  \n",
    "      embeddings_index[word] = coefs\n",
    "  for notw in word_index.keys():\n",
    "    if notw not in embeddings_index.keys():\n",
    "      embeddings_index[notw] = 'unknown'\n",
    "  f.close()\n",
    "  print('Vector for each word in processed tweet')\n",
    "  print(embeddings_index)"
   ]
  },
  {
   "cell_type": "code",
   "execution_count": 93,
   "metadata": {
    "colab": {
     "base_uri": "https://localhost:8080/"
    },
    "id": "bfqq5eVPYWzR",
    "outputId": "fd433cf6-b526-444c-9665-02cf77b67f7b"
   },
   "outputs": [
    {
     "name": "stdout",
     "output_type": "stream",
     "text": [
      "Original tweet:- @meera2353 Hello this is very bad that company fired them, not a good day #job #sad #employeeprotest\n",
      "Processed tweet:- Hello bad company fired not good day job sad employeeprotest\n",
      "{'Hello': 1, 'bad': 2, 'company': 3, 'fired': 4, 'not': 5, 'good': 6, 'day': 7, 'job': 8, 'sad': 9, 'employeeprotest': 10}\n",
      "==================================================\n",
      "Vector for each word in processed tweet\n",
      "{'not': array([-1.9104e-01,  1.7601e-01,  3.6920e-01, -5.0323e-01, -4.7561e-01,\n",
      "        1.5798e-01, -1.1679e-01,  2.1052e-01,  3.2652e-01,  1.2194e-01,\n",
      "        9.0944e-02,  2.6089e-01,  7.6294e-01,  6.9673e-04, -5.0001e-02,\n",
      "       -4.4853e-01,  3.6239e-01,  5.6345e-01, -6.8702e-01,  3.3237e-01,\n",
      "        3.1285e-01, -1.4207e-01,  3.5327e-01, -1.6426e-01, -1.0693e-01,\n",
      "        7.7786e-02, -1.7704e-01, -9.2897e-01,  1.4680e-01, -1.3585e-01,\n",
      "        2.5682e-01,  6.6019e-01, -3.5569e-01,  2.1838e-01,  3.8173e-01,\n",
      "        5.4337e-01,  1.0197e-01,  3.5230e-01, -2.5510e-01, -1.5155e-01,\n",
      "       -6.7434e-01,  1.6903e-01,  1.6413e-01, -5.3843e-01, -1.7457e-01,\n",
      "       -2.8539e-01,  7.4044e-01, -6.7533e-01, -2.3382e-01, -1.3599e+00,\n",
      "        3.0225e-01, -1.4968e-01,  2.7043e-01,  1.1979e+00, -2.9556e-01,\n",
      "       -2.5395e+00,  1.0303e-03, -2.6272e-01,  1.8303e+00,  8.0008e-01,\n",
      "       -3.5691e-01,  5.6578e-01, -5.5040e-01,  7.0845e-02,  1.4275e+00,\n",
      "        9.0160e-02,  7.8420e-01,  7.8490e-01, -3.3538e-01, -6.5751e-01,\n",
      "       -2.0112e-01, -1.0297e+00,  6.9195e-02, -6.1272e-01,  1.1373e-01,\n",
      "       -1.9547e-01, -2.1256e-01,  4.9763e-02, -1.1619e+00, -6.4512e-02,\n",
      "        5.3146e-01, -4.7384e-01, -6.8709e-01,  1.3024e-01, -2.0899e+00,\n",
      "       -4.1346e-01,  3.0364e-01, -5.7448e-04, -1.8833e-01, -5.4779e-01,\n",
      "       -3.2058e-01, -3.6704e-01, -1.4740e-01, -1.9044e-01, -4.7712e-01,\n",
      "        4.8228e-02, -2.6215e-01, -5.9680e-01,  8.0843e-02,  2.7866e-01],\n",
      "      dtype=float32), 'day': array([-3.6689e-01,  4.1540e-01,  1.3478e-01, -1.7841e-01, -4.0050e-01,\n",
      "        2.0647e-01,  4.2742e-01,  1.1290e+00, -8.3981e-01, -4.7955e-01,\n",
      "        2.1115e-02, -1.8319e-01,  2.4588e-01, -2.9048e-02,  2.9683e-01,\n",
      "       -4.4613e-01,  1.7493e-01, -1.6619e-01, -4.9573e-01, -2.6547e-02,\n",
      "        7.6369e-01, -2.0810e-01,  2.6494e-01,  3.3085e-01,  5.7039e-01,\n",
      "        1.2832e-01, -2.8324e-01,  7.8652e-02,  3.8330e-01, -7.4012e-02,\n",
      "       -5.6725e-01, -2.5826e-01,  1.4013e-01,  1.1077e-01, -2.1629e-01,\n",
      "        4.0637e-01, -4.5740e-01,  2.7936e-01,  1.6717e-01, -1.6388e-01,\n",
      "       -6.9184e-01, -3.1493e-01,  6.5592e-01, -2.2426e-03, -1.6975e-02,\n",
      "        1.0777e-01, -1.8928e-01, -7.7079e-01,  2.4333e-01, -1.1467e+00,\n",
      "        1.2931e-01, -5.9668e-01,  5.2350e-01,  1.0476e+00, -8.3517e-01,\n",
      "       -2.6268e+00, -3.2837e-01,  2.4767e-01,  2.1535e+00,  6.0561e-01,\n",
      "       -5.4019e-01,  9.9737e-01, -1.8484e-01, -4.7044e-01, -1.9265e-02,\n",
      "        3.4195e-01,  3.1006e-01, -3.1499e-01,  2.9990e-01, -3.7647e-01,\n",
      "       -1.0041e-01, -4.8373e-01, -3.8982e-01, -3.4424e-01, -1.2195e-01,\n",
      "        5.8945e-01, -1.5675e-01, -3.3774e-01, -1.0446e+00, -3.7927e-02,\n",
      "        3.8237e-01, -6.3733e-02, -1.2990e-01,  1.2899e-01, -1.4625e+00,\n",
      "       -2.2875e-01, -3.6410e-01, -1.0337e-01,  2.3737e-01, -2.3498e-01,\n",
      "        1.5801e-01,  3.8339e-02,  1.3424e-02,  3.2535e-01, -1.1755e+00,\n",
      "        4.9695e-02,  5.7227e-01,  2.4380e-02,  2.2106e-01,  4.3169e-01],\n",
      "      dtype=float32), 'company': array([ 6.0631e-01, -3.7365e-01, -3.1874e-01,  3.0332e-02,  1.8667e-01,\n",
      "       -1.1275e+00,  1.8433e-01,  1.6875e-01, -2.0626e-01,  8.7478e-03,\n",
      "        8.6313e-01, -2.5189e-01,  4.0721e-01, -5.1964e-01, -7.9094e-01,\n",
      "       -7.2724e-01,  1.0097e+00, -1.1107e-01,  4.2026e-01,  1.6993e-01,\n",
      "        7.6219e-02, -1.1326e-01,  2.3855e-01,  4.1726e-01, -5.7761e-01,\n",
      "       -1.4314e-01, -1.9051e-01,  3.3742e-01, -4.9969e-01, -2.8331e-01,\n",
      "        2.5436e-01,  1.5028e+00, -5.0439e-01, -6.8896e-01, -4.2216e-01,\n",
      "        4.6763e-01,  3.4395e-01,  3.6374e-04,  2.6785e-01, -7.1838e-01,\n",
      "        7.3955e-01, -1.1610e-01, -4.8352e-01, -2.1261e-01, -1.1326e-01,\n",
      "        5.9394e-01, -2.6361e-01, -2.5681e-01,  2.8549e-01, -8.5409e-01,\n",
      "       -2.4955e-01,  8.7372e-02,  3.3930e-01,  8.6974e-01, -3.7837e-01,\n",
      "       -2.4103e+00, -6.7233e-01, -3.9496e-01,  2.2253e+00,  4.4400e-01,\n",
      "        7.3806e-01, -2.3085e-01,  1.4253e-03,  6.3356e-01,  2.0740e-01,\n",
      "       -3.5100e-01,  6.6789e-01,  7.4544e-01,  4.2554e-01,  4.0073e-01,\n",
      "       -1.4964e-01,  3.7755e-01, -6.6066e-01, -4.7359e-01,  3.9401e-01,\n",
      "       -3.4221e-01,  4.8540e-01, -3.4195e-01, -1.7212e+00,  4.1925e-01,\n",
      "        7.5561e-01, -2.9337e-01, -3.5955e-01,  1.0590e+00, -1.3379e+00,\n",
      "       -8.5894e-01,  7.4892e-02, -5.9180e-01, -1.5280e-01, -4.4238e-01,\n",
      "        9.6469e-02, -5.3800e-01, -4.9649e-02, -4.7351e-01, -2.7107e-01,\n",
      "        6.2337e-01, -1.1412e-01, -3.5592e-01,  1.0019e+00,  1.4789e-01],\n",
      "      dtype=float32), 'good': array([-0.030769 ,  0.11993  ,  0.53909  , -0.43696  , -0.73937  ,\n",
      "       -0.15345  ,  0.081126 , -0.38559  , -0.68797  , -0.41632  ,\n",
      "       -0.13183  , -0.24922  ,  0.441    ,  0.085919 ,  0.20871  ,\n",
      "       -0.063582 ,  0.062228 , -0.051234 , -0.13398  ,  1.1418   ,\n",
      "        0.036526 ,  0.49029  , -0.24567  , -0.412    ,  0.12349  ,\n",
      "        0.41336  , -0.48397  , -0.54243  , -0.27787  , -0.26015  ,\n",
      "       -0.38485  ,  0.78656  ,  0.1023   , -0.20712  ,  0.40751  ,\n",
      "        0.32026  , -0.51052  ,  0.48362  , -0.0099498, -0.38685  ,\n",
      "        0.034975 , -0.167    ,  0.4237   , -0.54164  , -0.30323  ,\n",
      "       -0.36983  ,  0.082836 , -0.52538  , -0.064531 , -1.398    ,\n",
      "       -0.14873  , -0.35327  , -0.1118   ,  1.0912   ,  0.095864 ,\n",
      "       -2.8129   ,  0.45238  ,  0.46213  ,  1.6012   , -0.20837  ,\n",
      "       -0.27377  ,  0.71197  , -1.0754   , -0.046974 ,  0.67479  ,\n",
      "       -0.065839 ,  0.75824  ,  0.39405  ,  0.15507  , -0.64719  ,\n",
      "        0.32796  , -0.031748 ,  0.52899  , -0.43886  ,  0.67405  ,\n",
      "        0.42136  , -0.11981  , -0.21777  , -0.29756  , -0.1351   ,\n",
      "        0.59898  ,  0.46529  , -0.58258  , -0.02323  , -1.5442   ,\n",
      "        0.01901  , -0.015877 ,  0.024499 , -0.58017  , -0.67659  ,\n",
      "       -0.040379 , -0.44043  ,  0.083292 ,  0.20035  , -0.75499  ,\n",
      "        0.16918  , -0.26573  , -0.52878  ,  0.17584  ,  1.065    ],\n",
      "      dtype=float32), 'job': array([ 2.2115e-01,  2.7844e-02, -5.3894e-02, -4.7618e-01, -3.6360e-01,\n",
      "       -5.1352e-01, -2.6740e-01,  1.7786e-01,  8.0002e-02,  3.2405e-01,\n",
      "        5.4443e-02, -4.4604e-01,  2.9408e-01, -1.3636e-01, -5.8729e-02,\n",
      "       -5.1118e-01,  2.2774e-01,  1.6583e-01,  1.7965e-01,  8.3305e-01,\n",
      "       -4.0784e-01,  4.3205e-01, -5.9220e-01, -3.3962e-01,  7.4495e-02,\n",
      "       -7.8615e-01, -3.4714e-01, -7.3778e-01, -2.0165e-01, -3.7517e-01,\n",
      "       -5.1120e-01,  4.3905e-01,  1.5289e-01, -5.3582e-01, -6.3758e-01,\n",
      "        4.3056e-01, -1.0624e+00,  3.4708e-02,  2.9883e-01, -3.4365e-01,\n",
      "       -3.6841e-01, -1.8023e-01,  3.7373e-01, -2.3811e-02, -3.5930e-01,\n",
      "        6.7622e-01, -1.4587e-01, -7.4340e-01,  2.0008e-03, -1.2319e+00,\n",
      "        2.2214e-01, -8.4533e-01, -5.5439e-01,  1.6319e+00,  2.2335e-01,\n",
      "       -2.2183e+00,  4.7548e-01, -3.9548e-01,  1.4745e+00,  1.1082e-01,\n",
      "       -1.4890e-01,  6.0955e-02, -3.3584e-01, -2.7165e-01,  7.5480e-01,\n",
      "       -1.1876e-01,  8.1228e-01,  6.2684e-02,  2.5561e-01,  2.7192e-01,\n",
      "        1.8614e-01,  3.9781e-02, -6.3905e-01, -4.7369e-01,  4.9374e-01,\n",
      "        2.6515e-01, -5.1318e-01,  2.8599e-01, -2.9260e-01, -8.2741e-02,\n",
      "        5.2519e-01, -1.2291e-01, -4.6558e-01, -4.3100e-01, -1.5716e+00,\n",
      "       -6.5427e-01,  4.7403e-01, -5.1794e-02, -5.5861e-01, -9.9539e-01,\n",
      "        2.4111e-01, -3.4781e-02,  6.2401e-01,  3.4960e-01, -1.6383e-01,\n",
      "        3.2218e-01,  2.2630e-01,  5.2428e-01,  6.7877e-01,  3.5839e-01],\n",
      "      dtype=float32), 'bad': array([ 0.39456  , -0.24717  ,  1.0319   , -0.61444  , -1.2376   ,\n",
      "        0.051794 , -0.55112  , -0.31014  , -0.025735 , -0.24709  ,\n",
      "        0.25836  ,  0.34899  ,  0.46176  ,  0.44237  ,  0.354    ,\n",
      "        0.21262  , -0.26312  , -0.17128  ,  0.44013  ,  1.1284   ,\n",
      "        0.37259  ,  0.41969  , -0.2534   , -0.051885 , -0.34917  ,\n",
      "        0.15298  , -0.68444  , -0.19514  , -0.018647 ,  0.084191 ,\n",
      "        0.14569  ,  0.3869   ,  0.023524 , -0.37861  , -0.65081  ,\n",
      "        0.010398 , -0.50087  , -0.087368 ,  0.098617 , -0.21907  ,\n",
      "       -0.072412 , -0.10247  , -0.3148   , -0.307    , -0.30457  ,\n",
      "       -0.14329  ,  0.10313  , -0.040487 , -0.095922 , -1.192    ,\n",
      "       -0.063356 ,  0.034127 , -0.057674 ,  0.56582  ,  0.082541 ,\n",
      "       -2.4617   ,  0.48029  ,  0.72806  ,  1.2841   ,  0.10672  ,\n",
      "       -0.045119 ,  1.0117   , -0.97928  ,  0.022828 ,  0.46876  ,\n",
      "       -0.026875 ,  0.80018  , -0.23101  ,  0.086699 , -0.74338  ,\n",
      "       -0.38738  , -0.1924   , -0.13292  ,  0.52347  ,  0.35659  ,\n",
      "        0.21065  , -0.18669  ,  0.41563  , -0.50874  ,  0.47643  ,\n",
      "        0.78591  ,  0.28015  , -0.74565  , -0.015569 , -1.8451   ,\n",
      "       -0.28427  , -0.81722  , -0.43254  , -0.60031  , -0.40052  ,\n",
      "       -0.26612  , -0.05855  , -0.2051   ,  0.16208  , -0.25305  ,\n",
      "        0.48163  , -0.15905  ,  0.0064973,  0.13793  , -0.06832  ],\n",
      "      dtype=float32), 'fired': array([-0.30817 , -0.73765 , -0.37882 , -0.35636 , -0.28578 ,  0.62124 ,\n",
      "        1.3145  ,  0.40499 , -0.3379  ,  1.1355  ,  0.14465 , -0.17225 ,\n",
      "        0.41831 ,  0.30683 ,  0.25821 , -0.83218 , -0.52295 ,  0.15538 ,\n",
      "       -1.1582  , -0.006743,  1.1382  , -0.17625 , -0.34953 ,  0.32289 ,\n",
      "        0.27812 , -0.15747 , -0.83381 ,  0.23711 ,  0.2958  ,  0.2126  ,\n",
      "        0.40923 ,  0.91032 , -0.54759 ,  0.20211 ,  0.2496  , -0.74741 ,\n",
      "       -0.33549 , -0.47785 ,  0.42958 ,  0.28412 , -0.67054 , -0.19439 ,\n",
      "        0.36861 ,  0.54716 ,  0.93716 ,  0.33214 , -0.42065 ,  0.1248  ,\n",
      "       -0.34651 , -0.67674 ,  0.20592 , -0.18217 , -0.35313 ,  1.1556  ,\n",
      "       -0.016021, -1.4656  , -0.40158 ,  0.20669 ,  1.0412  ,  0.72059 ,\n",
      "        0.57692 ,  0.57846 , -0.17632 ,  1.1899  , -0.11749 , -0.35904 ,\n",
      "        1.0369  ,  0.11675 , -1.0317  ,  0.74834 ,  0.02785 , -0.29344 ,\n",
      "        0.29458 , -0.68722 , -0.40337 , -0.16607 ,  0.19871 ,  0.41764 ,\n",
      "       -1.047   ,  0.71917 ,  1.5858  , -0.26165 , -0.79512 , -0.55723 ,\n",
      "       -0.16328 , -0.43134 ,  0.4477  ,  0.63432 , -0.062842, -0.24447 ,\n",
      "        0.18471 , -0.17542 , -0.39603 ,  0.2981  , -0.56727 ,  0.32023 ,\n",
      "       -0.54778 ,  0.87744 ,  0.33683 ,  0.057739], dtype=float32), 'sad': array([-0.19532  ,  0.20232  ,  0.61203  , -0.28992  , -0.86588  ,\n",
      "        0.7558   , -0.64644  ,  0.81501  ,  0.84841  , -0.44887  ,\n",
      "        0.11233  , -0.15414  ,  0.0037169, -0.33247  , -0.2841   ,\n",
      "        0.41221  ,  0.029481 , -0.37827  ,  0.4824   ,  1.2798   ,\n",
      "        0.68064  ,  0.72289  , -0.48955  ,  0.2333   ,  0.099052 ,\n",
      "        0.20363  ,  0.089845 ,  0.64516  ,  0.74412  ,  0.28051  ,\n",
      "       -0.15278  , -0.20226  ,  0.43044  , -0.69753  , -0.82179  ,\n",
      "       -0.37686  ,  0.24957  ,  0.65398  ,  0.61427  , -0.78519  ,\n",
      "        0.24869  ,  0.18725  ,  0.42488  , -0.7323   , -0.21912  ,\n",
      "        0.24199  ,  1.1491   ,  0.72102  ,  0.0076716, -0.70094  ,\n",
      "        0.43828  , -0.71392  ,  0.54495  ,  0.43827  , -0.38535  ,\n",
      "       -1.3452   ,  0.50617  ,  0.64701  ,  0.46118  ,  0.09306  ,\n",
      "        0.14875  ,  1.0391   , -1.1242   , -1.0595   ,  0.6136   ,\n",
      "       -0.55698  ,  0.84552  ,  0.34413  , -0.67045  , -0.33305  ,\n",
      "        0.34069  , -0.40519  ,  0.1561   , -0.1154   ,  0.76092  ,\n",
      "        0.58474  ,  0.46913  ,  0.11088  ,  0.018671 , -0.18142  ,\n",
      "       -0.34331  ,  0.32092  ,  0.094817 ,  0.26299  , -1.7466   ,\n",
      "       -0.080278 , -0.70726  , -0.38399  , -0.24015  , -0.16845  ,\n",
      "        0.74608  ,  0.4715   , -0.51143  ,  0.57181  , -0.44642  ,\n",
      "        0.33972  , -0.224    , -0.14648  , -0.76086  ,  0.59095  ],\n",
      "      dtype=float32), 'Hello': 'unknown', 'employeeprotest': 'unknown'}\n"
     ]
    }
   ],
   "source": [
    "custom_tweet='@meera2353 Hello this is very bad that company fired them, not a good day #job #sad #employeeprotest'\n",
    "custom_tweets= tweet_to_vector(custom_tweet)"
   ]
  },
  {
   "cell_type": "code",
   "execution_count": null,
   "metadata": {
    "id": "QrIE-smrKVij"
   },
   "outputs": [],
   "source": [
    "# cont_y_test = []\n",
    "# for i in y_test:\n",
    "#   i = float(i)\n",
    "#   cont_y_test.append(i) \n",
    "\n"
   ]
  },
  {
   "cell_type": "code",
   "execution_count": null,
   "metadata": {
    "id": "F_7SA6XusRQf"
   },
   "outputs": [],
   "source": []
  }
 ],
 "metadata": {
  "accelerator": "GPU",
  "colab": {
   "provenance": []
  },
  "kernelspec": {
   "display_name": "Python 3 (ipykernel)",
   "language": "python",
   "name": "python3"
  },
  "language_info": {
   "codemirror_mode": {
    "name": "ipython",
    "version": 3
   },
   "file_extension": ".py",
   "mimetype": "text/x-python",
   "name": "python",
   "nbconvert_exporter": "python",
   "pygments_lexer": "ipython3",
   "version": "3.9.7"
  }
 },
 "nbformat": 4,
 "nbformat_minor": 1
}
